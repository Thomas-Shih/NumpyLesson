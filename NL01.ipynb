{
 "cells": [
  {
   "cell_type": "markdown",
   "metadata": {
    "toc": true
   },
   "source": [
    "<h1>《NumPy基础教程》<span class=\"tocSkip\"></span></h1>\n",
    "<div class=\"toc\"><ul class=\"toc-item\"><li><span><a href=\"#NumPy简介\" data-toc-modified-id=\"NumPy简介-1\"><span class=\"toc-item-num\">1&nbsp;&nbsp;</span>NumPy简介</a></span></li><li><span><a href=\"#NumPy维度讲解\" data-toc-modified-id=\"NumPy维度讲解-2\"><span class=\"toc-item-num\">2&nbsp;&nbsp;</span>NumPy维度讲解</a></span></li><li><span><a href=\"#NumPy-ndarray对象\" data-toc-modified-id=\"NumPy-ndarray对象-3\"><span class=\"toc-item-num\">3&nbsp;&nbsp;</span>NumPy ndarray对象</a></span></li><li><span><a href=\"#NumPy数组的初始化和创建\" data-toc-modified-id=\"NumPy数组的初始化和创建-4\"><span class=\"toc-item-num\">4&nbsp;&nbsp;</span>NumPy数组的初始化和创建</a></span></li><li><span><a href=\"#NumPy数组的改变形状/维度\" data-toc-modified-id=\"NumPy数组的改变形状/维度-5\"><span class=\"toc-item-num\">5&nbsp;&nbsp;</span>NumPy数组的改变形状/维度</a></span></li><li><span><a href=\"#NumPy的flat迭代器\" data-toc-modified-id=\"NumPy的flat迭代器-6\"><span class=\"toc-item-num\">6&nbsp;&nbsp;</span>NumPy的flat迭代器</a></span></li><li><span><a href=\"#NumPy数组的切片\" data-toc-modified-id=\"NumPy数组的切片-7\"><span class=\"toc-item-num\">7&nbsp;&nbsp;</span>NumPy数组的切片</a></span></li><li><span><a href=\"#NumPy-数组的索引\" data-toc-modified-id=\"NumPy-数组的索引-8\"><span class=\"toc-item-num\">8&nbsp;&nbsp;</span>NumPy 数组的索引</a></span></li><li><span><a href=\"#NumPy数组的合并和分割\" data-toc-modified-id=\"NumPy数组的合并和分割-9\"><span class=\"toc-item-num\">9&nbsp;&nbsp;</span>NumPy数组的合并和分割</a></span></li><li><span><a href=\"#NumPy数组的查找和排序\" data-toc-modified-id=\"NumPy数组的查找和排序-10\"><span class=\"toc-item-num\">10&nbsp;&nbsp;</span>NumPy数组的查找和排序</a></span></li><li><span><a href=\"#NumPy-生成随机数组\" data-toc-modified-id=\"NumPy-生成随机数组-11\"><span class=\"toc-item-num\">11&nbsp;&nbsp;</span>NumPy 生成随机数组</a></span></li><li><span><a href=\"#NumPy数组的统计\" data-toc-modified-id=\"NumPy数组的统计-12\"><span class=\"toc-item-num\">12&nbsp;&nbsp;</span>NumPy数组的统计</a></span></li><li><span><a href=\"#NumPy数组的广播\" data-toc-modified-id=\"NumPy数组的广播-13\"><span class=\"toc-item-num\">13&nbsp;&nbsp;</span>NumPy数组的广播</a></span></li><li><span><a href=\"#NumPy数组的科学运算\" data-toc-modified-id=\"NumPy数组的科学运算-14\"><span class=\"toc-item-num\">14&nbsp;&nbsp;</span>NumPy数组的科学运算</a></span></li><li><span><a href=\"#NumPy的矩阵运算\" data-toc-modified-id=\"NumPy的矩阵运算-15\"><span class=\"toc-item-num\">15&nbsp;&nbsp;</span>NumPy的矩阵运算</a></span></li><li><span><a href=\"#NumPy数组的引用与深复制\" data-toc-modified-id=\"NumPy数组的引用与深复制-16\"><span class=\"toc-item-num\">16&nbsp;&nbsp;</span>NumPy数组的引用与深复制</a></span></li><li><span><a href=\"#NumPy文件存取\" data-toc-modified-id=\"NumPy文件存取-17\"><span class=\"toc-item-num\">17&nbsp;&nbsp;</span>NumPy文件存取</a></span></li><li><span><a href=\"#NumPy高级用法\" data-toc-modified-id=\"NumPy高级用法-18\"><span class=\"toc-item-num\">18&nbsp;&nbsp;</span>NumPy高级用法</a></span></li></ul></div>"
   ]
  },
  {
   "cell_type": "markdown",
   "metadata": {},
   "source": [
    "> **《NumPy基础教程》**\n",
    "-------------------------\n",
    "Author:{时海涛:Thomas.Shih}\t\t\t  \n",
    "Email:147080896@qq.com\t\t  \n",
    "Website:https://www.cnblogs.com/noah0532/  \n",
    "Github:https://github.com/Thomas-Shih/NumpyLesson    \n",
    "\n",
    "-------------------------"
   ]
  },
  {
   "cell_type": "markdown",
   "metadata": {},
   "source": [
    "# NumPy简介  \n",
    "* NumPy的前身是Numeric。Numeric最早发布于1995年，如今已经废弃了。由于种种原因不管是Numeric还是Numpy都没能够进入Python的标准库，需要单独安装。另外，最早Numpy开发后是最为SciPy的一部分，后来才从SciPy中分类出来。如今SciPy在处理数组和矩阵时会调用NumPy。\n",
    "* NumPy是NumericalPython的缩写，是一个开源的Python科学计算库。如果有熟悉Matlab的朋友会知道，他们都源自C语言中的一个叫做LAPACK数值计算库，最初使用Fortran写成的。Numpy的设计初衷就是可以取代Matlab和Mathematica的部分功能。既然是取代功能，在性能上要优于Python原生的数据计算代码，另外还具有简洁直观的表示方式。"
   ]
  },
  {
   "cell_type": "markdown",
   "metadata": {},
   "source": [
    "* 从如下一段代码中可以看到NumPy的优势。通过纯Python计算和NumPy计算，观察代码的简洁程度和计算大型数值所需时间。另外，如果数值过大NumPy会造成数值的溢出。因此我们可以通过增加dtype=float类型计算数值计算的范围  "
   ]
  },
  {
   "cell_type": "code",
   "execution_count": 174,
   "metadata": {},
   "outputs": [],
   "source": [
    "# 计算一个向量的累乘\n",
    "# A：采用Python代码\n",
    "def funcA(n):\n",
    "    a = []\n",
    "    b = []\n",
    "    for i in range(n):\n",
    "        a.append(i+1)\n",
    "    for j in range(len(a)):\n",
    "        if j == 0:\n",
    "            b.append(a[j])\n",
    "        else:\n",
    "            b.append(b[j-1] * a[j])\n",
    "    return b\n",
    "\n",
    "# B：采用Numpy方案\n",
    "import numpy\n",
    "def funcB(n):\n",
    "    a = numpy.arange(n)+1\n",
    "    b = a.cumprod(axis=0)\n",
    "    return b"
   ]
  },
  {
   "cell_type": "code",
   "execution_count": 177,
   "metadata": {
    "collapsed": true
   },
   "outputs": [
    {
     "name": "stdout",
     "output_type": "stream",
     "text": [
      "11.9 ms ± 2.55 ms per loop (mean ± std. dev. of 7 runs, 100 loops each)\n"
     ]
    }
   ],
   "source": [
    "# 再来看一下他们的运行时间\n",
    "%timeit funcA(5000)"
   ]
  },
  {
   "cell_type": "code",
   "execution_count": 178,
   "metadata": {
    "collapsed": true
   },
   "outputs": [
    {
     "name": "stdout",
     "output_type": "stream",
     "text": [
      "24 µs ± 385 ns per loop (mean ± std. dev. of 7 runs, 10000 loops each)\n"
     ]
    }
   ],
   "source": [
    "%timeit funcB(5000)"
   ]
  },
  {
   "cell_type": "markdown",
   "metadata": {
    "hide_input": false,
    "toc-hr-collapsed": true
   },
   "source": [
    "# NumPy维度讲解"
   ]
  },
  {
   "cell_type": "markdown",
   "metadata": {},
   "source": [
    "* 什么是维度（Dimension）  维度从axis = 0 开始。每增加一个维度axis加1。维度是由外向内计数，由内向外延伸。  \n",
    "**这是就存在一个维度下Aixs的情况:**    \n",
    "![Axis0](Pic\\Axis0.png)   \n",
    "**这是存在两个维度下Aixs的情况：**  \n",
    "这里就是Numpy的理解难点和容易误解的地方。也就是说Aixs轴每增加一条，其顺序是从最外层向最里层开始计数的。 Numpy最小的层是一个行向量，因此行向量的轴计数的序号随着维度增加而增加。每一个轴通过逗号进行链接。     \n",
    "![Axis1](Pic\\Axis1.png)  \n",
    "**这是存在三个维度下Aixs的情况：**  \n",
    "![Axis1](Pic\\Axis2.png)   \n",
    "**再高维度的以此类推，这里要说明的就是再高的维度都是在三维的基础上增加一个方向而已。**  "
   ]
  },
  {
   "cell_type": "markdown",
   "metadata": {},
   "source": [
    "* 关于维度的方向操作  "
   ]
  },
  {
   "cell_type": "code",
   "execution_count": 15,
   "metadata": {
    "collapsed": true
   },
   "outputs": [
    {
     "name": "stdout",
     "output_type": "stream",
     "text": [
      "[[1 2 3]\n",
      " [4 5 6]]\n",
      "求每一行的和： [ 6 15]\n",
      "求每一列的和： [5 7 9]\n"
     ]
    }
   ],
   "source": [
    "# 二维计算方向操作\n",
    "import numpy as np\n",
    "array = np.array([1,2,3,4,5,6])\n",
    "array = array.reshape((2,3))\n",
    "print(array)\n",
    "print('求每一行的和：',np.sum(array,axis=1))  # 此时Axis已经变成1了，Axis=0变成列方向（可以理解成一组一组方向）\n",
    "print('求每一列的和：',np.sum(array,axis=0))"
   ]
  },
  {
   "cell_type": "code",
   "execution_count": 36,
   "metadata": {
    "collapsed": true
   },
   "outputs": [
    {
     "name": "stdout",
     "output_type": "stream",
     "text": [
      "[[[1 2]\n",
      "  [3 4]]\n",
      "\n",
      " [[5 6]\n",
      "  [7 8]]]\n",
      "# 求第一个二维数组每一行的和(这里通常的做法是降到二维然后再求和):\n",
      "[3 7]\n"
     ]
    }
   ],
   "source": [
    "# 三维计算方向操作\n",
    "import numpy as np\n",
    "array = np.array([1,2,3,4,5,6,7,8,])\n",
    "array = array.reshape((2,2,2))  # 注意：如果到高维，reshape也是跟Axis表示一样reshape（最外层，中层，底层）\n",
    "print(array)  # 这里是一个三维的数组，由两个2×2的二维数组组成\n",
    "print('# 求第一个二维数组每一行的和(这里通常的做法是降到二维然后再求和):')\n",
    "print(np.sum(array[0][:][:],axis=1))\n"
   ]
  },
  {
   "cell_type": "markdown",
   "metadata": {},
   "source": [
    "* 一维  \n",
    "axis = 0 开始表示一维数值，表示为一组基础行，Numpy的数组是从行开始的"
   ]
  },
  {
   "cell_type": "code",
   "execution_count": 185,
   "metadata": {
    "collapsed": true
   },
   "outputs": [
    {
     "name": "stdout",
     "output_type": "stream",
     "text": [
      "[1 2 3 4]\n",
      "Dimension: 1\n",
      "1\n"
     ]
    }
   ],
   "source": [
    "# 通过Numpy创建数组并命名为array_1D。\n",
    "import numpy as np\n",
    "array_1D = np.array([1,2,3,4])\n",
    "print(array_1D) # 打印一位数组\n",
    "print('Dimension:',array_1D.ndim) #打印一位数组的维度\n",
    "print(array_1D[0])  # 访问一位数组的数值，索引是从0开始的"
   ]
  },
  {
   "cell_type": "markdown",
   "metadata": {},
   "source": [
    "* 二维  \n",
    "axis = 0 表示行(最外侧的中括号表示轴0），axis = 1表示列（再一层的中括号表示轴1）"
   ]
  },
  {
   "cell_type": "code",
   "execution_count": 188,
   "metadata": {
    "collapsed": true
   },
   "outputs": [
    {
     "name": "stdout",
     "output_type": "stream",
     "text": [
      "[[1 2 3 4]\n",
      " [5 6 7 8]]\n",
      "Dimension: 2\n",
      "6\n",
      "6\n"
     ]
    }
   ],
   "source": [
    "# 通过numpy创建二维数组并命名为array_2D\n",
    "import numpy as np\n",
    "array_2D = np.array([[1,2,3,4],\n",
    "                    [5,6,7,8]])\n",
    "print(array_2D)\n",
    "print('Dimension:',array_2D.ndim)\n",
    "print(array_2D[1][1])   # 一般采用两个中括号比较方便一些\n",
    "print(array_2D[1,1])"
   ]
  },
  {
   "cell_type": "markdown",
   "metadata": {},
   "source": [
    "* 三维  \n",
    "axis = 0 表示行(最外侧的中括号表示轴0），axis = 1表示列（再一层的中括号表示轴1），再往里就是axis = 2"
   ]
  },
  {
   "cell_type": "code",
   "execution_count": 193,
   "metadata": {
    "collapsed": true
   },
   "outputs": [
    {
     "name": "stdout",
     "output_type": "stream",
     "text": [
      "[[[1 2]\n",
      "  [3 5]\n",
      "  [5 6]\n",
      "  [7 8]]]\n",
      "Dimension: 3\n",
      "1\n",
      "1\n"
     ]
    }
   ],
   "source": [
    "# 通过numpy创建三维数组array_3D\n",
    "import numpy as np\n",
    "array_3D = np.array([[[1,2],[3,5],\n",
    "                   [5,6],[7,8]]])\n",
    "print(array_3D)\n",
    "print('Dimension:',array_3D.ndim)\n",
    "print(array_3D[0][0][0])   # 采用分开括号的形式更加方便一些\n",
    "print(array_3D[0,0,0])"
   ]
  },
  {
   "cell_type": "markdown",
   "metadata": {},
   "source": [
    "* 四维  \n",
    "以此类推"
   ]
  },
  {
   "cell_type": "code",
   "execution_count": 206,
   "metadata": {
    "collapsed": true
   },
   "outputs": [
    {
     "name": "stdout",
     "output_type": "stream",
     "text": [
      "[[[[1 2]\n",
      "   [3 5]\n",
      "   [5 6]\n",
      "   [7 8]]]\n",
      "\n",
      "\n",
      " [[[1 2]\n",
      "   [3 5]\n",
      "   [5 6]\n",
      "   [7 8]]]]\n",
      "Dimension: 4\n",
      "1\n",
      "1\n"
     ]
    }
   ],
   "source": [
    "# 通过numpy创建四维数组array_4D，建立数组由内往外建\n",
    "import numpy as np\n",
    "array_4D = np.array([[[[1,2],[3,5],\n",
    "                   [5,6],[7,8]]]\n",
    "                    ,\n",
    "                    [[[1,2],[3,5],\n",
    "                   [5,6],[7,8]]]]\n",
    "                   )\n",
    "print(array_4D)\n",
    "print('Dimension:',array_4D.ndim)\n",
    "print(array_4D[0][0][0][0])   # 采用分开括号的形式更加方便一些\n",
    "print(array_4D[0,0,0,0])"
   ]
  },
  {
   "cell_type": "markdown",
   "metadata": {},
   "source": [
    "* 备注：用array创建数组通常还可以用元组的形式进行创建"
   ]
  },
  {
   "cell_type": "code",
   "execution_count": 37,
   "metadata": {
    "collapsed": true
   },
   "outputs": [
    {
     "name": "stdout",
     "output_type": "stream",
     "text": [
      "[[1 2 3]\n",
      " [4 5 6]]\n"
     ]
    }
   ],
   "source": [
    "import numpy as np\n",
    "array_T = np.array(([1,2,3],[4,5,6]))\n",
    "print(array_T)"
   ]
  },
  {
   "cell_type": "markdown",
   "metadata": {},
   "source": [
    "# NumPy ndarray对象"
   ]
  },
  {
   "cell_type": "markdown",
   "metadata": {},
   "source": [
    "* Ndarray属性：  \n",
    "\n",
    "|Ndarary属性总览|属性解释|  \n",
    "|---|---|  \n",
    "|ndarray.ndim|轴（axis）的数量或者维度数量|  \n",
    "|ndarray.shape|数组的维度/形状，对于矩阵，n行m列|  \n",
    "|ndarray.size|数组元素的总个数，相当于n* m的值|    \n",
    "|ndarray.dtype|数组对象的元素类型|  \n",
    "|ndarray.itemsize|数组对象每个元素的大小，以字节为单位|  \n",
    "|ndarray.flags|数组对象的内存信息|  \n",
    "|ndarray.real|数组元素的实部|  \n",
    "|ndarray.imag|数组元素的虚部|  \n",
    "|ndarray.data|包含实际数组元素的缓冲区，有一般通过数组的索引获取元素，通常不需要使用这个属性|  "
   ]
  },
  {
   "cell_type": "code",
   "execution_count": 226,
   "metadata": {
    "collapsed": true
   },
   "outputs": [
    {
     "name": "stdout",
     "output_type": "stream",
     "text": [
      "[[0 1 2]\n",
      " [3 4 5]\n",
      " [6 7 8]]\n",
      "[[0.1+0.j 1.3+0.j 2.4+0.j]\n",
      " [3.4+0.j 4.5+0.j 5.6+0.j]\n",
      " [6.7+0.j 7.9+0.j 8.7+0.j]]\n",
      "数组形状： (3, 3)\n",
      "数组维度： 2\n",
      "数组大小： 9\n",
      "数组每个元素大小： 4\n",
      "数组的实部： [[0.1 1.3 2.4]\n",
      " [3.4 4.5 5.6]\n",
      " [6.7 7.9 8.7]]\n",
      "数组的虚部： [[0. 0. 0.]\n",
      " [0. 0. 0.]\n",
      " [0. 0. 0.]]\n"
     ]
    }
   ],
   "source": [
    "# 创建一个二数数组\n",
    "import numpy as np\n",
    "array1 = np.array([[0,1,2],[3,4,5],[6,7,8]])\n",
    "array2 = np.array([[0,1,2],[3,4,5],[6,7,8]],dtype=complex)\n",
    "print(array1)\n",
    "print(array2)\n",
    "print('数组形状：',array1.shape)\n",
    "print('数组维度：',array1.ndim)\n",
    "print('数组大小：',array1.size)\n",
    "print('数组每个元素大小：',array1.itemsize)\n",
    "print('数组的实部：',array2.real)\n",
    "print('数组的虚部：',array2.imag)"
   ]
  },
  {
   "cell_type": "code",
   "execution_count": null,
   "metadata": {},
   "outputs": [],
   "source": []
  },
  {
   "cell_type": "markdown",
   "metadata": {},
   "source": [
    "# NumPy数组的初始化和创建"
   ]
  },
  {
   "cell_type": "markdown",
   "metadata": {},
   "source": [
    "* 4.1 设定数据类型  \n",
    "new_array = np.array([数组],dtype = np.int/int32/float)"
   ]
  },
  {
   "cell_type": "code",
   "execution_count": 231,
   "metadata": {
    "collapsed": true
   },
   "outputs": [
    {
     "name": "stdout",
     "output_type": "stream",
     "text": [
      "第一个数组： [1 2 3 4]\n",
      "第一个数组的数据类型 int32\n"
     ]
    }
   ],
   "source": [
    "# 不明确规定dtype\n",
    "import numpy as np\n",
    "array1 = np.array([1,2,3,4])\n",
    "print('第一个数组：',array1)\n",
    "print('第一个数组的数据类型',array1.dtype)"
   ]
  },
  {
   "cell_type": "code",
   "execution_count": 233,
   "metadata": {
    "collapsed": true
   },
   "outputs": [
    {
     "name": "stdout",
     "output_type": "stream",
     "text": [
      "第二个数组： [1 2 3 4]\n",
      "第二个数组的数据类型 int64\n"
     ]
    }
   ],
   "source": [
    "# 设置数据类型：int64\n",
    "import numpy as np\n",
    "array2 = np.array([1,2,3,4],dtype=np.int64)\n",
    "print('第二个数组：',array2)\n",
    "print('第二个数组的数据类型',array2.dtype)"
   ]
  },
  {
   "cell_type": "code",
   "execution_count": 234,
   "metadata": {
    "collapsed": true
   },
   "outputs": [
    {
     "name": "stdout",
     "output_type": "stream",
     "text": [
      "第三个数组： [1. 2. 3. 4.]\n",
      "第三个数组的数据类型 float64\n"
     ]
    }
   ],
   "source": [
    "# 设置数据类型：float\n",
    "import numpy as np\n",
    "array3 = np.array([1,2,3,4],dtype=np.float)\n",
    "print('第三个数组：',array3)\n",
    "print('第三个数组的数据类型',array3.dtype)"
   ]
  },
  {
   "cell_type": "markdown",
   "metadata": {},
   "source": [
    "* 虽然我们在创建时，给定两个数组的数值形同，但是他们的数据类型意境不同了\n",
    "* 不设定dtype的时候默认为int64"
   ]
  },
  {
   "cell_type": "markdown",
   "metadata": {},
   "source": [
    "* 4.2 设定维度"
   ]
  },
  {
   "cell_type": "code",
   "execution_count": 237,
   "metadata": {
    "collapsed": true
   },
   "outputs": [
    {
     "name": "stdout",
     "output_type": "stream",
     "text": [
      "[[[1 2 3 4]]]\n",
      "数组的维度： 3\n"
     ]
    }
   ],
   "source": [
    "import numpy as np\n",
    "new_array = np.array([1,2,3,4],ndmin=3)\n",
    "print(new_array)\n",
    "print('数组的维度：',new_array.ndim)"
   ]
  },
  {
   "cell_type": "code",
   "execution_count": 239,
   "metadata": {
    "collapsed": true
   },
   "outputs": [
    {
     "name": "stdout",
     "output_type": "stream",
     "text": [
      "[[1 2 3 4 5]]\n",
      "数组的维度： 2\n"
     ]
    }
   ],
   "source": [
    "# 如果数组的维度不满维度，将当前维度设置为一行\n",
    "import numpy as np\n",
    "new_array = np.array([1,2,3,4,5],ndmin=2)\n",
    "print(new_array)\n",
    "print('数组的维度：',new_array.ndim)"
   ]
  },
  {
   "cell_type": "markdown",
   "metadata": {},
   "source": [
    "* 4.3 初始化由0填满的多维数组"
   ]
  },
  {
   "cell_type": "code",
   "execution_count": 241,
   "metadata": {
    "collapsed": true
   },
   "outputs": [
    {
     "name": "stdout",
     "output_type": "stream",
     "text": [
      "[[0. 0. 0. 0. 0.]\n",
      " [0. 0. 0. 0. 0.]\n",
      " [0. 0. 0. 0. 0.]\n",
      " [0. 0. 0. 0. 0.]\n",
      " [0. 0. 0. 0. 0.]]\n"
     ]
    }
   ],
   "source": [
    "import numpy as np\n",
    "arrayofzeros = np.zeros((5,5))\n",
    "print(arrayofzeros)"
   ]
  },
  {
   "cell_type": "code",
   "execution_count": 244,
   "metadata": {
    "collapsed": true
   },
   "outputs": [
    {
     "name": "stdout",
     "output_type": "stream",
     "text": [
      "[[0 0 0 0 0]\n",
      " [0 0 0 0 0]\n",
      " [0 0 0 0 0]\n",
      " [0 0 0 0 0]\n",
      " [0 0 0 0 0]]\n",
      "数组的数据类型 int32\n"
     ]
    }
   ],
   "source": [
    "# np.zeros((行，列),dtype = np.数据类型) 初始化时可以定义数据类型\n",
    "import numpy as np\n",
    "arrayofzeros = np.zeros((5,5),dtype = np.int)\n",
    "print(arrayofzeros)\n",
    "print('数组的数据类型',arrayofzeros.dtype)"
   ]
  },
  {
   "cell_type": "markdown",
   "metadata": {},
   "source": [
    "* 4.4 初始化由1填满的多维数组"
   ]
  },
  {
   "cell_type": "code",
   "execution_count": 247,
   "metadata": {
    "collapsed": true
   },
   "outputs": [
    {
     "name": "stdout",
     "output_type": "stream",
     "text": [
      "[[1 1 1 1 1]\n",
      " [1 1 1 1 1]\n",
      " [1 1 1 1 1]\n",
      " [1 1 1 1 1]\n",
      " [1 1 1 1 1]]\n",
      "数组的数据类型 int64\n"
     ]
    }
   ],
   "source": [
    "# np.ones内容同上,默认为float64\n",
    "import numpy as np\n",
    "arrayofones = np.ones((5,5),dtype = np.int64)\n",
    "print(arrayofones)\n",
    "print('数组的数据类型',arrayofones.dtype)"
   ]
  },
  {
   "cell_type": "markdown",
   "metadata": {},
   "source": [
    "* 4.5 设置为空的数组"
   ]
  },
  {
   "cell_type": "code",
   "execution_count": 250,
   "metadata": {
    "collapsed": true
   },
   "outputs": [
    {
     "name": "stdout",
     "output_type": "stream",
     "text": [
      "[[1. 1. 1. 1. 1.]\n",
      " [1. 1. 1. 1. 1.]\n",
      " [1. 1. 1. 1. 1.]\n",
      " [1. 1. 1. 1. 1.]\n",
      " [1. 1. 1. 1. 1.]]\n",
      "数组的数据类型 float64\n"
     ]
    }
   ],
   "source": [
    "# np.empyt 同上，无限接近于0但不是为0\n",
    "import numpy as np\n",
    "arrayofempty = np.empty((5,5))\n",
    "print(arrayofempty)\n",
    "print('数组的数据类型',arrayofempty.dtype)"
   ]
  },
  {
   "cell_type": "markdown",
   "metadata": {},
   "source": [
    "* 4.6 等差数列"
   ]
  },
  {
   "cell_type": "code",
   "execution_count": 257,
   "metadata": {
    "collapsed": true
   },
   "outputs": [
    {
     "name": "stdout",
     "output_type": "stream",
     "text": [
      "等差数列： [ 1.  2.  3.  4.  5.  6.  7.  8.  9. 10. 11. 12. 13. 14. 15. 16. 17. 18.\n",
      " 19. 20. 21. 22. 23. 24. 25. 26. 27. 28. 29. 30.]\n"
     ]
    }
   ],
   "source": [
    "# np.linespace (起始值，结束值，步长)\n",
    "import numpy as np\n",
    "line_array = np.linspace(1,30,30)\n",
    "print('等差数列：',line_array)"
   ]
  },
  {
   "cell_type": "markdown",
   "metadata": {},
   "source": [
    "* 4.7 等比数列"
   ]
  },
  {
   "cell_type": "code",
   "execution_count": 261,
   "metadata": {
    "collapsed": true
   },
   "outputs": [
    {
     "name": "stdout",
     "output_type": "stream",
     "text": [
      "等比数列： [  1.  10. 100.]\n"
     ]
    }
   ],
   "source": [
    "# np.logspace (起始值，结束值，元素个数，endpoint=True，base=10.0，dtype=None)\n",
    "# base以什么为底\n",
    "# endpoint 是否为开闭区间\n",
    "import numpy as np\n",
    "log_array = np.logspace(0,2,3)\n",
    "print('等比数列：',log_array)"
   ]
  },
  {
   "cell_type": "markdown",
   "metadata": {},
   "source": [
    "* 4.8 数列"
   ]
  },
  {
   "cell_type": "code",
   "execution_count": 267,
   "metadata": {
    "collapsed": true
   },
   "outputs": [
    {
     "name": "stdout",
     "output_type": "stream",
     "text": [
      "方案一： [ 0  1  2  3  4  5  6  7  8  9 10 11 12 13 14 15 16 17 18 19]\n",
      "方案二： [ 0  1  2  3  4  5  6  7  8  9 10 11 12 13 14 15 16 17 18 19]\n"
     ]
    }
   ],
   "source": [
    "# np.arange (起始值，结束值，步长) 跟Python的arange一样,是闭区间\n",
    "import numpy as np\n",
    "arrayofarange = np.arange(0,20,1)\n",
    "print('方案一：',arrayofarange)\n",
    "# 另外一种用法\n",
    "arrayofarange1 = np.arange(20)\n",
    "print('方案二：',arrayofarange1)"
   ]
  },
  {
   "cell_type": "markdown",
   "metadata": {},
   "source": [
    "* 4.9 从已有的数据中创建数组"
   ]
  },
  {
   "cell_type": "code",
   "execution_count": 46,
   "metadata": {
    "collapsed": true
   },
   "outputs": [
    {
     "name": "stdout",
     "output_type": "stream",
     "text": [
      "[1684234849 1751606885]\n"
     ]
    },
    {
     "name": "stderr",
     "output_type": "stream",
     "text": [
      "c:\\Anaconda3\\lib\\site-packages\\ipykernel_launcher.py:5: DeprecationWarning: The binary mode of fromstring is deprecated, as it behaves surprisingly on unicode inputs. Use frombuffer instead\n",
      "  \"\"\"\n"
     ]
    }
   ],
   "source": [
    "# frombuffer, fromstring, fromfile,fromfunction\n",
    "# 1. 从字符串中进行创建,这种方式很少用，如果字符串尺寸不符合ASCII对等的数组长度将无法创建\n",
    "import numpy as np\n",
    "str = \"abcdefgh\"\n",
    "arrayfromstr = np.fromstring(str,dtype=int)\n",
    "print(arrayfromstr)"
   ]
  },
  {
   "cell_type": "code",
   "execution_count": 49,
   "metadata": {
    "collapsed": true
   },
   "outputs": [
    {
     "name": "stdout",
     "output_type": "stream",
     "text": [
      "[[ 1.  2.  3.  4.  5.  6.  7.  8.  9.]\n",
      " [ 2.  4.  6.  8. 10. 12. 14. 16. 18.]\n",
      " [ 3.  6.  9. 12. 15. 18. 21. 24. 27.]\n",
      " [ 4.  8. 12. 16. 20. 24. 28. 32. 36.]\n",
      " [ 5. 10. 15. 20. 25. 30. 35. 40. 45.]\n",
      " [ 6. 12. 18. 24. 30. 36. 42. 48. 54.]\n",
      " [ 7. 14. 21. 28. 35. 42. 49. 56. 63.]\n",
      " [ 8. 16. 24. 32. 40. 48. 56. 64. 72.]\n",
      " [ 9. 18. 27. 36. 45. 54. 63. 72. 81.]]\n"
     ]
    }
   ],
   "source": [
    "# 2.创建函数，从函数重创建\n",
    "import numpy as np\n",
    "def func(i,j):\n",
    "    return(j+1)*(i+1)\n",
    "arrayfromfunc = np.fromfunction(func,(9,9))\n",
    "print(arrayfromfunc)"
   ]
  },
  {
   "cell_type": "code",
   "execution_count": 50,
   "metadata": {},
   "outputs": [
    {
     "name": "stdout",
     "output_type": "stream",
     "text": [
      "[1 2 3 4 5]\n"
     ]
    }
   ],
   "source": [
    "# 3.从Python列表中进行创建\n",
    "import numpy as np\n",
    "Plist = [1,2,3,4,5]\n",
    "arrayfromlist = np.array(Plist)\n",
    "print(arrayfromlist)"
   ]
  },
  {
   "cell_type": "markdown",
   "metadata": {},
   "source": [
    "* 4.10 结构数组  \n",
    "在C语言中我们可以通过struct关键字定义结构类型，结构中的字段占据连续的内存空间，每个结构体占用的内存大小都相同，因此可以很容易地定义 结构数组。和C语言一样，在NumPy中也很容易对这种结构数组进行操作。只要NumPy中的结构定义和C语言中的定义相同，NumPy就可以很方便地读 取C语言的结构数组的二进制数据，转换为NumPy的结构数组。  \n",
    "描述结构类型的方法： 一个包含多个组元的列表，其中形如 (字段名, 类型描述) 的组元描述了结构中的每个字段。类型描述前面为我们添加了   \n",
    "'|', '  '<' 等字符，这些字符用来描述字段值的字节顺序：  \n",
    "'  | : 忽视字节顺序  \n",
    "'  < : 低位字节在前  \n",
    "'  > : 高位字节在前  \n",
    "'  S32 : 32个字节的字符串类型，由于结构中的每个元素的大小必须固定，因此需要指定字符串的长度  \n",
    "'  i : 32bit的整数类型，相当于np.int32  \n",
    "'  f : 32bit的单精度浮点数类型，相当于np.float32  "
   ]
  },
  {
   "cell_type": "code",
   "execution_count": 53,
   "metadata": {
    "collapsed": true
   },
   "outputs": [
    {
     "name": "stdout",
     "output_type": "stream",
     "text": [
      "[(b'Zhang', 32, 75.5) (b'Wang', 24, 65.2)]\n"
     ]
    }
   ],
   "source": [
    "import numpy as np\n",
    "persontype = np.dtype({\n",
    "    'names':['name','age','weight'],\n",
    "    'formats':['S32','i','f']})\n",
    "a = np.array([('Zhang',32,75.5),('Wang',24,65.2)],dtype=persontype)\n",
    "print(a)"
   ]
  },
  {
   "cell_type": "code",
   "execution_count": null,
   "metadata": {},
   "outputs": [],
   "source": []
  },
  {
   "cell_type": "markdown",
   "metadata": {},
   "source": [
    "# NumPy数组的改变形状/维度"
   ]
  },
  {
   "cell_type": "markdown",
   "metadata": {},
   "source": [
    "* 5.1 reshape  \n",
    "参数有：order = 'C' 'F'，C表示行，F表示列，默认为'C'"
   ]
  },
  {
   "cell_type": "code",
   "execution_count": 277,
   "metadata": {
    "collapsed": true
   },
   "outputs": [
    {
     "name": "stdout",
     "output_type": "stream",
     "text": [
      "原数组：\n",
      "[[1 2 3 4]\n",
      " [5 6 7 8]]\n",
      "新数组1：\n",
      "[[1 2]\n",
      " [3 4]\n",
      " [5 6]\n",
      " [7 8]]\n",
      "新数组2：\n",
      "[[1 3]\n",
      " [5 7]\n",
      " [2 4]\n",
      " [6 8]]\n"
     ]
    }
   ],
   "source": [
    "# 创建一个二维数组\n",
    "import numpy as np\n",
    "array_2D = np.array([[1,2,3,4],[5,6,7,8]])\n",
    "print('原数组：',array_2D,sep = '\\n')\n",
    "# 改变形状，行优先\n",
    "new_array_2D = array_2D.reshape((4,2))\n",
    "print('新数组1：',new_array_2D,sep = '\\n')\n",
    "# 改变形状，列优先\n",
    "new1_array_2D = array_2D.reshape((4,2),order='F')\n",
    "print('新数组2：',new1_array_2D,sep = '\\n')\n",
    "# 由此可见，数组由原来的的2行4列改变为4*2的数组"
   ]
  },
  {
   "cell_type": "code",
   "execution_count": 284,
   "metadata": {
    "collapsed": true
   },
   "outputs": [
    {
     "name": "stdout",
     "output_type": "stream",
     "text": [
      "原始数组：\n",
      "[ 1  2  3  4  5  6  7  8  9 10 11 12 13 14 15 16 17 18 19 20]\n",
      "它的维度： 1\n",
      "\n",
      "改变形状\n",
      "[[[ 1  2  3  4  5]\n",
      "  [ 6  7  8  9 10]]\n",
      "\n",
      " [[11 12 13 14 15]\n",
      "  [16 17 18 19 20]]]\n",
      "新的维度： 3\n",
      "新的形状： (2, 2, 5)\n"
     ]
    }
   ],
   "source": [
    "# 改变三维数组的样式\n",
    "import numpy as np\n",
    "array = np.arange(1,21,1)\n",
    "print('原始数组：')\n",
    "print(array)\n",
    "print('它的维度：',array.ndim)\n",
    "\n",
    "# 这是一个3D数组，有2个2D数组组成，每个2D数组中有5个2D数组\n",
    "# 其中第一个数组表示三维数组的深度，正如上面所说，数组维度是从右向左添加\n",
    "array_3D = array.reshape(2,2,5)\n",
    "print()\n",
    "print('改变形状')\n",
    "print(array_3D)\n",
    "print('新的维度：',array_3D.ndim)\n",
    "print('新的形状：',array_3D.shape)"
   ]
  },
  {
   "cell_type": "markdown",
   "metadata": {},
   "source": [
    "* 5.2 flatten()将数组的副本，转换成一维数组  \n",
    "'C' 'F'分别表示行优先和列优先  \n",
    "不是将原数组改变，而是把副本改变  "
   ]
  },
  {
   "cell_type": "code",
   "execution_count": 285,
   "metadata": {
    "collapsed": true
   },
   "outputs": [
    {
     "name": "stdout",
     "output_type": "stream",
     "text": [
      "[[1 2]\n",
      " [3 4]]\n",
      "[1 2 3 4]\n"
     ]
    }
   ],
   "source": [
    "# 将二维数组摊平，按照行\n",
    "import numpy as np\n",
    "array = np.array([[1,2],[3,4]])\n",
    "print(array)\n",
    "print(array.flatten())"
   ]
  },
  {
   "cell_type": "code",
   "execution_count": 287,
   "metadata": {
    "collapsed": true
   },
   "outputs": [
    {
     "name": "stdout",
     "output_type": "stream",
     "text": [
      "[[1 2]\n",
      " [3 4]]\n",
      "[1 3 2 4]\n"
     ]
    }
   ],
   "source": [
    "# 将二维数组摊平，按照列\n",
    "import numpy as np\n",
    "array = np.array([[1,2],[3,4]])\n",
    "print(array)\n",
    "print(array.flatten(order='F'))"
   ]
  },
  {
   "cell_type": "markdown",
   "metadata": {},
   "source": [
    "* 5.3 ravel()将数组，转换成一维数组  \n",
    "'C' 'F'分别表示行优先和列优先    \n",
    "原数组改变"
   ]
  },
  {
   "cell_type": "code",
   "execution_count": 292,
   "metadata": {
    "collapsed": true
   },
   "outputs": [
    {
     "name": "stdout",
     "output_type": "stream",
     "text": [
      "[1 3 2 4]\n",
      "[[1 2]\n",
      " [3 4]]\n"
     ]
    }
   ],
   "source": [
    "# 将二维数组摊平，按照列\n",
    "import numpy as np\n",
    "array1 = np.array([[1,2],[3,4]])\n",
    "print(np.ravel(array1,order='F'))\n",
    "print(array1)"
   ]
  },
  {
   "cell_type": "markdown",
   "metadata": {},
   "source": [
    "* 5.4 关于-1的妙用  \n",
    "-1在进行numpy操作的时候可以表示任意的意思  "
   ]
  },
  {
   "cell_type": "code",
   "execution_count": 39,
   "metadata": {
    "collapsed": true
   },
   "outputs": [
    {
     "name": "stdout",
     "output_type": "stream",
     "text": [
      "[[1 2 4]\n",
      " [5 6 4]]\n"
     ]
    }
   ],
   "source": [
    "import numpy as np\n",
    "array = np.array((1,2,4,5,6,4))\n",
    "array = array.reshape((2,-1))  # 在这里-1表示改变为2行，列随便\n",
    "print(array)"
   ]
  },
  {
   "cell_type": "code",
   "execution_count": null,
   "metadata": {},
   "outputs": [],
   "source": []
  },
  {
   "cell_type": "markdown",
   "metadata": {},
   "source": [
    "# NumPy的flat迭代器"
   ]
  },
  {
   "cell_type": "markdown",
   "metadata": {},
   "source": [
    "* flatten()是一个方法，而flat是个迭代器。有了迭代器就可以遍历数组中的内容  \n",
    "* 什么是迭代器？  \n",
    "* 迭代器是Python语言中强大功能，能够帮助我们遍历数组或者元素集合  \n",
    "* 什么是flat迭代器？  \n",
    "* 在遍历一维和二维数组时，遍历其中元素的内容"
   ]
  },
  {
   "cell_type": "code",
   "execution_count": 298,
   "metadata": {
    "collapsed": true,
    "jupyter": {
     "outputs_hidden": true
    }
   },
   "outputs": [
    {
     "name": "stdout",
     "output_type": "stream",
     "text": [
      "[ 0  1  2  3  4  5  6  7  8  9 10 11 12 13 14 15 16 17 18 19]\n",
      "0\n",
      "1\n",
      "2\n",
      "3\n",
      "4\n",
      "5\n",
      "6\n",
      "7\n",
      "8\n",
      "9\n",
      "10\n",
      "11\n",
      "12\n",
      "13\n",
      "14\n",
      "15\n",
      "16\n",
      "17\n",
      "18\n",
      "19\n"
     ]
    }
   ],
   "source": [
    "# 遍历一维数组\n",
    "import numpy as np\n",
    "array1 = np.arange(20)\n",
    "print(array1)\n",
    "for element in array1:\n",
    "    print(element)"
   ]
  },
  {
   "cell_type": "code",
   "execution_count": 306,
   "metadata": {
    "collapsed": true,
    "jupyter": {
     "outputs_hidden": true
    }
   },
   "outputs": [
    {
     "name": "stdout",
     "output_type": "stream",
     "text": [
      "[[ 0  1  2  3  4]\n",
      " [ 5  6  7  8  9]\n",
      " [10 11 12 13 14]\n",
      " [15 16 17 18 19]]\n",
      "0\n",
      "1\n",
      "2\n",
      "3\n",
      "4\n",
      "5\n",
      "6\n",
      "7\n",
      "8\n",
      "9\n",
      "10\n",
      "11\n",
      "12\n",
      "13\n",
      "14\n",
      "15\n",
      "16\n",
      "17\n",
      "18\n",
      "19\n"
     ]
    }
   ],
   "source": [
    "# 遍历二维数组\n",
    "import numpy as np\n",
    "array2 = array1.reshape((4,5))\n",
    "print(array2)\n",
    "for row in array2:\n",
    "    for element in row:\n",
    "        print(element)"
   ]
  },
  {
   "cell_type": "code",
   "execution_count": 309,
   "metadata": {
    "collapsed": true,
    "jupyter": {
     "outputs_hidden": true
    }
   },
   "outputs": [
    {
     "name": "stdout",
     "output_type": "stream",
     "text": [
      "[[ 0  1  2  3  4]\n",
      " [ 5  6  7  8  9]\n",
      " [10 11 12 13 14]\n",
      " [15 16 17 18 19]]\n",
      "0\n",
      "1\n",
      "2\n",
      "3\n",
      "4\n",
      "5\n",
      "6\n",
      "7\n",
      "8\n",
      "9\n",
      "10\n",
      "11\n",
      "12\n",
      "13\n",
      "14\n",
      "15\n",
      "16\n",
      "17\n",
      "18\n",
      "19\n"
     ]
    }
   ],
   "source": [
    "# 采用flat的方式更加简便\n",
    "import numpy as np\n",
    "array3 = array1.reshape((4,5))\n",
    "print(array3)\n",
    "for element in array3.flat:\n",
    "    print(element)"
   ]
  },
  {
   "cell_type": "code",
   "execution_count": null,
   "metadata": {},
   "outputs": [],
   "source": []
  },
  {
   "cell_type": "markdown",
   "metadata": {},
   "source": [
    "# NumPy数组的切片  \n",
    "切片可以表示引用"
   ]
  },
  {
   "cell_type": "markdown",
   "metadata": {},
   "source": [
    "* 7.1 引用数组所有元素"
   ]
  },
  {
   "cell_type": "code",
   "execution_count": 313,
   "metadata": {
    "collapsed": true
   },
   "outputs": [
    {
     "name": "stdout",
     "output_type": "stream",
     "text": [
      "[ 0  1  2  3  4  5  6  7  8  9 10 11 12 13 14 15 16 17 18 19]\n",
      "[ 0  1  2  3  4  5  6  7  8  9 10 11 12 13 14 15 16 17 18 19]\n",
      "[ 0  1  2  3  4  5  6  7  8  9 10 11 12 13 14 15 16 17 18 19]\n"
     ]
    }
   ],
   "source": [
    "# 引用数组的所有元素 \n",
    "import numpy as np\n",
    "test_array = np.arange(20)\n",
    "print(test_array)\n",
    "print(test_array[:])\n",
    "print(test_array[...])"
   ]
  },
  {
   "cell_type": "markdown",
   "metadata": {},
   "source": [
    "* 7.2 引用数组所有元素除了0之外"
   ]
  },
  {
   "cell_type": "code",
   "execution_count": 316,
   "metadata": {
    "collapsed": true
   },
   "outputs": [
    {
     "name": "stdout",
     "output_type": "stream",
     "text": [
      "[ 1  2  3  4  5  6  7  8  9 10 11 12 13 14 15 16 17 18 19]\n",
      "19\n",
      "[ 0  1  2  3  4  5  6  7  8  9 10 11 12 13 14 15 16 17 18]\n"
     ]
    }
   ],
   "source": [
    "import numpy as np\n",
    "test_array = np.arange(20)\n",
    "print(test_array[1:])\n",
    "print(test_array[-1])\n",
    "print(test_array[:-1])  # 引用"
   ]
  },
  {
   "cell_type": "markdown",
   "metadata": {},
   "source": [
    "* 7.3 倒叙引用"
   ]
  },
  {
   "cell_type": "code",
   "execution_count": 317,
   "metadata": {
    "collapsed": true
   },
   "outputs": [
    {
     "name": "stdout",
     "output_type": "stream",
     "text": [
      "[19 18 17 16 15 14 13 12 11 10  9  8  7  6  5  4  3  2  1  0]\n"
     ]
    }
   ],
   "source": [
    "print(test_array[::-1])"
   ]
  },
  {
   "cell_type": "markdown",
   "metadata": {},
   "source": [
    "* 7.4 引用数组的值，从1-4"
   ]
  },
  {
   "cell_type": "code",
   "execution_count": 318,
   "metadata": {
    "collapsed": true
   },
   "outputs": [
    {
     "name": "stdout",
     "output_type": "stream",
     "text": [
      "[1 2 3 4]\n"
     ]
    }
   ],
   "source": [
    "print(test_array[1:5:1])"
   ]
  },
  {
   "cell_type": "markdown",
   "metadata": {},
   "source": [
    "* 7.5 行切片"
   ]
  },
  {
   "cell_type": "code",
   "execution_count": 324,
   "metadata": {
    "collapsed": true
   },
   "outputs": [
    {
     "name": "stdout",
     "output_type": "stream",
     "text": [
      "[[ 0  1  2  3  4  5  6  7  8  9]\n",
      " [10 11 12 13 14 15 16 17 18 19]\n",
      " [20 21 22 23 24 25 26 27 28 29]]\n",
      "[10 11 12 13 14 15 16 17 18 19]\n",
      "[10 11 12 13 14 15 16 17 18 19]\n"
     ]
    }
   ],
   "source": [
    "# 生成一个一维数组通过reshape改变他们的形状\n",
    "array = np.arange(30)\n",
    "array_2D = array.reshape((3,10))\n",
    "print(array_2D)\n",
    "print(array_2D[1][:])\n",
    "print(array_2D[1,:])"
   ]
  },
  {
   "cell_type": "markdown",
   "metadata": {},
   "source": [
    "* [1][0]第一个韦智表示是哪一个1D_array数组，后面那个表示全部引用"
   ]
  },
  {
   "cell_type": "markdown",
   "metadata": {},
   "source": [
    "* 7.6 列切片  \n",
    "在NumPy中不能够直接解决这个问题  \n",
    "通过transpose转置的的方式或者array.T，把列转换成行再执行切片"
   ]
  },
  {
   "cell_type": "code",
   "execution_count": 325,
   "metadata": {
    "collapsed": true
   },
   "outputs": [
    {
     "name": "stdout",
     "output_type": "stream",
     "text": [
      "[[ 0  1  2  3  4  5  6  7  8  9]\n",
      " [10 11 12 13 14 15 16 17 18 19]\n",
      " [20 21 22 23 24 25 26 27 28 29]]\n"
     ]
    }
   ],
   "source": [
    "print(array_2D)"
   ]
  },
  {
   "cell_type": "code",
   "execution_count": 327,
   "metadata": {
    "collapsed": true
   },
   "outputs": [
    {
     "name": "stdout",
     "output_type": "stream",
     "text": [
      "[[ 0 10 20]\n",
      " [ 1 11 21]\n",
      " [ 2 12 22]\n",
      " [ 3 13 23]\n",
      " [ 4 14 24]\n",
      " [ 5 15 25]\n",
      " [ 6 16 26]\n",
      " [ 7 17 27]\n",
      " [ 8 18 28]\n",
      " [ 9 19 29]]\n",
      "[ 0 10 20]\n"
     ]
    }
   ],
   "source": [
    "# step1:存储\n",
    "transpose_array = array_2D.T\n",
    "print(transpose_array)\n",
    "# step2:切片\n",
    "print(transpose_array[0][:])"
   ]
  },
  {
   "cell_type": "markdown",
   "metadata": {},
   "source": [
    "* 7.8 切片的应用"
   ]
  },
  {
   "cell_type": "code",
   "execution_count": 328,
   "metadata": {
    "collapsed": true
   },
   "outputs": [
    {
     "name": "stdout",
     "output_type": "stream",
     "text": [
      "[[ 0  1  2  3  4  5  6  7  8  9]\n",
      " [10 11 12 13 14 15 16 17 18 19]\n",
      " [20 21 22 23 24 25 26 27 28 29]]\n"
     ]
    }
   ],
   "source": [
    "# 变化数值\n",
    "print(array_2D)"
   ]
  },
  {
   "cell_type": "code",
   "execution_count": 329,
   "metadata": {
    "collapsed": true
   },
   "outputs": [
    {
     "name": "stdout",
     "output_type": "stream",
     "text": [
      "[[ 0  1  2  3  4  5  6  7  8  9]\n",
      " [ 0  0  0  0  0  0  0  0  0  0]\n",
      " [20 21 22 23 24 25 26 27 28 29]]\n"
     ]
    }
   ],
   "source": [
    "array_2D[1][:] = 0\n",
    "print(array_2D)"
   ]
  },
  {
   "cell_type": "code",
   "execution_count": 331,
   "metadata": {
    "collapsed": true
   },
   "outputs": [
    {
     "name": "stdout",
     "output_type": "stream",
     "text": [
      "[[ 0  0  0  0  0  0  0  0  0  0]\n",
      " [ 0  0  0  0  0  0  0  0  0  0]\n",
      " [20 21 22 23 24 25 26 27 28 29]]\n"
     ]
    }
   ],
   "source": [
    "# 逆转某一行\n",
    "array_2D[0][:] = array_2D[1][:]\n",
    "print(array_2D)"
   ]
  },
  {
   "cell_type": "code",
   "execution_count": null,
   "metadata": {},
   "outputs": [],
   "source": []
  },
  {
   "cell_type": "markdown",
   "metadata": {},
   "source": [
    "# NumPy 数组的索引"
   ]
  },
  {
   "cell_type": "markdown",
   "metadata": {},
   "source": [
    "* 索引可以理解为一种工具，我们能够用它快速的查找需要的数据，在矩阵或者表格中，数据的索引相当于所在的行与列"
   ]
  },
  {
   "cell_type": "markdown",
   "metadata": {},
   "source": [
    "* 8.1 整数索引"
   ]
  },
  {
   "cell_type": "markdown",
   "metadata": {},
   "source": [
    "* 给定一个2维数组，如何只输出7？"
   ]
  },
  {
   "cell_type": "code",
   "execution_count": 332,
   "metadata": {
    "collapsed": true
   },
   "outputs": [
    {
     "name": "stdout",
     "output_type": "stream",
     "text": [
      "[[1 2 3 4]\n",
      " [5 6 7 8]]\n"
     ]
    }
   ],
   "source": [
    "import numpy as np\n",
    "a = np.array([[1,2,3,4],[5,6,7,8]])\n",
    "print(a)"
   ]
  },
  {
   "cell_type": "markdown",
   "metadata": {},
   "source": [
    "* 找到索引值进行查找"
   ]
  },
  {
   "cell_type": "code",
   "execution_count": 333,
   "metadata": {
    "collapsed": true
   },
   "outputs": [
    {
     "name": "stdout",
     "output_type": "stream",
     "text": [
      "7\n"
     ]
    }
   ],
   "source": [
    "print(a[1][2])"
   ]
  },
  {
   "cell_type": "markdown",
   "metadata": {},
   "source": [
    "* 8.2 什么是布尔索引"
   ]
  },
  {
   "cell_type": "code",
   "execution_count": 336,
   "metadata": {
    "collapsed": true
   },
   "outputs": [
    {
     "name": "stdout",
     "output_type": "stream",
     "text": [
      "[ 1  2  3  4  5  6  7  8  9 10 11 12 13 14 15 16 17 18 19]\n",
      "[False False False False  True  True  True  True  True  True  True  True\n",
      "  True  True  True  True  True  True  True]\n"
     ]
    }
   ],
   "source": [
    "import numpy as np\n",
    "array1 = np.arange(1,20,1)\n",
    "print(array1)\n",
    "print(array1>4)"
   ]
  },
  {
   "cell_type": "markdown",
   "metadata": {},
   "source": [
    "* 8.3 通过布尔索引，可以直接调取在这个范围的值，例如原数组所有大于4的值"
   ]
  },
  {
   "cell_type": "code",
   "execution_count": 337,
   "metadata": {
    "collapsed": true
   },
   "outputs": [
    {
     "name": "stdout",
     "output_type": "stream",
     "text": [
      "[ 5  6  7  8  9 10 11 12 13 14 15 16 17 18 19]\n"
     ]
    }
   ],
   "source": [
    "print(array1[array1>4])"
   ]
  },
  {
   "cell_type": "markdown",
   "metadata": {},
   "source": [
    "* 8.4 布尔索引对字符串的操作"
   ]
  },
  {
   "cell_type": "code",
   "execution_count": 338,
   "metadata": {
    "collapsed": true
   },
   "outputs": [
    {
     "name": "stdout",
     "output_type": "stream",
     "text": [
      "['李二' '刘三' '张四' '王五']\n"
     ]
    }
   ],
   "source": [
    "name_array = np.array(['李二','刘三','张四','王五'])\n",
    "print(name_array)"
   ]
  },
  {
   "cell_type": "code",
   "execution_count": 339,
   "metadata": {
    "collapsed": true
   },
   "outputs": [
    {
     "name": "stdout",
     "output_type": "stream",
     "text": [
      "['刘三']\n"
     ]
    }
   ],
   "source": [
    "print(name_array[np.char.startswith(name_array,'刘')])"
   ]
  },
  {
   "cell_type": "markdown",
   "metadata": {},
   "source": [
    "* 8.5 花式索引等价函数：take和put"
   ]
  },
  {
   "cell_type": "code",
   "execution_count": 55,
   "metadata": {
    "collapsed": true
   },
   "outputs": [
    {
     "name": "stdout",
     "output_type": "stream",
     "text": [
      "[  0 100 200 300 400 500 600 700 800 900]\n",
      "[7, 1, 2, 6]\n",
      "[  0  42  42 300 400 500  42  42 800 900]\n"
     ]
    }
   ],
   "source": [
    "arr = np.arange(10) * 100\n",
    "print(arr)\n",
    "inds = [7, 1, 2, 6]\n",
    "print(inds)\n",
    "arr.take(inds)\n",
    "arr.put(inds,42)\n",
    "print(arr)"
   ]
  },
  {
   "cell_type": "code",
   "execution_count": null,
   "metadata": {},
   "outputs": [],
   "source": []
  },
  {
   "cell_type": "markdown",
   "metadata": {},
   "source": [
    "# NumPy数组的合并和分割"
   ]
  },
  {
   "cell_type": "markdown",
   "metadata": {},
   "source": [
    "* 9.1 垂直方向上的合并"
   ]
  },
  {
   "cell_type": "code",
   "execution_count": 340,
   "metadata": {
    "collapsed": true
   },
   "outputs": [
    {
     "name": "stdout",
     "output_type": "stream",
     "text": [
      "[[1 2 3 4]\n",
      " [5 6 7 8]]\n",
      "\n",
      "[[ 9 10 11 12]\n",
      " [13 14 15 16]]\n"
     ]
    }
   ],
   "source": [
    "import numpy as np\n",
    "array1 = np.arange(1,9,1).reshape((2,4))\n",
    "array2 = np.arange(9,17,1).reshape((2,4))\n",
    "print(array1)\n",
    "print()\n",
    "print(array2)"
   ]
  },
  {
   "cell_type": "code",
   "execution_count": 341,
   "metadata": {
    "collapsed": true
   },
   "outputs": [
    {
     "name": "stdout",
     "output_type": "stream",
     "text": [
      "[[ 1  2  3  4]\n",
      " [ 5  6  7  8]\n",
      " [ 9 10 11 12]\n",
      " [13 14 15 16]]\n"
     ]
    }
   ],
   "source": [
    "vertical_stacking = np.vstack((array1,array2))\n",
    "print(vertical_stacking)"
   ]
  },
  {
   "cell_type": "markdown",
   "metadata": {},
   "source": [
    "* 9.2 水平方向上的合并"
   ]
  },
  {
   "cell_type": "code",
   "execution_count": 342,
   "metadata": {
    "collapsed": true
   },
   "outputs": [
    {
     "name": "stdout",
     "output_type": "stream",
     "text": [
      "[[ 1  2  3  4  9 10 11 12]\n",
      " [ 5  6  7  8 13 14 15 16]]\n"
     ]
    }
   ],
   "source": [
    "horizontal_stacking = np.hstack((array1,array2))\n",
    "print(horizontal_stacking)"
   ]
  },
  {
   "cell_type": "markdown",
   "metadata": {},
   "source": [
    "* 9.3 水平方向上的分割"
   ]
  },
  {
   "cell_type": "code",
   "execution_count": 344,
   "metadata": {
    "collapsed": true
   },
   "outputs": [
    {
     "name": "stdout",
     "output_type": "stream",
     "text": [
      "[array([[1, 2, 3, 4],\n",
      "       [5, 6, 7, 8]]), array([[ 9, 10, 11, 12],\n",
      "       [13, 14, 15, 16]])]\n",
      "[[1 2 3 4]\n",
      " [5 6 7 8]]\n",
      "[[ 9 10 11 12]\n",
      " [13 14 15 16]]\n"
     ]
    }
   ],
   "source": [
    "horizontal_spliting = np.hsplit(horizontal_stacking,2)\n",
    "print(horizontal_spliting)\n",
    "print(horizontal_spliting[0])\n",
    "print(horizontal_spliting[1])"
   ]
  },
  {
   "cell_type": "markdown",
   "metadata": {},
   "source": [
    "* 9.4 垂直方向上的分割"
   ]
  },
  {
   "cell_type": "code",
   "execution_count": 346,
   "metadata": {
    "collapsed": true
   },
   "outputs": [
    {
     "name": "stdout",
     "output_type": "stream",
     "text": [
      "[array([[ 1,  2,  3,  4,  9, 10, 11, 12]]), array([[ 5,  6,  7,  8, 13, 14, 15, 16]])]\n",
      "[[ 1  2  3  4  9 10 11 12]]\n",
      "[[ 5  6  7  8 13 14 15 16]]\n"
     ]
    }
   ],
   "source": [
    "vertical_spliting = np.vsplit(horizontal_stacking,2)\n",
    "print(vertical_spliting)\n",
    "print(vertical_spliting[0])\n",
    "print(vertical_spliting[1])"
   ]
  },
  {
   "cell_type": "markdown",
   "metadata": {},
   "source": [
    "* 9.5 r_ 与 c_ 快捷堆叠  \n",
    "故名思议，r_是按照行进行堆叠，c_是按照列进行堆叠  "
   ]
  },
  {
   "cell_type": "code",
   "execution_count": 44,
   "metadata": {
    "collapsed": true
   },
   "outputs": [
    {
     "name": "stdout",
     "output_type": "stream",
     "text": [
      "[[0 1]\n",
      " [2 3]\n",
      " [4 5]]\n",
      "[[-0.44081789 -1.19727861]\n",
      " [ 0.56199366 -1.02235526]\n",
      " [ 0.76275387  1.55888177]]\n"
     ]
    }
   ],
   "source": [
    "arr = np.arange(6)\n",
    "arr1 = arr.reshape((3, 2))\n",
    "arr2 = np.random.randn(3, 2)\n",
    "print(arr1)\n",
    "print(arr2)"
   ]
  },
  {
   "cell_type": "code",
   "execution_count": 46,
   "metadata": {
    "collapsed": true
   },
   "outputs": [
    {
     "name": "stdout",
     "output_type": "stream",
     "text": [
      "[[ 0.          1.        ]\n",
      " [ 2.          3.        ]\n",
      " [ 4.          5.        ]\n",
      " [-0.44081789 -1.19727861]\n",
      " [ 0.56199366 -1.02235526]\n",
      " [ 0.76275387  1.55888177]]\n"
     ]
    }
   ],
   "source": [
    "# r_\n",
    "print(np.r_[arr1,arr2])"
   ]
  },
  {
   "cell_type": "code",
   "execution_count": 47,
   "metadata": {
    "collapsed": true
   },
   "outputs": [
    {
     "name": "stdout",
     "output_type": "stream",
     "text": [
      "[[ 0.          1.         -0.44081789 -1.19727861]\n",
      " [ 2.          3.          0.56199366 -1.02235526]\n",
      " [ 4.          5.          0.76275387  1.55888177]]\n"
     ]
    }
   ],
   "source": [
    "# c_\n",
    "print(np.c_[arr1,arr2])"
   ]
  },
  {
   "cell_type": "code",
   "execution_count": null,
   "metadata": {},
   "outputs": [],
   "source": []
  },
  {
   "cell_type": "markdown",
   "metadata": {},
   "source": [
    "# NumPy数组的查找和排序"
   ]
  },
  {
   "cell_type": "markdown",
   "metadata": {},
   "source": [
    "* 参数  \n",
    "array：数组\n",
    "axis：轴  \n",
    "kind：算法：默认为quicksort快速排序  \n",
    "order：表示按照行列进行排序  \n",
    "kind算法种类：  \n",
    "quicksort快速排序     \n",
    "![quicksort快速排序](https://upload.wikimedia.org/wikipedia/commons/6/6a/Sorting_quicksort_anim.gif)    \n",
    "mergesort混合排序      \n",
    "![mergesort混合排序](https://blog.digilentinc.com/wp-content/uploads/2015/01/mergesort.gif)    \n",
    "heapsort堆排序    \n",
    "![heapsort堆排序](https://upload.wikimedia.org/wikipedia/commons/4/4d/Heapsort-example.gif)    "
   ]
  },
  {
   "cell_type": "markdown",
   "metadata": {},
   "source": [
    "* 10.1 numpy.sort(array) 返回排序结果\n",
    "\n"
   ]
  },
  {
   "cell_type": "code",
   "execution_count": 349,
   "metadata": {
    "collapsed": true
   },
   "outputs": [
    {
     "name": "stdout",
     "output_type": "stream",
     "text": [
      "[ 2  3  5 14]\n"
     ]
    }
   ],
   "source": [
    "import numpy as np\n",
    "a = np.array([5,3,2,14])\n",
    "print(np.sort(a))"
   ]
  },
  {
   "cell_type": "markdown",
   "metadata": {},
   "source": [
    "* 10.2 numpy.argsort(array)返回数组的排序后元素的位置"
   ]
  },
  {
   "cell_type": "code",
   "execution_count": 350,
   "metadata": {
    "collapsed": true
   },
   "outputs": [
    {
     "name": "stdout",
     "output_type": "stream",
     "text": [
      "[4 3 2 1 0]\n"
     ]
    }
   ],
   "source": [
    "b = np.array([5,4,3,2,1])\n",
    "print(np.argsort(b))"
   ]
  },
  {
   "cell_type": "markdown",
   "metadata": {},
   "source": [
    "* 10.3 numpy.lexsort((array1,array2))两个数组直接，按照array2比较，返回元素位置"
   ]
  },
  {
   "cell_type": "code",
   "execution_count": 352,
   "metadata": {
    "collapsed": true
   },
   "outputs": [
    {
     "name": "stdout",
     "output_type": "stream",
     "text": [
      "[3 2 1 0]\n"
     ]
    }
   ],
   "source": [
    "a1 = np.array([1,2,3,4])\n",
    "a2 = np.array([4,3,2,1])\n",
    "print(np.lexsort((a1,a2)))"
   ]
  },
  {
   "cell_type": "markdown",
   "metadata": {},
   "source": [
    "* 10.4 numpy.searchsorted    \n",
    "有序数组中查找元素"
   ]
  },
  {
   "cell_type": "code",
   "execution_count": 57,
   "metadata": {
    "collapsed": true
   },
   "outputs": [
    {
     "name": "stdout",
     "output_type": "stream",
     "text": [
      "[ 0  1  7 12 15]\n",
      "3\n"
     ]
    }
   ],
   "source": [
    "# 二分法查找，如无此值，对应位置进行超如并返回这个索引位置\n",
    "arr = np.array([0, 1, 7, 12, 15])\n",
    "print(arr)\n",
    "print(arr.searchsorted()"
   ]
  },
  {
   "cell_type": "code",
   "execution_count": 58,
   "metadata": {
    "collapsed": true
   },
   "outputs": [
    {
     "data": {
      "text/plain": [
       "array([3, 7], dtype=int64)"
      ]
     },
     "execution_count": 58,
     "metadata": {},
     "output_type": "execute_result"
    }
   ],
   "source": [
    "# 按照所有顺序查找\n",
    "arr = np.array([0, 0, 0, 1, 1, 1, 1])\n",
    "arr.searchsorted([0, 1], side='right')"
   ]
  },
  {
   "cell_type": "code",
   "execution_count": 61,
   "metadata": {
    "collapsed": true
   },
   "outputs": [
    {
     "name": "stdout",
     "output_type": "stream",
     "text": [
      "[7400. 6625. 3084.  215. 3471. 2335. 7629. 2726. 5224. 3732. 9654. 4917.\n",
      " 8165. 8994. 2446. 9014. 6326. 5906. 1927. 8249. 9314. 2216.  782. 6252.\n",
      " 6047. 5835. 2904. 1283. 5878. 9083. 5414. 5857. 3021. 5471. 2791. 5325.\n",
      " 6493. 6727. 7662.  933. 1812. 6528. 1629. 2243. 8864. 1249. 6626. 5944.\n",
      " 5212. 4743.]\n",
      "[    0   100  1000  5000 10000]\n",
      "[4 4 3 2 3 3 4 3 4 3 4 3 4 4 3 4 4 4 3 4 4 3 2 4 4 4 3 3 4 4 4 4 3 4 3 4 4\n",
      " 4 4 2 3 4 3 3 4 3 4 4 4 3]\n"
     ]
    }
   ],
   "source": [
    "# 假设有一个数据数组，从0-10000之间，我们有一个面元边界数组，\n",
    "# 用这个数据数组进行拆分\n",
    "data = np.floor(np.random.uniform(0, 10000, size=50))\n",
    "bins = np.array([0, 100, 1000, 5000, 10000])\n",
    "print(data)\n",
    "print(bins)\n",
    "labels = bins.searchsorted(data)\n",
    "print(labels)"
   ]
  },
  {
   "cell_type": "code",
   "execution_count": null,
   "metadata": {},
   "outputs": [],
   "source": []
  },
  {
   "cell_type": "markdown",
   "metadata": {},
   "source": [
    "# NumPy 生成随机数组"
   ]
  },
  {
   "cell_type": "markdown",
   "metadata": {},
   "source": [
    "* 11.1 random.rand(d1,d2,d3,...,dn)\n",
    "生成[0.1)均匀分布的浮点数，括号的参数表示可以设定dimension，如果为空，只生成一个随机数"
   ]
  },
  {
   "cell_type": "code",
   "execution_count": 356,
   "metadata": {
    "collapsed": true
   },
   "outputs": [
    {
     "name": "stdout",
     "output_type": "stream",
     "text": [
      "0.24191738478504898\n",
      "[[0.97306434 0.9414278  0.65350765 0.70889039 0.43568945]\n",
      " [0.84341477 0.57196064 0.33985932 0.38222731 0.85277251]\n",
      " [0.6727899  0.31021169 0.75729922 0.52601223 0.16075646]\n",
      " [0.57079246 0.27252574 0.46468878 0.97981085 0.61272919]\n",
      " [0.64074042 0.71792374 0.06836849 0.50251244 0.38181361]]\n"
     ]
    }
   ],
   "source": [
    "import numpy as np\n",
    "random = np.random.rand()\n",
    "print(random)\n",
    "random2 = np.random.rand(5,5)\n",
    "print(random2)"
   ]
  },
  {
   "cell_type": "markdown",
   "metadata": {},
   "source": [
    "* 11.2 random.random(d1,d2,d3,...,dn) 生成[0.1)均匀分布的浮点数，括号的参数表示可以设定dimension，如果为空，只生成一个随机数"
   ]
  },
  {
   "cell_type": "code",
   "execution_count": 359,
   "metadata": {
    "collapsed": true
   },
   "outputs": [
    {
     "name": "stdout",
     "output_type": "stream",
     "text": [
      "[[0.7762535  0.24275038 0.20671072 0.01542438 0.82402331]\n",
      " [0.76161259 0.30847037 0.10862162 0.24447675 0.49265518]\n",
      " [0.16525735 0.21793097 0.29719738 0.01862964 0.9591814 ]\n",
      " [0.45019002 0.16951859 0.05308662 0.00628708 0.03221781]\n",
      " [0.44039422 0.51091757 0.00570196 0.96378797 0.18069057]]\n"
     ]
    }
   ],
   "source": [
    "import numpy as np\n",
    "random3 = np.random.random((5,5))\n",
    "print(random3)"
   ]
  },
  {
   "cell_type": "markdown",
   "metadata": {},
   "source": [
    "* 11.1 和 11.2一样，但是写法不一样"
   ]
  },
  {
   "cell_type": "markdown",
   "metadata": {},
   "source": [
    "* 11.3 random.randn(d1,d2,d3,...,dn)生成正态分布的数"
   ]
  },
  {
   "cell_type": "code",
   "execution_count": 365,
   "metadata": {
    "collapsed": true,
    "jupyter": {
     "outputs_hidden": true
    }
   },
   "outputs": [
    {
     "name": "stdout",
     "output_type": "stream",
     "text": [
      "[[-0.71514249 -0.89115423 -1.56065755 -1.0811938   0.8342601   0.36245712\n",
      "  -1.12306608  0.47577123  0.76543189 -2.27787576  1.71676724  1.39627291\n",
      "  -1.55265358 -0.01827833 -1.16318894 -0.75380231  0.17911892 -1.83592491\n",
      "   0.7755098   0.33881866 -2.41891693  1.0900108  -0.77216314 -1.79352768\n",
      "   0.57683211  2.41964896 -0.84900703  0.46879045 -2.0068036  -1.03281351\n",
      "   1.90178644  0.47322343 -0.86686671  0.3459517  -0.1255054   1.4010728\n",
      "  -1.00370471 -1.21460937 -0.95098311  0.59901501  0.22194973 -0.84855181\n",
      "  -0.8384004   0.54420498 -0.47656561 -0.11979501  0.07938018  0.24833683\n",
      "   1.12951029 -0.11887439 -1.47312467 -0.80688281 -0.35043892 -1.05180145\n",
      "  -0.04874125 -0.79636021  1.16619376  1.10969825  1.43311502 -1.56061057\n",
      "  -1.23158491 -0.43221031  0.51858042  0.80743667  0.31897722 -0.64722124\n",
      "  -0.30030136  1.16783949 -0.6625864  -1.10363357 -2.03621482  1.21377277\n",
      "  -0.63474472  0.34206696  2.12432527  0.40381475 -1.29299798 -0.73142311\n",
      "  -1.00597185 -0.08897061 -0.351688   -1.75682798 -0.64488771  0.16318118\n",
      "  -0.24010098 -1.26785645  0.89853557  0.16238283  0.98734051 -0.59089967\n",
      "  -1.16391896  0.64558722 -0.27142998 -0.42104958  0.68632552 -0.67313365\n",
      "   0.37802455  1.18804496  1.00139191 -0.52558835]]\n"
     ]
    }
   ],
   "source": [
    "random4 = np.random.randn(1,100)\n",
    "print(random4)"
   ]
  },
  {
   "cell_type": "code",
   "execution_count": 366,
   "metadata": {
    "collapsed": true
   },
   "outputs": [
    {
     "data": {
      "text/plain": [
       "<matplotlib.axes._subplots.AxesSubplot at 0x1a063ecda08>"
      ]
     },
     "execution_count": 366,
     "metadata": {},
     "output_type": "execute_result"
    },
    {
     "data": {
      "image/png": "[encoded data removed]",
      "text/plain": [
       "<Figure size 432x288 with 1 Axes>"
      ]
     },
     "metadata": {
      "needs_background": "light"
     },
     "output_type": "display_data"
    }
   ],
   "source": [
    "# 利用seaborn\n",
    "import seaborn as sns\n",
    "sns.distplot(random4,bins='auto',kde=1)"
   ]
  },
  {
   "cell_type": "markdown",
   "metadata": {},
   "source": [
    "* 11.4 random.randint(low,high,(d1,d2,d3,...dn)  \n",
    "如果参数为(10,size=10)意味着随机数值在[0,10)，数组是一位数组有10个元素  \n",
    "如果参数为(5,10,size=10)意味着随机数值在[5,10)，数组是一位数组"
   ]
  },
  {
   "cell_type": "code",
   "execution_count": 368,
   "metadata": {
    "collapsed": true
   },
   "outputs": [
    {
     "name": "stdout",
     "output_type": "stream",
     "text": [
      "[0 3 0 1 0 6 2 3 1 3]\n"
     ]
    }
   ],
   "source": [
    "a1 = np.random.randint(10,size=10)\n",
    "print(a1)"
   ]
  },
  {
   "cell_type": "code",
   "execution_count": 375,
   "metadata": {
    "collapsed": true
   },
   "outputs": [
    {
     "name": "stdout",
     "output_type": "stream",
     "text": [
      "[8 6 9 6 9 6 6 9 8 7]\n"
     ]
    }
   ],
   "source": [
    "a2 = np.random.randint(5,10,size=10)\n",
    "print(a2)"
   ]
  },
  {
   "cell_type": "markdown",
   "metadata": {},
   "source": [
    "* 11.5 random.seed(int)  \n",
    "设定随机种子，种子相同，生成的随机数组相同  \n",
    "我们在生成随机数组之前，先设定一个种子   \n",
    "种子相同所生成的随机数都是相同的"
   ]
  },
  {
   "cell_type": "code",
   "execution_count": 373,
   "metadata": {
    "collapsed": true
   },
   "outputs": [
    {
     "name": "stdout",
     "output_type": "stream",
     "text": [
      "[0.77132064 0.02075195 0.63364823 0.74880388 0.49850701 0.22479665\n",
      " 0.19806286 0.76053071 0.16911084 0.08833981]\n"
     ]
    }
   ],
   "source": [
    "np.random.seed(10)\n",
    "print(np.random.random(10))"
   ]
  },
  {
   "cell_type": "markdown",
   "metadata": {},
   "source": [
    "* 现在不设置种子，生成一个大小相同的数组"
   ]
  },
  {
   "cell_type": "code",
   "execution_count": 374,
   "metadata": {
    "collapsed": true
   },
   "outputs": [
    {
     "name": "stdout",
     "output_type": "stream",
     "text": [
      "[0.68535982 0.95339335 0.00394827 0.51219226 0.81262096 0.61252607\n",
      " 0.72175532 0.29187607 0.91777412 0.71457578]\n"
     ]
    }
   ],
   "source": [
    "print(np.random.random(10))"
   ]
  },
  {
   "cell_type": "markdown",
   "metadata": {},
   "source": [
    "* 11.6 random.shuffle  \n",
    "shuffle就是打乱的意思  \n",
    "先用arange生成一个有序数组，然后打乱他 "
   ]
  },
  {
   "cell_type": "code",
   "execution_count": 376,
   "metadata": {
    "collapsed": true
   },
   "outputs": [
    {
     "name": "stdout",
     "output_type": "stream",
     "text": [
      "[ 0  1  2  3  4  5  6  7  8  9 10 11 12 13 14 15 16 17 18 19]\n"
     ]
    }
   ],
   "source": [
    "array = np.arange(20)\n",
    "print(array)"
   ]
  },
  {
   "cell_type": "code",
   "execution_count": 380,
   "metadata": {
    "collapsed": true
   },
   "outputs": [
    {
     "name": "stdout",
     "output_type": "stream",
     "text": [
      "[ 6 17  2 19  9 16 15  4 14 18 10  5  7 11  8  3  1  0 13 12]\n"
     ]
    }
   ],
   "source": [
    "np.random.shuffle(array)\n",
    "print(array)"
   ]
  },
  {
   "cell_type": "markdown",
   "metadata": {},
   "source": [
    "* 11.7 random.choice(a,size=None,replace=False,p=None/数组array）  \n",
    "a:一维数组的任意整数  \n",
    "size：抽出来数组的形状，可以是整数或者元组（m,n,k），最后生成的数组大小为mnk，如果size=None，返回一个值。  \n",
    "replace：表示是否可以重复利用元素，默认为False  \n",
    "p：为抽取概率，值越大概率越高"
   ]
  },
  {
   "cell_type": "markdown",
   "metadata": {},
   "source": [
    "* 首先Python会用arange(10)生成给一个数组，然后抽取三个元素"
   ]
  },
  {
   "cell_type": "code",
   "execution_count": 383,
   "metadata": {
    "collapsed": true
   },
   "outputs": [
    {
     "name": "stdout",
     "output_type": "stream",
     "text": [
      "[0 4 6]\n"
     ]
    }
   ],
   "source": [
    "print(np.random.choice(10,3))"
   ]
  },
  {
   "cell_type": "markdown",
   "metadata": {},
   "source": [
    "* p如果是一个一维数组，size必须和抽取的数组相同，因为p中每个元素对应被抽取数组的数值的位置，p数组的值，代表被抽取数组的元素出现概率  \n",
    "* 下面会设置一个0-9的数组并设置为，位置5抽取概率为100%，其他抽取概率为0%，并设置抽取可重复，就会得到一个数组"
   ]
  },
  {
   "cell_type": "code",
   "execution_count": 386,
   "metadata": {
    "collapsed": true
   },
   "outputs": [
    {
     "name": "stdout",
     "output_type": "stream",
     "text": [
      "[5 5 5]\n"
     ]
    }
   ],
   "source": [
    "print(np.random.choice(10,3,replace=True,p=[0,0,0,0,0,1,0,0,0,0]))"
   ]
  },
  {
   "cell_type": "code",
   "execution_count": null,
   "metadata": {},
   "outputs": [],
   "source": []
  },
  {
   "cell_type": "markdown",
   "metadata": {},
   "source": [
    "# NumPy数组的统计"
   ]
  },
  {
   "cell_type": "code",
   "execution_count": null,
   "metadata": {},
   "outputs": [],
   "source": [
    "# 生成随机数组，生成5*5的随机数组\n",
    "import numpy as np\n",
    "random_array = np.random.random((5,5))"
   ]
  },
  {
   "cell_type": "markdown",
   "metadata": {},
   "source": [
    "* 12.1 min(axis = 0/1 )可以分别得到各列与各行的最小值，如果不设置，则得到整个数组的最小值\n",
    "* 12.2 max与上相同"
   ]
  },
  {
   "cell_type": "code",
   "execution_count": 388,
   "metadata": {
    "collapsed": true
   },
   "outputs": [
    {
     "name": "stdout",
     "output_type": "stream",
     "text": [
      "[[0.66465547 0.37744066 0.74758197 0.14057578 0.38804945]\n",
      " [0.86649164 0.95685333 0.48655367 0.10593306 0.34003729]\n",
      " [0.83557079 0.46544163 0.09285611 0.85469414 0.33725819]\n",
      " [0.60614675 0.1126646  0.54392045 0.72079858 0.86581537]\n",
      " [0.14670112 0.10338107 0.49055468 0.02917956 0.59486095]]\n"
     ]
    }
   ],
   "source": [
    "import numpy as np\n",
    "random_array = np.random.rand(5,5)\n",
    "print(random_array)"
   ]
  },
  {
   "cell_type": "code",
   "execution_count": 389,
   "metadata": {
    "collapsed": true
   },
   "outputs": [
    {
     "name": "stdout",
     "output_type": "stream",
     "text": [
      "0.029179555725059814\n"
     ]
    }
   ],
   "source": [
    "print(np.min(random_array))"
   ]
  },
  {
   "cell_type": "code",
   "execution_count": 391,
   "metadata": {
    "collapsed": true
   },
   "outputs": [
    {
     "name": "stdout",
     "output_type": "stream",
     "text": [
      "[0.14670112 0.10338107 0.09285611 0.02917956 0.33725819]\n"
     ]
    }
   ],
   "source": [
    "# 各列的最小值\n",
    "print(np.min(random_array,axis=0))  "
   ]
  },
  {
   "cell_type": "code",
   "execution_count": 392,
   "metadata": {
    "collapsed": true
   },
   "outputs": [
    {
     "name": "stdout",
     "output_type": "stream",
     "text": [
      "[0.14057578 0.10593306 0.09285611 0.1126646  0.02917956]\n"
     ]
    }
   ],
   "source": [
    "# 各行的最小值\n",
    "print(np.min(random_array,axis=1))"
   ]
  },
  {
   "cell_type": "markdown",
   "metadata": {},
   "source": [
    "* 12.3 mean 求平均值"
   ]
  },
  {
   "cell_type": "code",
   "execution_count": 393,
   "metadata": {
    "collapsed": true
   },
   "outputs": [
    {
     "name": "stdout",
     "output_type": "stream",
     "text": [
      "0.47496065202776383\n"
     ]
    }
   ],
   "source": [
    "print(np.mean(random_array))"
   ]
  },
  {
   "cell_type": "code",
   "execution_count": 396,
   "metadata": {
    "collapsed": true
   },
   "outputs": [
    {
     "name": "stdout",
     "output_type": "stream",
     "text": [
      "[0.62391316 0.40315626 0.47229337 0.37023622 0.50520425]\n"
     ]
    }
   ],
   "source": [
    "# 各列\n",
    "print(np.mean(random_array,axis=0))"
   ]
  },
  {
   "cell_type": "code",
   "execution_count": 397,
   "metadata": {
    "collapsed": true
   },
   "outputs": [
    {
     "name": "stdout",
     "output_type": "stream",
     "text": [
      "[0.46366067 0.5511738  0.51716417 0.56986915 0.27293548]\n"
     ]
    }
   ],
   "source": [
    "# 各行\n",
    "print(np.mean(random_array,axis=1))"
   ]
  },
  {
   "cell_type": "markdown",
   "metadata": {},
   "source": [
    "* 12.4 average加权平均，weights加权权重，不设置为等权重"
   ]
  },
  {
   "cell_type": "code",
   "execution_count": 400,
   "metadata": {
    "collapsed": true
   },
   "outputs": [
    {
     "name": "stdout",
     "output_type": "stream",
     "text": [
      "3.0\n"
     ]
    }
   ],
   "source": [
    "array = np.array([1,2,3,4])\n",
    "print(np.average(array,weights=[0,0,3,0]))"
   ]
  },
  {
   "cell_type": "markdown",
   "metadata": {},
   "source": [
    "* 12.5 sum可以分别求各列和各行的加总"
   ]
  },
  {
   "cell_type": "code",
   "execution_count": 401,
   "metadata": {
    "collapsed": true
   },
   "outputs": [
    {
     "name": "stdout",
     "output_type": "stream",
     "text": [
      "11.874016300694096\n"
     ]
    }
   ],
   "source": [
    "# 总值\n",
    "print(np.sum(random_array))"
   ]
  },
  {
   "cell_type": "code",
   "execution_count": 402,
   "metadata": {
    "collapsed": true
   },
   "outputs": [
    {
     "name": "stdout",
     "output_type": "stream",
     "text": [
      "[3.11956578 2.01578129 2.36146687 1.85118112 2.52602124]\n"
     ]
    }
   ],
   "source": [
    "# 各列\n",
    "print(np.sum(random_array,axis=0))"
   ]
  },
  {
   "cell_type": "code",
   "execution_count": 403,
   "metadata": {
    "collapsed": true
   },
   "outputs": [
    {
     "name": "stdout",
     "output_type": "stream",
     "text": [
      "[2.31830333 2.75586898 2.58582086 2.84934575 1.36467738]\n"
     ]
    }
   ],
   "source": [
    "# 各行\n",
    "print(np.sum(random_array,axis=1))"
   ]
  },
  {
   "cell_type": "code",
   "execution_count": null,
   "metadata": {},
   "outputs": [],
   "source": []
  },
  {
   "cell_type": "markdown",
   "metadata": {
    "toc-hr-collapsed": true
   },
   "source": [
    "# NumPy数组的广播  \n",
    "当两个不同形状的数组进行运算的时候回触发广播机制"
   ]
  },
  {
   "cell_type": "markdown",
   "metadata": {},
   "source": [
    "* 13.1 m * n 数组与 n * n 或者 m * m 数组的运算"
   ]
  },
  {
   "cell_type": "code",
   "execution_count": 463,
   "metadata": {
    "collapsed": true
   },
   "outputs": [
    {
     "name": "stdout",
     "output_type": "stream",
     "text": [
      "[11 12 13]\n"
     ]
    }
   ],
   "source": [
    "import numpy as np\n",
    "a1 = np.array([1,2,3])\n",
    "a2 = np.array([10])\n",
    "print(a1 + a2)"
   ]
  },
  {
   "cell_type": "code",
   "execution_count": 405,
   "metadata": {
    "collapsed": true
   },
   "outputs": [
    {
     "name": "stdout",
     "output_type": "stream",
     "text": [
      "[9 8 7]\n"
     ]
    }
   ],
   "source": [
    "print(a2 - a1)"
   ]
  },
  {
   "cell_type": "markdown",
   "metadata": {},
   "source": [
    "* 13.2 m * n 的数组与 a * b的数组运算，a,b小于m,n"
   ]
  },
  {
   "cell_type": "code",
   "execution_count": 406,
   "metadata": {
    "collapsed": true
   },
   "outputs": [
    {
     "name": "stdout",
     "output_type": "stream",
     "text": [
      "[[11 12 13]\n",
      " [14 15 16]]\n"
     ]
    }
   ],
   "source": [
    "import numpy as np\n",
    "a1 = np.array([[1,2,3],[4,5,6]])\n",
    "a2 = np.array([10])\n",
    "print(a1 + a2)"
   ]
  },
  {
   "cell_type": "code",
   "execution_count": 407,
   "metadata": {
    "collapsed": true
   },
   "outputs": [
    {
     "name": "stdout",
     "output_type": "stream",
     "text": [
      "[[9 8 7]\n",
      " [6 5 4]]\n"
     ]
    }
   ],
   "source": [
    "print(a2 - a1)"
   ]
  },
  {
   "cell_type": "markdown",
   "metadata": {},
   "source": [
    "* 13.3 m * n 数组与 n * m数组的运算  "
   ]
  },
  {
   "cell_type": "code",
   "execution_count": 408,
   "metadata": {
    "collapsed": true
   },
   "outputs": [
    {
     "name": "stdout",
     "output_type": "stream",
     "text": [
      "[[10]\n",
      " [10]]\n",
      "[1 2 3]\n"
     ]
    }
   ],
   "source": [
    "# 生成一个2×1的数组和一个1×3的数组\n",
    "a_2x1 = np.array([[10],[10]])\n",
    "a_1x3 = np.array([1,2,3])\n",
    "print(a_2x1)\n",
    "print(a_1x3)"
   ]
  },
  {
   "cell_type": "code",
   "execution_count": 409,
   "metadata": {
    "collapsed": true
   },
   "outputs": [
    {
     "name": "stdout",
     "output_type": "stream",
     "text": [
      "[[11 12 13]\n",
      " [11 12 13]]\n"
     ]
    }
   ],
   "source": [
    "# 相加\n",
    "print(a_2x1 + a_1x3)"
   ]
  },
  {
   "cell_type": "code",
   "execution_count": 411,
   "metadata": {
    "collapsed": true
   },
   "outputs": [
    {
     "name": "stdout",
     "output_type": "stream",
     "text": [
      "[[9 8 7]\n",
      " [9 8 7]]\n"
     ]
    }
   ],
   "source": [
    "# 相减\n",
    "print(a_2x1 - a_1x3)"
   ]
  },
  {
   "cell_type": "markdown",
   "metadata": {},
   "source": [
    "* 13.4 repeat 重复可以选择axis是在行或者列进行重复"
   ]
  },
  {
   "cell_type": "code",
   "execution_count": 67,
   "metadata": {
    "collapsed": true
   },
   "outputs": [
    {
     "name": "stdout",
     "output_type": "stream",
     "text": [
      "[[1 2 3]\n",
      " [4 5 6]\n",
      " [7 8 9]]\n",
      "[[1 2 3]\n",
      " [1 2 3]\n",
      " [4 5 6]\n",
      " [4 5 6]\n",
      " [7 8 9]\n",
      " [7 8 9]]\n"
     ]
    }
   ],
   "source": [
    "import numpy as np\n",
    "a = np.arange(1,10)\n",
    "a = a.reshape((3,3))\n",
    "print(a)\n",
    "print(a.repeat(2,axis=0))"
   ]
  },
  {
   "cell_type": "markdown",
   "metadata": {},
   "source": [
    "* 13.5 ogrid 快速生成数组和对应的下标"
   ]
  },
  {
   "cell_type": "code",
   "execution_count": 70,
   "metadata": {
    "collapsed": true
   },
   "outputs": [
    {
     "name": "stdout",
     "output_type": "stream",
     "text": [
      "[[1]\n",
      " [2]\n",
      " [3]]\n",
      "[[0 1 2]]\n"
     ]
    }
   ],
   "source": [
    "from numpy import ogrid\n",
    "value,index = np.ogrid[1:4,0:3]\n",
    "print(value)\n",
    "print(index)"
   ]
  },
  {
   "cell_type": "markdown",
   "metadata": {},
   "source": [
    "* 13.6 ufunc其他方法"
   ]
  },
  {
   "cell_type": "code",
   "execution_count": 73,
   "metadata": {
    "collapsed": true
   },
   "outputs": [
    {
     "name": "stdout",
     "output_type": "stream",
     "text": [
      "6\n",
      "[ 6 15]\n"
     ]
    }
   ],
   "source": [
    "# reduce方法：\n",
    "# 与Python的reduce函数类似，它是沿着axis轴对array进行操作，相当于\n",
    "# 将<op>运算符插入到沿axis轴的所有子数组或者元素中\n",
    "print(np.add.reduce([1,2,3]))  # 1+2+3\n",
    "print(np.add.reduce([[1,2,3],[4,5,6]],axis=1)) #1,4 + 2,5 + 3,6"
   ]
  },
  {
   "cell_type": "code",
   "execution_count": 74,
   "metadata": {
    "collapsed": true
   },
   "outputs": [
    {
     "name": "stdout",
     "output_type": "stream",
     "text": [
      "[1 3 6]\n",
      "[[ 1  3  6]\n",
      " [ 4  9 15]]\n"
     ]
    }
   ],
   "source": [
    "# accumulate方法：\n",
    "# 与reduce方法类似，他是返回数组和输入的数组的shape相同\n",
    "# 保存所有的中间结果\n",
    "print(np.add.accumulate([1,2,3]))\n",
    "print(np.add.accumulate([[1,2,3],[4,5,6]],axis=1))"
   ]
  },
  {
   "cell_type": "code",
   "execution_count": 75,
   "metadata": {
    "collapsed": true
   },
   "outputs": [
    {
     "name": "stdout",
     "output_type": "stream",
     "text": [
      "[ 1  2  3  3  6  4 10]\n"
     ]
    }
   ],
   "source": [
    "# reduceat方法：\n",
    "# 计算多组reduce的结果，通过indices参数指定一系列reduce的起始\n",
    "# 和中值位置。\n",
    "a = np.array((1,2,3,4))\n",
    "print(np.add.reduceat(a,indices=[0,1,0,2,0,3,0]))"
   ]
  },
  {
   "cell_type": "code",
   "execution_count": 76,
   "metadata": {
    "collapsed": true
   },
   "outputs": [
    {
     "name": "stdout",
     "output_type": "stream",
     "text": [
      "[[ 2  3  4]\n",
      " [ 4  6  8]\n",
      " [ 6  9 12]\n",
      " [ 8 12 16]\n",
      " [10 15 20]]\n"
     ]
    }
   ],
   "source": [
    "# outer方法,按照参数2的数组进行求和计算\n",
    "print(np.multiply.outer([1,2,3,4,5],[2,3,4]))"
   ]
  },
  {
   "cell_type": "markdown",
   "metadata": {},
   "source": [
    "* 13.7 tile方法  \n",
    "此方法与repeat类似，沿着指定轴向堆叠数组的副本。对于标量，tile时进行水平铺设的"
   ]
  },
  {
   "cell_type": "code",
   "execution_count": 49,
   "metadata": {
    "collapsed": true
   },
   "outputs": [
    {
     "name": "stdout",
     "output_type": "stream",
     "text": [
      "[[0 1 2]\n",
      " [3 4 5]\n",
      " [6 7 8]]\n",
      "[[0 1 2 0 1 2]\n",
      " [3 4 5 3 4 5]\n",
      " [6 7 8 6 7 8]]\n"
     ]
    }
   ],
   "source": [
    "array = np.arange(9).reshape(3,3)\n",
    "print(array)\n",
    "print(np.tile(array,2))"
   ]
  },
  {
   "cell_type": "code",
   "execution_count": null,
   "metadata": {},
   "outputs": [],
   "source": []
  },
  {
   "cell_type": "markdown",
   "metadata": {},
   "source": [
    "# NumPy数组的科学运算  \n",
    "|运算法则|计算公式|\n",
    "|---|---:|\n",
    "|加法|array1+array2|\n",
    "|累加|np.cumsum(array1)|\n",
    "|减法|array1 - array2|\n",
    "|按位相乘|array1 * array2|\n",
    "|矩阵乘法|array1.dot(array2)或numpy.dot(array1,array2)|\n",
    "|除法|array1/array2|\n",
    "|幂指数|array1**2|\n",
    "|开根号|numpy.sqrt(array1)|\n",
    "|取余数|array1%array2|\n",
    "|sin|numpy.sin(array1)|\n",
    "|cos|numpy.cos(array1)|\n",
    "|tan|numpy.tan(array1)|\n",
    "|判断|大于：print(数组>任何数)将返回一个由True和False组成的数组，True代表数组中大于的值 |\n",
    "|   |小于：print(数组<任何数)将返回一个由True和False组成的数组，True代表数组中小于的值 |\n",
    "|   |等于：print(数组==任何数)将返回一个由True和False组成的数组，True代表数组中等于的值 | "
   ]
  },
  {
   "cell_type": "code",
   "execution_count": 446,
   "metadata": {
    "collapsed": true
   },
   "outputs": [
    {
     "name": "stdout",
     "output_type": "stream",
     "text": [
      "[[0 1 2 3 4]\n",
      " [5 6 7 8 9]]\n",
      "[[10 11 12 13 14]\n",
      " [15 16 17 18 19]]\n"
     ]
    }
   ],
   "source": [
    "# 先用arange生成两个相同长度的数组  \n",
    "# 用reshape转变成两个二维数组\n",
    "import numpy as np\n",
    "array1 = np.arange(10).reshape(2,5)\n",
    "print(array1)\n",
    "array2 = np.arange(10,20,1).reshape(2,5)\n",
    "print(array2)"
   ]
  },
  {
   "cell_type": "markdown",
   "metadata": {},
   "source": [
    "* 14.1 加法"
   ]
  },
  {
   "cell_type": "code",
   "execution_count": 440,
   "metadata": {
    "collapsed": true
   },
   "outputs": [
    {
     "name": "stdout",
     "output_type": "stream",
     "text": [
      "[[10 12 14 16 18]\n",
      " [20 22 24 26 28]]\n"
     ]
    }
   ],
   "source": [
    "print(array1 + array2)"
   ]
  },
  {
   "cell_type": "markdown",
   "metadata": {},
   "source": [
    "* 14.2 减法"
   ]
  },
  {
   "cell_type": "code",
   "execution_count": 441,
   "metadata": {
    "collapsed": true
   },
   "outputs": [
    {
     "name": "stdout",
     "output_type": "stream",
     "text": [
      "[[-10 -10 -10 -10 -10]\n",
      " [-10 -10 -10 -10 -10]]\n"
     ]
    }
   ],
   "source": [
    "print(array1 - array2)"
   ]
  },
  {
   "cell_type": "markdown",
   "metadata": {},
   "source": [
    "* 14.3 按位相乘"
   ]
  },
  {
   "cell_type": "code",
   "execution_count": 442,
   "metadata": {
    "collapsed": true
   },
   "outputs": [
    {
     "name": "stdout",
     "output_type": "stream",
     "text": [
      "[[  0  11  24  39  56]\n",
      " [ 75  96 119 144 171]]\n"
     ]
    }
   ],
   "source": [
    "print(array1 * array2)"
   ]
  },
  {
   "cell_type": "markdown",
   "metadata": {},
   "source": [
    "* 14.4 矩阵点乘(内积）  \n",
    "矩阵相乘要遵循的规则：m*n的矩阵只能与n*k的矩阵相乘"
   ]
  },
  {
   "cell_type": "code",
   "execution_count": 451,
   "metadata": {
    "collapsed": true
   },
   "outputs": [
    {
     "data": {
      "text/plain": [
       "array([[130, 180],\n",
       "       [430, 605]])"
      ]
     },
     "execution_count": 451,
     "metadata": {},
     "output_type": "execute_result"
    }
   ],
   "source": [
    "np.dot(array1,array2.T)"
   ]
  },
  {
   "cell_type": "markdown",
   "metadata": {},
   "source": [
    "* 14.5 ufunc运算  \n",
    "ufunc是universal function的缩写，它是一种能对数组的每个元素进行操作的函数。NumPy内置的许多ufunc函数都是在C语言级别实现的，因此它们的计算速度非常快。  \n",
    "这里有一个常用的运算表格  \n",
    "\n",
    "|数学表达式|ufunc运算|    \n",
    "|---|---|  \n",
    "|y = x1 + x2|add(x1,x2[,y])|  \n",
    "|y = x1 - x2|subtract(x1,x2[,y])|  \n",
    "|y = x1 * x2|multiply(x1,x2[,y])|  \n",
    "|y = x1 / x2|divide(x1,x2[,y]),如果两个数组元素为整数那么用整数除法|  \n",
    "|y = x1 / x2|true divide(x1,x2[,y])，总是返回精确的商|  \n",
    "|y = x1 // x2|floor divide(x1,x2[,y]) 总是对返回值取整|  \n",
    "|y = -x|negative(x[,y])|  \n",
    "|y = x1\\** x2 | power(x1,x2[,y])|  \n",
    "|y = x1 % x2|remainder(x1,x2[,y],mod(x1,x2,[,y])|  "
   ]
  },
  {
   "cell_type": "code",
   "execution_count": null,
   "metadata": {},
   "outputs": [],
   "source": []
  },
  {
   "cell_type": "markdown",
   "metadata": {},
   "source": [
    "# NumPy的矩阵运算  \n",
    "Numpy与Matlab不一样，对于多维数组的运算，缺省情况下并不适用矩阵运算，如果希望对数组进行矩阵运算的话，可以调用矩阵对象"
   ]
  },
  {
   "cell_type": "markdown",
   "metadata": {},
   "source": [
    "* 15.1 matrix对象  \n",
    "numpy库提供了matrix类，使用matrix类创建的是矩阵对象，它们的加减乘除运算缺省采用矩阵方式计算，因此用法和matlab十分类 似。但是由于NumPy中同时存在ndarray和matrix对象，因此用户很容易将两者弄混。这有违Python的“显式优于隐式”的原则，因此并不 推荐在较复杂的程序中使用matrix。"
   ]
  },
  {
   "cell_type": "code",
   "execution_count": 77,
   "metadata": {
    "collapsed": true
   },
   "outputs": [
    {
     "name": "stdout",
     "output_type": "stream",
     "text": [
      "[[100 200 300]\n",
      " [400 500 600]\n",
      " [700 800 900]]\n"
     ]
    }
   ],
   "source": [
    "import numpy as np\n",
    "a = np.matrix([[1,2,3],[4,5,6],[7,8,9]])\n",
    "print(a * 100)"
   ]
  },
  {
   "cell_type": "markdown",
   "metadata": {},
   "source": [
    "* 15.2 dot内积运算  \n",
    "对于两个一维的数组，计算的是这两个数组对应下标元素的乘积和(数学上称之为内积)；对于二维数组，计算的是两个数组的矩阵乘积；对于多维数组，它的通用 计算公式如下，即结果数组中的每个元素都是：数组a的最后一维上的所有元素与数组b的倒数第二位上的所有元素的乘积和"
   ]
  },
  {
   "cell_type": "code",
   "execution_count": 78,
   "metadata": {
    "collapsed": true
   },
   "outputs": [
    {
     "name": "stdout",
     "output_type": "stream",
     "text": [
      "[[[[ 15  16  17]\n",
      "   [ 21  22  23]]\n",
      "\n",
      "  [[ 69  74  79]\n",
      "   [ 99 104 109]]\n",
      "\n",
      "  [[123 132 141]\n",
      "   [177 186 195]]]\n",
      "\n",
      "\n",
      " [[[177 190 203]\n",
      "   [255 268 281]]\n",
      "\n",
      "  [[231 248 265]\n",
      "   [333 350 367]]\n",
      "\n",
      "  [[285 306 327]\n",
      "   [411 432 453]]]]\n"
     ]
    }
   ],
   "source": [
    "a = np.arange(12).reshape(2,3,2)\n",
    "b = np.arange(12,24).reshape(2,2,3)\n",
    "print(np.dot(a,b))"
   ]
  },
  {
   "cell_type": "markdown",
   "metadata": {},
   "source": [
    "* 15.3 inner乘积和运算  \n",
    "和dot乘积一样，对于两个一维数组，计算的是这两个数组对应下标元素的乘积和；对于多维数组，它计算的结果数组中的每个元素都是：数组a和b的最后一维的内积，因此数组a和b的最后一维的长度必须相同"
   ]
  },
  {
   "cell_type": "code",
   "execution_count": 81,
   "metadata": {
    "collapsed": true
   },
   "outputs": [
    {
     "name": "stdout",
     "output_type": "stream",
     "text": [
      "[[[[ 13  15  17]\n",
      "   [ 19  21  23]]\n",
      "\n",
      "  [[ 63  73  83]\n",
      "   [ 93 103 113]]\n",
      "\n",
      "  [[113 131 149]\n",
      "   [167 185 203]]]\n",
      "\n",
      "\n",
      " [[[163 189 215]\n",
      "   [241 267 293]]\n",
      "\n",
      "  [[213 247 281]\n",
      "   [315 349 383]]\n",
      "\n",
      "  [[263 305 347]\n",
      "   [389 431 473]]]]\n"
     ]
    }
   ],
   "source": [
    "a = np.arange(12).reshape(2,3,2)\n",
    "b = np.arange(12,24).reshape(2,3,2)\n",
    "c = np.inner(a,b)\n",
    "print(c)"
   ]
  },
  {
   "cell_type": "code",
   "execution_count": null,
   "metadata": {},
   "outputs": [],
   "source": []
  },
  {
   "cell_type": "markdown",
   "metadata": {},
   "source": [
    "# NumPy数组的引用与深复制"
   ]
  },
  {
   "cell_type": "code",
   "execution_count": 455,
   "metadata": {
    "collapsed": true
   },
   "outputs": [
    {
     "name": "stdout",
     "output_type": "stream",
     "text": [
      "[0 1 2 3 4 5 6 7 8 9]\n"
     ]
    }
   ],
   "source": [
    "import numpy as np\n",
    "array = np.arange(10)\n",
    "print(array)"
   ]
  },
  {
   "cell_type": "code",
   "execution_count": 456,
   "metadata": {
    "collapsed": true
   },
   "outputs": [
    {
     "name": "stdout",
     "output_type": "stream",
     "text": [
      "[0 1 2 3 4 5 6 7 8 9]\n"
     ]
    }
   ],
   "source": [
    "b = array\n",
    "print(b)"
   ]
  },
  {
   "cell_type": "code",
   "execution_count": 457,
   "metadata": {
    "collapsed": true
   },
   "outputs": [
    {
     "data": {
      "text/plain": [
       "True"
      ]
     },
     "execution_count": 457,
     "metadata": {},
     "output_type": "execute_result"
    }
   ],
   "source": [
    "b is array"
   ]
  },
  {
   "cell_type": "code",
   "execution_count": 458,
   "metadata": {
    "collapsed": true
   },
   "outputs": [
    {
     "name": "stdout",
     "output_type": "stream",
     "text": [
      "修改原始数组的部分数值： [0 1 2 0 0 0 6 7 8 9]\n"
     ]
    }
   ],
   "source": [
    "array[3:6] = 0\n",
    "print('修改原始数组的部分数值：',array)"
   ]
  },
  {
   "cell_type": "code",
   "execution_count": 459,
   "metadata": {
    "collapsed": true
   },
   "outputs": [
    {
     "name": "stdout",
     "output_type": "stream",
     "text": [
      "数组b： [0 1 2 0 0 0 6 7 8 9]\n"
     ]
    }
   ],
   "source": [
    "# b的值并没有变，因为是引用\n",
    "print('数组b：',b)"
   ]
  },
  {
   "cell_type": "markdown",
   "metadata": {},
   "source": [
    "* 深拷贝"
   ]
  },
  {
   "cell_type": "code",
   "execution_count": 461,
   "metadata": {
    "collapsed": true
   },
   "outputs": [
    {
     "name": "stdout",
     "output_type": "stream",
     "text": [
      "[0 1 2 3 4 5 6 7 8 9]\n",
      "修改原始数组的部分数值： [0 1 2 0 0 0 6 7 8 9]\n",
      "数组b： [0 1 2 3 4 5 6 7 8 9]\n"
     ]
    }
   ],
   "source": [
    "import numpy as np\n",
    "array = np.arange(10)\n",
    "print(array)\n",
    "\n",
    "b2 = array.copy()\n",
    "array[3:6] = 0\n",
    "print('修改原始数组的部分数值：',array)\n",
    "print('数组b：',b2)"
   ]
  },
  {
   "cell_type": "code",
   "execution_count": 462,
   "metadata": {
    "collapsed": true
   },
   "outputs": [
    {
     "data": {
      "text/plain": [
       "False"
      ]
     },
     "execution_count": 462,
     "metadata": {},
     "output_type": "execute_result"
    }
   ],
   "source": [
    "b2 is array"
   ]
  },
  {
   "cell_type": "code",
   "execution_count": null,
   "metadata": {},
   "outputs": [],
   "source": []
  },
  {
   "cell_type": "markdown",
   "metadata": {},
   "source": [
    "# NumPy文件存取  \n",
    "NumPy提供了多种文件操作函数方便我们存取数组内容。文件存取的格式分为两类：二进制和文本。而二进制格式的文件又分为NumPy专用的格式化二进制类型和无格式类型。"
   ]
  },
  {
   "cell_type": "markdown",
   "metadata": {},
   "source": [
    "* 17.1 tofile 和 fromfile方法  \n",
    "使用数组的方法函数tofile可以方便地将数组中数据以二进制的格式写进文件。tofile输出的数据没有格式，因此用numpy.fromfile读回来的时候需要自己格式化数据"
   ]
  },
  {
   "cell_type": "code",
   "execution_count": null,
   "metadata": {},
   "outputs": [],
   "source": [
    "a = np.arange(0,12)\n",
    "a.tofile('a.bin')\n",
    "# 从上面的例子可以看出，需要在读入的时候设置正确的dtype和shape才能保证数据\n",
    "#一致。并且tofile函数不管数组的排列顺序是C语言格式的还是Fortran语言格式的，\n",
    "# 统一使用C语言格式输出。\n",
    "b = np.fromfile('a.bin',dtype=np.int.32)  # 要指明类型"
   ]
  },
  {
   "cell_type": "markdown",
   "metadata": {},
   "source": [
    "* 17.2 load 和 save 方法  \n",
    "numpy.load和numpy.save函数以NumPy专用的二进制类型保存数据，这两个函数会自动处理元素类型和shape等信息，使用它们读写数组就方便多了，但是numpy.save输出的文件很难和其它语言编写的程序读入"
   ]
  },
  {
   "cell_type": "code",
   "execution_count": null,
   "metadata": {},
   "outputs": [],
   "source": [
    "np.save('a.npy',a)\n",
    "c = np.load('a.npy')"
   ]
  },
  {
   "cell_type": "markdown",
   "metadata": {},
   "source": [
    "* 17.3 savez方法  \n",
    "savez函数的第一个参数是文件名，其后的参数都是需要保存的数 组，也可以使用关键字参数为数组起一个名字，非关键字参数传递的数组会自动起名为arr_0, arr_1, ...。savez函数输出的是一个压缩文件(扩展名为npz)，其中每个文件都是一个save函数保存的npy文件，文件名对应于数组名。load函数 自动识别npz文件，并且返回一个类似于字典的对象，可以通过数组名作为关键字获取数组的内容"
   ]
  },
  {
   "cell_type": "code",
   "execution_count": null,
   "metadata": {},
   "outputs": [],
   "source": [
    "np.savez('result.npz',a,b,sin_array=c)\n",
    "r = np.load('result.npz')"
   ]
  },
  {
   "cell_type": "markdown",
   "metadata": {},
   "source": [
    "* 17.4 savetxt 和 loadtxt方法  \n",
    "此方法可以读写1维和2维数组的txt文件格式  "
   ]
  },
  {
   "cell_type": "code",
   "execution_count": null,
   "metadata": {},
   "outputs": [],
   "source": [
    "np.savetxt('a.txt',a)\n",
    "np.loadtxt('a.txt')"
   ]
  },
  {
   "cell_type": "markdown",
   "metadata": {},
   "source": [
    "* 17.5 save 和 load 方法  \n",
    "本节介绍所举的例子都是传递的文件名，也可以传递已经打开的文件对象，例如对于load和save函数来说，如果使用文件对象的话，可以将多个数组储存到一个npy文件中"
   ]
  },
  {
   "cell_type": "code",
   "execution_count": null,
   "metadata": {},
   "outputs": [],
   "source": []
  },
  {
   "cell_type": "markdown",
   "metadata": {},
   "source": [
    "# NumPy高级用法"
   ]
  },
  {
   "cell_type": "markdown",
   "metadata": {},
   "source": [
    "* 18.1 np.where 、np.piecewise  \n",
    "numpy.where(condition[, x, y])  第一个参数表示筛选条件，后两个参数可选，如果条件为真返回x，条件为假返回y  \n",
    "numpy.piecewise(x, condlist, funclist, *args, \\**kw)  \n",
    "参数一 x:表示要进行操作的对象   \n",
    "参数二：condlist，表示要满足的条件列表，可以是多个条件构成的列表  \n",
    "参数三：funclist，执行的操作列表，参数二与参数三是对应的，当参数二为true的时候，则执行相对应的操作函数。  \n",
    "返回值：返回一个array对象，和原始操作对象x具有完全相同的维度和形状  \n"
   ]
  },
  {
   "cell_type": "code",
   "execution_count": 1,
   "metadata": {
    "collapsed": true
   },
   "outputs": [
    {
     "name": "stdout",
     "output_type": "stream",
     "text": [
      "(array([2, 3, 4], dtype=int64),)\n",
      "[ 6  8 10]\n"
     ]
    }
   ],
   "source": [
    "# 一维\n",
    "import numpy as np\n",
    "a = np.array([2,4,6,8,10])\n",
    "a_where = np.where(a > 5) # 返回索引\n",
    "print(a_where)\n",
    "print(a[a_where])"
   ]
  },
  {
   "cell_type": "code",
   "execution_count": 2,
   "metadata": {
    "collapsed": true
   },
   "outputs": [
    {
     "name": "stdout",
     "output_type": "stream",
     "text": [
      "(array([0, 0, 1, 1, 1, 2, 2, 2, 2, 3, 3, 3, 3, 3], dtype=int64), array([3, 4, 2, 3, 4, 1, 2, 3, 4, 0, 1, 2, 3, 4], dtype=int64))\n",
      "[4 5 4 5 6 4 5 6 7 4 5 6 7 8]\n"
     ]
    }
   ],
   "source": [
    "# 二维\n",
    "a=np.array([[1,2,3,4,5],[2,3,4,5,6],[3,4,5,6,7],[4,5,6,7,8]])  #二维数组\n",
    "a_where=np.where(a>3)\n",
    "print(a_where)\n",
    "print(a[a_where])"
   ]
  },
  {
   "cell_type": "code",
   "execution_count": 22,
   "metadata": {
    "collapsed": true
   },
   "outputs": [
    {
     "name": "stdout",
     "output_type": "stream",
     "text": [
      "(2, 3, 3)\n",
      "[4 4 5 4]\n"
     ]
    }
   ],
   "source": [
    "# 三维\n",
    "a = [1,2,3,2,3,4,3,4,5,0,1,2,1,2,3,2,3,4]\n",
    "a = np.array(a)\n",
    "a = a.reshape(2,3,3)\n",
    "print(a.shape) #形状为（2,3,3)  \n",
    "print(a[np.where(a>3)])"
   ]
  },
  {
   "cell_type": "code",
   "execution_count": 34,
   "metadata": {
    "collapsed": true
   },
   "outputs": [
    {
     "name": "stdout",
     "output_type": "stream",
     "text": [
      "[-1  1  1  1  1  1  1  1  1  1]\n",
      "[[1 8]\n",
      " [3 4]]\n"
     ]
    }
   ],
   "source": [
    "# x,y条件\n",
    "a = np.arange(10)\n",
    "a_where=np.where(a>0,1,-1) # 如果a中大于0返回1，小于0返回为-1\n",
    "print(a_where)  \n",
    "b = np.where([[True,False],[True,True]],[[1,2],[3,4]],[[9,8],[7,6]])\n",
    "print(b)\n",
    "# 对于第一个结果，因为只有第一个是0，即false，故而用-1替换了，后面的都大于0，即true，故而用1替换了\n",
    "# 对于第二个结果，前面的6个均为false，故而用-1替换，后面的四个为true，则用1替换\n",
    "# 对于第三个结果，\n",
    "# 第一个True对应的索引位置为（0,0），true在第二个参数中寻找，（0,0）对应于元素1\n",
    "# 第二个false对应的索引位置为（0,1），false在第三个参数中寻找，（0,1）对应于元素8\n",
    "# 第三个True对应的索引位置为（1,0），true在第二个参数中寻找，（0,0）对应于元素3\n",
    "# 第四个True对应的索引位置为（1,1），true在第二个参数中寻找，（0,0）对应于元素4"
   ]
  },
  {
   "cell_type": "code",
   "execution_count": 35,
   "metadata": {
    "collapsed": true
   },
   "outputs": [
    {
     "name": "stdout",
     "output_type": "stream",
     "text": [
      "[0 1 2 3 4 5 6 7 8 9]\n",
      "[-10 -10 -10 -10   0   0   0   1   1   1]\n"
     ]
    }
   ],
   "source": [
    "# 举例1\n",
    "import numpy as np\n",
    "x = np.arange(0,10)\n",
    "print(x)\n",
    "xx = np.piecewise(x,[x<4,x>6],[-10,1])\n",
    "print(xx)"
   ]
  },
  {
   "cell_type": "code",
   "execution_count": 37,
   "metadata": {
    "collapsed": true
   },
   "outputs": [
    {
     "name": "stdout",
     "output_type": "stream",
     "text": [
      "[ 10  10  10  10   0   0   0 -10 -10 -10]\n"
     ]
    }
   ],
   "source": [
    "# 举例2\n",
    "x = np.arange(0,10)\n",
    "# 编写函数\n",
    "def func1(x):\n",
    "    return 10\n",
    "\n",
    "def func2(x):\n",
    "    return -10\n",
    " \n",
    "xx = np.piecewise(x,[x<4,x>6],[func1,func2])\n",
    "print(xx)"
   ]
  },
  {
   "cell_type": "code",
   "execution_count": 38,
   "metadata": {
    "collapsed": true
   },
   "outputs": [
    {
     "name": "stdout",
     "output_type": "stream",
     "text": [
      "[ 0  1  4  9  0  0  0 49 64 81]\n"
     ]
    }
   ],
   "source": [
    "# 举例3\n",
    "x = np.arange(0,10)\n",
    "xx = np.piecewise(x,[x<4,x>6],[lambda x:x**2,lambda x:x**2])\n",
    "print(xx)"
   ]
  },
  {
   "cell_type": "markdown",
   "metadata": {},
   "source": [
    "* 18.2 np.argwhere()  \n",
    "与np.where用法相同不过返回的是索引值  "
   ]
  },
  {
   "cell_type": "code",
   "execution_count": 39,
   "metadata": {
    "collapsed": true
   },
   "outputs": [
    {
     "name": "stdout",
     "output_type": "stream",
     "text": [
      "[[0 1 2]\n",
      " [3 4 5]\n",
      " [6 7 8]]\n",
      "[[2 0]\n",
      " [2 1]\n",
      " [2 2]]\n"
     ]
    }
   ],
   "source": [
    "z = np.arange(9).reshape(3,3)\n",
    "print(z)\n",
    "print(np.argwhere(z > 5))"
   ]
  },
  {
   "cell_type": "code",
   "execution_count": 41,
   "metadata": {
    "collapsed": true
   },
   "outputs": [
    {
     "name": "stdout",
     "output_type": "stream",
     "text": [
      "['张三' '李四' '王五']\n",
      "[[1]\n",
      " [2]]\n"
     ]
    }
   ],
   "source": [
    "z = np.array(['张三','李四','王五'])\n",
    "print(z)\n",
    "print(np.argwhere(z))"
   ]
  },
  {
   "cell_type": "markdown",
   "metadata": {},
   "source": [
    "* 18.3 np.nonzero  \n",
    "获得数组中非零的索引"
   ]
  },
  {
   "cell_type": "code",
   "execution_count": 42,
   "metadata": {
    "collapsed": true
   },
   "outputs": [
    {
     "name": "stdout",
     "output_type": "stream",
     "text": [
      "(array([1, 2, 3, 5], dtype=int64),)\n"
     ]
    }
   ],
   "source": [
    "a = np.array([0,2,3,40,0,5])\n",
    "print(np.nonzero(a))"
   ]
  },
  {
   "cell_type": "code",
   "execution_count": null,
   "metadata": {},
   "outputs": [],
   "source": []
  },
  {
   "cell_type": "code",
   "execution_count": null,
   "metadata": {},
   "outputs": [],
   "source": []
  }
 ],
 "metadata": {
  "hide_input": false,
  "kernelspec": {
   "display_name": "Python 3",
   "language": "python",
   "name": "python3"
  },
  "language_info": {
   "codemirror_mode": {
    "name": "ipython",
    "version": 3
   },
   "file_extension": ".py",
   "mimetype": "text/x-python",
   "name": "python",
   "nbconvert_exporter": "python",
   "pygments_lexer": "ipython3",
   "version": "3.7.4"
  },
  "notify_time": "5",
  "toc": {
   "base_numbering": 1,
   "nav_menu": {},
   "number_sections": true,
   "sideBar": true,
   "skip_h1_title": false,
   "title_cell": "《NumPy基础教程》",
   "title_sidebar": "《NumPy基础教程》",
   "toc_cell": true,
   "toc_position": {
    "height": "calc(100% - 180px)",
    "left": "10px",
    "top": "150px",
    "width": "377px"
   },
   "toc_section_display": true,
   "toc_window_display": true
  },
  "toc-autonumbering": true,
  "toc-showmarkdowntxt": true,
  "toc-showtags": true,
  "varInspector": {
   "cols": {
    "lenName": 16,
    "lenType": 16,
    "lenVar": 40
   },
   "kernels_config": {
    "python": {
     "delete_cmd_postfix": "",
     "delete_cmd_prefix": "del ",
     "library": "var_list.py",
     "varRefreshCmd": "print(var_dic_list())"
    },
    "r": {
     "delete_cmd_postfix": ") ",
     "delete_cmd_prefix": "rm(",
     "library": "var_list.r",
     "varRefreshCmd": "cat(var_dic_list()) "
    }
   },
   "position": {
    "height": "525.4px",
    "left": "1678px",
    "right": "20px",
    "top": "120px",
    "width": "350px"
   },
   "types_to_exclude": [
    "module",
    "function",
    "builtin_function_or_method",
    "instance",
    "_Feature"
   ],
   "window_display": false
  }
 },
 "nbformat": 4,
 "nbformat_minor": 4
}
