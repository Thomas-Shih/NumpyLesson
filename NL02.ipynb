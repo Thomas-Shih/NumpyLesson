{
 "cells": [
  {
   "cell_type": "markdown",
   "metadata": {
    "toc": true
   },
   "source": [
    "<h1>NumPy参考手册代码学习_01<span class=\"tocSkip\"></span></h1>\n",
    "<div class=\"toc\"><ul class=\"toc-item\"><li><span><a href=\"#数组对象\" data-toc-modified-id=\"数组对象-1\"><span class=\"toc-item-num\">1&nbsp;&nbsp;</span>数组对象</a></span><ul class=\"toc-item\"><li><span><a href=\"#N维数组\" data-toc-modified-id=\"N维数组-1.1\"><span class=\"toc-item-num\">1.1&nbsp;&nbsp;</span>N维数组</a></span></li><li><span><a href=\"#标量\" data-toc-modified-id=\"标量-1.2\"><span class=\"toc-item-num\">1.2&nbsp;&nbsp;</span>标量</a></span></li><li><span><a href=\"#数据类型对象（dtype）\" data-toc-modified-id=\"数据类型对象（dtype）-1.3\"><span class=\"toc-item-num\">1.3&nbsp;&nbsp;</span>数据类型对象（dtype）</a></span></li><li><span><a href=\"#索引\" data-toc-modified-id=\"索引-1.4\"><span class=\"toc-item-num\">1.4&nbsp;&nbsp;</span>索引</a></span></li></ul></li></ul></div>"
   ]
  },
  {
   "cell_type": "markdown",
   "metadata": {},
   "source": [
    "# 数组对象\n",
    "## N维数组\n",
    "* 尺寸为二乘三的二维数组，由四个字节的整数元素组成，用Python容器语法对数组进行索引，切片可以生成数组的视图"
   ]
  },
  {
   "cell_type": "code",
   "execution_count": 2,
   "metadata": {},
   "outputs": [
    {
     "name": "stdout",
     "output_type": "stream",
     "text": [
      "<class 'numpy.ndarray'>\n",
      "(2, 3)\n",
      "int32\n"
     ]
    }
   ],
   "source": [
    "import numpy as np\n",
    "x = np.array([[1,2,3],[4,5,6]])\n",
    "print(type(x))\n",
    "print(x.shape)\n",
    "print(x.dtype)"
   ]
  },
  {
   "cell_type": "code",
   "execution_count": 3,
   "metadata": {},
   "outputs": [
    {
     "data": {
      "text/plain": [
       "6"
      ]
     },
     "execution_count": 3,
     "metadata": {},
     "output_type": "execute_result"
    }
   ],
   "source": [
    "x[1,2]"
   ]
  },
  {
   "cell_type": "code",
   "execution_count": 6,
   "metadata": {},
   "outputs": [
    {
     "name": "stdout",
     "output_type": "stream",
     "text": [
      "[2 5]\n",
      "[9 5]\n",
      "[[1 9 3]\n",
      " [4 5 6]]\n"
     ]
    }
   ],
   "source": [
    "y = x[:,1]\n",
    "print(y)\n",
    "y[0] = 9\n",
    "print(y)\n",
    "print(x)"
   ]
  },
  {
   "cell_type": "markdown",
   "metadata": {},
   "source": [
    "* ndarray构造函数创建数组"
   ]
  },
  {
   "cell_type": "code",
   "execution_count": 7,
   "metadata": {},
   "outputs": [
    {
     "name": "stdout",
     "output_type": "stream",
     "text": [
      "[[1.26410987e-311 1.33511562e-306]\n",
      " [0.00000000e+000 5.73116149e-322]]\n"
     ]
    }
   ],
   "source": [
    "import numpy\n",
    "array = numpy.ndarray(shape=(2,2), dtype=np.float, order='F')\n",
    "print(array)"
   ]
  },
  {
   "cell_type": "code",
   "execution_count": 9,
   "metadata": {},
   "outputs": [
    {
     "name": "stdout",
     "output_type": "stream",
     "text": [
      "[2 3]\n"
     ]
    }
   ],
   "source": [
    "# 进行偏移量\n",
    "array = numpy.ndarray((2,), buffer=np.array([1,2,3]), offset=np.int_().itemsize, dtype=np.int)\n",
    "print(array) # offset = 1*itemsize, i.e. skip first element"
   ]
  },
  {
   "cell_type": "markdown",
   "metadata": {},
   "source": [
    "* 内存布局方法  \n",
    "\n",
    "|方法|描述|\n",
    "|---|---|\n",
    "|ndarray.flags|有关数组内存布局信息|\n",
    "|ndarray.shape|数组维度的元组|\n",
    "|ndarray.strides|遍历数组时每个维度中的字节元组|\n",
    "|ndarray.ndim|数组维数|\n",
    "|ndarray.data|Python缓冲区对象指向数组的数据的开头|\n",
    "|ndarray.size|数组中元素数|\n",
    "|ndarray.itemsize|一个数组元素的长度以字节为单位|\n",
    "|ndarray.nbytes|数组元素消耗的总字节数|\n",
    "|ndarray.base|如果内存来自其他对象，则为基础对象|"
   ]
  },
  {
   "cell_type": "markdown",
   "metadata": {},
   "source": [
    "* 数据类型  \n",
    "\n",
    "|方法|描述|\n",
    "|---|---|\n",
    "|ndarray.dtype|数组元素的数据类型|"
   ]
  },
  {
   "cell_type": "markdown",
   "metadata": {},
   "source": [
    "* 其他属性  \n",
    "\n",
    "|方法|描述|\n",
    "|---|---|\n",
    "|ndarray.T|转置数组|\n",
    "|ndarray.real|数组的真实部分|\n",
    "|ndarray.imag|数组的虚部|\n",
    "|ndarray.flat|数组上的一维迭代器|\n",
    "|ndarray.ctypes|一个简化数组与ctypes模块交互的对象|"
   ]
  },
  {
   "cell_type": "markdown",
   "metadata": {},
   "source": [
    "* **数组方法**    \n",
    "数组的方法是比较常用的，一个ndarray对象具有某种方式在数组，典型的返回一个数组结果操作的许多方法。主要范分为：数组转换、形状操作、项目选择和操作、计算"
   ]
  },
  {
   "cell_type": "markdown",
   "metadata": {},
   "source": [
    "**数组转换**  "
   ]
  },
  {
   "cell_type": "markdown",
   "metadata": {},
   "source": [
    "1.  ndarray.item(*args) | 将数组元素复制到标准Python标量并返回它，返回Python的数据格式，而不是ndarray的数据格式。如果数据为一个整数，表示按照顺序进行数数"
   ]
  },
  {
   "cell_type": "code",
   "execution_count": 16,
   "metadata": {},
   "outputs": [
    {
     "name": "stdout",
     "output_type": "stream",
     "text": [
      "[[2 2 6]\n",
      " [1 3 6]\n",
      " [1 0 1]]\n",
      "1\n",
      "0\n",
      "2\n",
      "1\n",
      "<class 'int'>\n"
     ]
    }
   ],
   "source": [
    "import numpy as np\n",
    "np.random.seed(123)\n",
    "x = np.random.randint(9,size=(3,3))\n",
    "print(x)\n",
    "print(x.item(3))\n",
    "print(x.item(7))\n",
    "print(x.item((0,1)))\n",
    "a = x.item((2,2))\n",
    "print(x.item((2,2)))\n",
    "print(type(a))"
   ]
  },
  {
   "cell_type": "markdown",
   "metadata": {},
   "source": [
    "2.ndarray.tolist()|将数组做为a.ndim-levels申城嵌套的Python标量列表并返回。就是将ndarray数据类型转换成Python数据类型，同item一样不过返回的是Python的list，而不是单个值"
   ]
  },
  {
   "cell_type": "code",
   "execution_count": 26,
   "metadata": {},
   "outputs": [
    {
     "name": "stdout",
     "output_type": "stream",
     "text": [
      "<class 'list'>\n",
      "<class 'list'>\n"
     ]
    }
   ],
   "source": [
    "# 二维\n",
    "import numpy as np\n",
    "a = np.array([[1.2],[3,4]])\n",
    "a1 = list(a)\n",
    "b1 = a.tolist()\n",
    "print(type(a1))\n",
    "print(type(b1))"
   ]
  },
  {
   "cell_type": "code",
   "execution_count": 31,
   "metadata": {},
   "outputs": [
    {
     "name": "stdout",
     "output_type": "stream",
     "text": [
      "1\n",
      "1 <class 'int'>\n"
     ]
    }
   ],
   "source": [
    "# 标量\n",
    "a = np.array(1)\n",
    "print(a)\n",
    "# a1 = list(a) # 报错\n",
    "a1 = a.tolist()\n",
    "print(a1,type(a1))"
   ]
  },
  {
   "cell_type": "code",
   "execution_count": 33,
   "metadata": {},
   "outputs": [
    {
     "name": "stdout",
     "output_type": "stream",
     "text": [
      "[1, 2, 3, 4, 5] <class 'list'>\n"
     ]
    }
   ],
   "source": [
    "# 一维\n",
    "a = np.array([1,2,3,4,5])\n",
    "a1 = list(a)\n",
    "print(a1,type(a1))"
   ]
  },
  {
   "cell_type": "markdown",
   "metadata": {},
   "source": [
    "* 3.ndarray.itemset|将标量插入数组（如果可能，讲标了转换为数组的dtype）"
   ]
  },
  {
   "cell_type": "code",
   "execution_count": 38,
   "metadata": {},
   "outputs": [
    {
     "name": "stdout",
     "output_type": "stream",
     "text": [
      "[[2 2 6]\n",
      " [1 3 6]\n",
      " [1 0 1]]\n",
      "None\n",
      "[[2 2 6]\n",
      " [1 3 6]\n",
      " [1 0 9]]\n"
     ]
    }
   ],
   "source": [
    "import numpy as np\n",
    "np.random.seed(123)\n",
    "x = np.random.randint(9, size=(3,3))\n",
    "print(x)\n",
    "print(x.itemset((2,2),9))  # 对应2,2位置插入9\n",
    "print(x)"
   ]
  },
  {
   "cell_type": "markdown",
   "metadata": {},
   "source": [
    "* ndarray.tostring/tobytes| 构造包含数组中原始数据字节的Python字节"
   ]
  },
  {
   "cell_type": "code",
   "execution_count": 43,
   "metadata": {},
   "outputs": [
    {
     "name": "stdout",
     "output_type": "stream",
     "text": [
      "b'\\x00\\x00\\x01\\x00\\x02\\x00\\x03\\x00'\n",
      "True\n",
      "b'\\x00\\x00\\x02\\x00\\x01\\x00\\x03\\x00'\n"
     ]
    }
   ],
   "source": [
    "x = np.array([[0, 1], [2, 3]], dtype='<u2')\n",
    "print(x.tostring())\n",
    "print(x.tobytes('C') == x.tobytes())\n",
    "print(x.tobytes('F'))"
   ]
  },
  {
   "cell_type": "markdown",
   "metadata": {},
   "source": [
    "* ndarray.tofile| 将数组做为文本或二进制写入文件（默认）"
   ]
  },
  {
   "cell_type": "code",
   "execution_count": 45,
   "metadata": {},
   "outputs": [
    {
     "data": {
      "text/plain": [
       "b'\\x00\\x00\\x01\\x00\\x02\\x00\\x03\\x00'"
      ]
     },
     "execution_count": 45,
     "metadata": {},
     "output_type": "execute_result"
    }
   ],
   "source": [
    "x = np.array([[0, 1], [2, 3]], dtype='<u2')\n",
    "x.tobytes()"
   ]
  },
  {
   "cell_type": "markdown",
   "metadata": {},
   "source": [
    "* ndarray.dump(file)|j将数组的pickle转储到指定文件"
   ]
  },
  {
   "cell_type": "markdown",
   "metadata": {},
   "source": [
    "* ndarray.dumps()| 以字符串形式返回数组的pickle"
   ]
  },
  {
   "cell_type": "markdown",
   "metadata": {},
   "source": [
    "* ndarray.atype(dtype[,order,casting,...])| 数组的副本，强制转换为指定的类型"
   ]
  },
  {
   "cell_type": "code",
   "execution_count": 70,
   "metadata": {},
   "outputs": [
    {
     "name": "stdout",
     "output_type": "stream",
     "text": [
      "[1 2 3 4 5] int32\n",
      "float64\n"
     ]
    }
   ],
   "source": [
    "import numpy as np\n",
    "arr = np.array([1,2,3,4,5])\n",
    "print(arr,arr.dtype)\n",
    "float_arr = arr.astype(np.float64)\n",
    "print(float_arr.dtype)"
   ]
  },
  {
   "cell_type": "markdown",
   "metadata": {},
   "source": [
    "* ndarray.byteswap| 交交换数组元素的字节"
   ]
  },
  {
   "cell_type": "code",
   "execution_count": 71,
   "metadata": {},
   "outputs": [
    {
     "name": "stdout",
     "output_type": "stream",
     "text": [
      "['0x1', '0x100', '0x2233']\n",
      "['0x100', '0x1', '0x3322']\n"
     ]
    }
   ],
   "source": [
    "A = np.array([1, 256, 8755], dtype=np.int16)\n",
    "print(list(map(hex, A)))\n",
    "A.byteswap(inplace=True)\n",
    "print(list(map(hex, A)))"
   ]
  },
  {
   "cell_type": "markdown",
   "metadata": {},
   "source": [
    "* ndarray.copy| 深拷贝，返回数组的副本"
   ]
  },
  {
   "cell_type": "code",
   "execution_count": 72,
   "metadata": {},
   "outputs": [
    {
     "name": "stdout",
     "output_type": "stream",
     "text": [
      "[[100   2   3]\n",
      " [  4   5   6]]\n",
      "[[100   2   3]\n",
      " [  4   5   6]]\n"
     ]
    }
   ],
   "source": [
    "x = np.array([[1,2,3],[4,5,6]], order='F')\n",
    "y = x\n",
    "# 更改原数组中的某一个值\n",
    "x[0][0] = 100\n",
    "# 查看两个数组值变化都改变了，因为这是引用方式\n",
    "print(x)\n",
    "print(y)"
   ]
  },
  {
   "cell_type": "code",
   "execution_count": 73,
   "metadata": {},
   "outputs": [
    {
     "name": "stdout",
     "output_type": "stream",
     "text": [
      "[[100   2   3]\n",
      " [  4   5   6]]\n",
      "[[1 2 3]\n",
      " [4 5 6]]\n"
     ]
    }
   ],
   "source": [
    "x = np.array([[1,2,3],[4,5,6]], order='F')\n",
    "y = x.copy()\n",
    "# 更改原数组中的某一个值\n",
    "x[0][0] = 100\n",
    "# 采用深拷贝不影响\n",
    "print(x)\n",
    "print(y)"
   ]
  },
  {
   "cell_type": "markdown",
   "metadata": {},
   "source": [
    "* ndarray.view([dtype,type])| 具有相同数据的数组的新视图"
   ]
  },
  {
   "cell_type": "code",
   "execution_count": 75,
   "metadata": {},
   "outputs": [
    {
     "name": "stdout",
     "output_type": "stream",
     "text": [
      "[(1, 2)]\n",
      "[[513]]\n"
     ]
    }
   ],
   "source": [
    "x = np.array([(1, 2)], dtype=[('a', np.int8), ('b', np.int8)])\n",
    "print(x)\n",
    "y = x.view(dtype=np.int16, type=np.matrix)\n",
    "print(y)"
   ]
  },
  {
   "cell_type": "code",
   "execution_count": 76,
   "metadata": {},
   "outputs": [
    {
     "name": "stdout",
     "output_type": "stream",
     "text": [
      "[[1 2]\n",
      " [3 4]]\n"
     ]
    }
   ],
   "source": [
    "x = np.array([(1, 2),(3,4)], dtype=[('a', np.int8), ('b', np.int8)])\n",
    "xv = x.view(dtype=np.int8).reshape(-1,2)\n",
    "print(xv)"
   ]
  },
  {
   "cell_type": "markdown",
   "metadata": {},
   "source": [
    "* ndarray.getfield| filter回给定数组的字段做为特定类型"
   ]
  },
  {
   "cell_type": "code",
   "execution_count": 82,
   "metadata": {},
   "outputs": [
    {
     "name": "stdout",
     "output_type": "stream",
     "text": [
      "[[1.+1.j 0.+0.j]\n",
      " [0.+0.j 2.+4.j]]\n",
      "\n",
      "[[1.+1.j 0.+0.j]\n",
      " [0.+0.j 2.+4.j]]\n",
      "\n",
      "[[1.+1.j 0.+0.j]\n",
      " [0.+0.j 2.+4.j]]\n"
     ]
    }
   ],
   "source": [
    "x1 = np.diag([1.+1.j]*2)\n",
    "x1[1, 1] = 2 + 4.j\n",
    "print(x1)\n",
    "print()\n",
    "x1.getfield(np.float64)\n",
    "print(x1)\n",
    "print()\n",
    "x1.getfield(np.float64, offset=8)\n",
    "print(x1)"
   ]
  },
  {
   "cell_type": "markdown",
   "metadata": {},
   "source": [
    "* ndarray.setflags| 分别设置数组标志WRITEABLE，ALIGNED，（WRITEBACKIFCOPY和UPDATEIFCOPY）"
   ]
  },
  {
   "cell_type": "code",
   "execution_count": 84,
   "metadata": {},
   "outputs": [
    {
     "name": "stdout",
     "output_type": "stream",
     "text": [
      "[[3 1 7]\n",
      " [2 0 0]\n",
      " [8 5 9]]\n"
     ]
    }
   ],
   "source": [
    "y = np.array([[3, 1, 7],\n",
    "...               [2, 0, 0],\n",
    "...               [8, 5, 9]])\n",
    "print(y)"
   ]
  },
  {
   "cell_type": "code",
   "execution_count": 85,
   "metadata": {},
   "outputs": [
    {
     "name": "stdout",
     "output_type": "stream",
     "text": [
      "  C_CONTIGUOUS : True\n",
      "  F_CONTIGUOUS : False\n",
      "  OWNDATA : True\n",
      "  WRITEABLE : True\n",
      "  ALIGNED : True\n",
      "  WRITEBACKIFCOPY : False\n",
      "  UPDATEIFCOPY : False\n"
     ]
    }
   ],
   "source": [
    "print(y.flags)"
   ]
  },
  {
   "cell_type": "code",
   "execution_count": 87,
   "metadata": {},
   "outputs": [
    {
     "name": "stdout",
     "output_type": "stream",
     "text": [
      "  C_CONTIGUOUS : True\n",
      "  F_CONTIGUOUS : False\n",
      "  OWNDATA : True\n",
      "  WRITEABLE : False\n",
      "  ALIGNED : False\n",
      "  WRITEBACKIFCOPY : False\n",
      "  UPDATEIFCOPY : False\n"
     ]
    }
   ],
   "source": [
    "y.setflags(write=0, align=0)\n",
    "print(y.flags)"
   ]
  },
  {
   "cell_type": "markdown",
   "metadata": {},
   "source": [
    "* ndarray.fill| 使用标量进行填充"
   ]
  },
  {
   "cell_type": "code",
   "execution_count": 89,
   "metadata": {},
   "outputs": [
    {
     "name": "stdout",
     "output_type": "stream",
     "text": [
      "[1 2]\n",
      "**************************************************\n",
      "[0 0]\n"
     ]
    }
   ],
   "source": [
    "a = np.array([1,2])\n",
    "print(a)\n",
    "print('*'*50)\n",
    "a.fill(0)\n",
    "print(a)"
   ]
  },
  {
   "cell_type": "markdown",
   "metadata": {},
   "source": [
    "**形状操作**   \n",
    "对于重新n整形、调整大小和转置，单个元组参数可以用被解释为n元组的整数替换。"
   ]
  },
  {
   "cell_type": "markdown",
   "metadata": {},
   "source": [
    "* ndarray.reshape| 返回包含具有新形状的相同数据的数组"
   ]
  },
  {
   "cell_type": "code",
   "execution_count": 94,
   "metadata": {},
   "outputs": [
    {
     "name": "stdout",
     "output_type": "stream",
     "text": [
      "[[ 0  1  2  3]\n",
      " [ 4  5  6  7]\n",
      " [ 8  9 10 11]\n",
      " [12 13 14 15]]\n"
     ]
    }
   ],
   "source": [
    "a = np.arange(16).reshape(4,-1)\n",
    "print(a)"
   ]
  },
  {
   "cell_type": "markdown",
   "metadata": {},
   "source": [
    "* ndarray.resize| 就地更改数组的形状和大小"
   ]
  },
  {
   "cell_type": "code",
   "execution_count": 99,
   "metadata": {},
   "outputs": [
    {
     "name": "stdout",
     "output_type": "stream",
     "text": [
      "[[0 1]\n",
      " [2 3]]\n",
      "[[0]\n",
      " [2]]\n",
      "[[0]\n",
      " [2]]\n"
     ]
    }
   ],
   "source": [
    "a = np.array([[0, 1], [2, 3]], order='F')\n",
    "print(a)\n",
    "a.resize((2, 1))\n",
    "print(a)"
   ]
  },
  {
   "cell_type": "code",
   "execution_count": 100,
   "metadata": {},
   "outputs": [
    {
     "name": "stdout",
     "output_type": "stream",
     "text": [
      "[ 0  1  2  3  4  5  6  7  8  9 10 11 12 13 14 15]\n"
     ]
    }
   ],
   "source": [
    "# reshape和resize是一对，前者是不改变原数组的形状，后者是改变原数组的形状\n",
    "a = np.arange(16)\n",
    "a.reshape(4,-1)\n",
    "print(a)"
   ]
  },
  {
   "cell_type": "code",
   "execution_count": 102,
   "metadata": {},
   "outputs": [
    {
     "name": "stdout",
     "output_type": "stream",
     "text": [
      "[[ 0  1  2  3]\n",
      " [ 4  5  6  7]\n",
      " [ 8  9 10 11]\n",
      " [12 13 14 15]]\n"
     ]
    }
   ],
   "source": [
    "a = np.arange(16)\n",
    "a.resize(4,4)\n",
    "print(a)"
   ]
  },
  {
   "cell_type": "markdown",
   "metadata": {},
   "source": [
    "* ndarray.flatten| 将折叠的数组的副本返回到一个维度"
   ]
  },
  {
   "cell_type": "markdown",
   "metadata": {},
   "source": [
    "* ndarray.ravel| 返回一个扁平的数组"
   ]
  },
  {
   "cell_type": "code",
   "execution_count": 115,
   "metadata": {},
   "outputs": [
    {
     "name": "stdout",
     "output_type": "stream",
     "text": [
      "[[ 0  1  2  3]\n",
      " [ 4  5  6  7]\n",
      " [ 8  9 10 11]\n",
      " [12 13 14 15]]\n",
      "[[ 0  1  2  3]\n",
      " [ 4  5  6  7]\n",
      " [ 8  9 10 11]\n",
      " [12 13 14 15]]\n"
     ]
    }
   ],
   "source": [
    "# flatten和ravel也是一对，内容同上\n",
    "a = np.arange(16).reshape(4,4)\n",
    "print(a)\n",
    "a.flatten()[:] =16\n",
    "print(a)"
   ]
  },
  {
   "cell_type": "code",
   "execution_count": 113,
   "metadata": {},
   "outputs": [
    {
     "name": "stdout",
     "output_type": "stream",
     "text": [
      "[[ 0  1  2  3]\n",
      " [ 4  5  6  7]\n",
      " [ 8  9 10 11]\n",
      " [12 13 14 15]]\n",
      "[[16 16 16 16]\n",
      " [16 16 16 16]\n",
      " [16 16 16 16]\n",
      " [16 16 16 16]]\n"
     ]
    }
   ],
   "source": [
    "a = np.arange(16).reshape(4,4)\n",
    "print(a)\n",
    "a.ravel()[...]=16\n",
    "print(a)"
   ]
  },
  {
   "cell_type": "markdown",
   "metadata": {},
   "source": [
    "* ndarray.transpose| 转置操作类似于.T"
   ]
  },
  {
   "cell_type": "code",
   "execution_count": 117,
   "metadata": {},
   "outputs": [
    {
     "name": "stdout",
     "output_type": "stream",
     "text": [
      "[[ 0  1  2  3]\n",
      " [ 4  5  6  7]\n",
      " [ 8  9 10 11]\n",
      " [12 13 14 15]]\n"
     ]
    },
    {
     "data": {
      "text/plain": [
       "array([[ 0,  4,  8, 12],\n",
       "       [ 1,  5,  9, 13],\n",
       "       [ 2,  6, 10, 14],\n",
       "       [ 3,  7, 11, 15]])"
      ]
     },
     "execution_count": 117,
     "metadata": {},
     "output_type": "execute_result"
    }
   ],
   "source": [
    "a = np.arange(16).reshape(4,4)\n",
    "print(a)\n",
    "np.transpose(a)"
   ]
  },
  {
   "cell_type": "markdown",
   "metadata": {},
   "source": [
    "* ndarray.swapaxes| 交换数组中的视图，对轴axis1和axis互换"
   ]
  },
  {
   "cell_type": "code",
   "execution_count": 121,
   "metadata": {},
   "outputs": [
    {
     "name": "stdout",
     "output_type": "stream",
     "text": [
      "[[ 0  1  2  3]\n",
      " [ 4  5  6  7]\n",
      " [ 8  9 10 11]\n",
      " [12 13 14 15]]\n",
      "**************************************************\n",
      "[[ 0  4  8 12]\n",
      " [ 1  5  9 13]\n",
      " [ 2  6 10 14]\n",
      " [ 3  7 11 15]]\n"
     ]
    }
   ],
   "source": [
    "a = np.arange(16).reshape(4,4)\n",
    "print(a)\n",
    "print('*'*50)\n",
    "print(np.swapaxes(a,0,1))"
   ]
  },
  {
   "cell_type": "code",
   "execution_count": 122,
   "metadata": {},
   "outputs": [
    {
     "data": {
      "text/plain": [
       "array([[[0, 1],\n",
       "        [2, 3]],\n",
       "\n",
       "       [[4, 5],\n",
       "        [6, 7]]])"
      ]
     },
     "execution_count": 122,
     "metadata": {},
     "output_type": "execute_result"
    }
   ],
   "source": [
    "x = np.array([[[0,1],[2,3]],[[4,5],[6,7]]])\n",
    "x"
   ]
  },
  {
   "cell_type": "code",
   "execution_count": 123,
   "metadata": {},
   "outputs": [
    {
     "data": {
      "text/plain": [
       "array([[[0, 4],\n",
       "        [2, 6]],\n",
       "\n",
       "       [[1, 5],\n",
       "        [3, 7]]])"
      ]
     },
     "execution_count": 123,
     "metadata": {},
     "output_type": "execute_result"
    }
   ],
   "source": [
    "np.swapaxes(x,0,2)"
   ]
  },
  {
   "cell_type": "markdown",
   "metadata": {},
   "source": [
    "* ndarray.squeeze| 从形状去除单维输出一个不会改变原数组的形状"
   ]
  },
  {
   "cell_type": "code",
   "execution_count": 130,
   "metadata": {},
   "outputs": [
    {
     "name": "stdout",
     "output_type": "stream",
     "text": [
      "(1, 1, 10)\n",
      "[[[0 1 2 3 4 5 6 7 8 9]]]\n"
     ]
    }
   ],
   "source": [
    "e= np.arange(10).reshape(1,1,10)\n",
    "print(e.shape,e,sep='\\n')"
   ]
  },
  {
   "cell_type": "code",
   "execution_count": 139,
   "metadata": {},
   "outputs": [
    {
     "name": "stdout",
     "output_type": "stream",
     "text": [
      "[0 1 2 3 4 5 6 7 8 9]\n"
     ]
    }
   ],
   "source": [
    "a = np.squeeze(e,axis=(0))\n",
    "print(a)"
   ]
  },
  {
   "cell_type": "code",
   "execution_count": 126,
   "metadata": {},
   "outputs": [
    {
     "name": "stdout",
     "output_type": "stream",
     "text": [
      "[[[0]\n",
      "  [1]\n",
      "  [2]]]\n"
     ]
    }
   ],
   "source": [
    "print(x)"
   ]
  },
  {
   "cell_type": "markdown",
   "metadata": {},
   "source": [
    "**项目选择和操作**  \n",
    "对于采用 axis 关键字的数组方法，默认为 None。 如果axis为 None ，则将数组视为1-D数组。 轴的 任何其他值表示操作应继续进行的维度。"
   ]
  },
  {
   "cell_type": "markdown",
   "metadata": {},
   "source": [
    "* ndarray.take(indices[, axis, out, mode])| 返回由给定索引处的a元素组成的数组"
   ]
  },
  {
   "cell_type": "code",
   "execution_count": 140,
   "metadata": {},
   "outputs": [
    {
     "data": {
      "text/plain": [
       "array([4, 3, 6])"
      ]
     },
     "execution_count": 140,
     "metadata": {},
     "output_type": "execute_result"
    }
   ],
   "source": [
    "a = [4, 3, 5, 7, 6, 8]\n",
    "indices = [0, 1, 4]\n",
    "np.take(a, indices)"
   ]
  },
  {
   "cell_type": "markdown",
   "metadata": {},
   "source": [
    "* ndarray.put(indices, values[, mode])| 为索引中的所有n设置。a.flat[n] = value[n]"
   ]
  },
  {
   "cell_type": "code",
   "execution_count": 141,
   "metadata": {},
   "outputs": [
    {
     "data": {
      "text/plain": [
       "array([-44,   1, -55,   3,   4])"
      ]
     },
     "execution_count": 141,
     "metadata": {},
     "output_type": "execute_result"
    }
   ],
   "source": [
    "a = np.arange(5)\n",
    "np.put(a, [0, 2], [-44, -55])\n",
    "a"
   ]
  },
  {
   "cell_type": "code",
   "execution_count": 142,
   "metadata": {},
   "outputs": [
    {
     "data": {
      "text/plain": [
       "array([ 0,  1,  2,  3, -5])"
      ]
     },
     "execution_count": 142,
     "metadata": {},
     "output_type": "execute_result"
    }
   ],
   "source": [
    "# mode有三：raise引发一个错误，wrap-不提示错误，clip，如果引发一个错误，如果这个错误是由目标数组引起的\n",
    "# 将被修改\n",
    "a = np.arange(5)\n",
    "np.put(a, 22, -5, mode='clip')\n",
    "a"
   ]
  },
  {
   "cell_type": "markdown",
   "metadata": {},
   "source": [
    "* ndarray.repeat(repeats[, axis])/tile|重复数组元素,tile是把数组做为一个整体进行重复"
   ]
  },
  {
   "cell_type": "code",
   "execution_count": 162,
   "metadata": {},
   "outputs": [
    {
     "name": "stdout",
     "output_type": "stream",
     "text": [
      "[[1 2]\n",
      " [3 4]]\n",
      "**************************************************\n",
      "[[1 1 2 2]\n",
      " [3 3 4 4]]\n",
      "**************************************************\n",
      "[[1 2 1 2 1 2 1 2]\n",
      " [3 4 3 4 3 4 3 4]]\n"
     ]
    }
   ],
   "source": [
    "x = np.array([[1,2],[3,4]])\n",
    "print(x)\n",
    "print('*'*50)\n",
    "print(np.repeat(x, 2,axis=1))\n",
    "print('*'*50)\n",
    "print(np.tile(x,(4))) # （4，）第一个参数表示向行重复几遍，第二个参数表示向列重复几遍\n"
   ]
  },
  {
   "cell_type": "markdown",
   "metadata": {},
   "source": [
    "* ndarray.chose(choices[, out, mode])| 使用索引数组从一组选项中构造新数组"
   ]
  },
  {
   "cell_type": "code",
   "execution_count": 197,
   "metadata": {},
   "outputs": [
    {
     "data": {
      "text/plain": [
       "array([ 1,  4,  7, 10])"
      ]
     },
     "execution_count": 197,
     "metadata": {},
     "output_type": "execute_result"
    }
   ],
   "source": [
    "a = np.array([[1,2,3],[4,5,6],[7,8,9],[10,11,12]])\n",
    "index = np.array([0,0,0,0])   # 对应的每一行索要选择的内容\n",
    "np.choose(index,a.T)"
   ]
  },
  {
   "cell_type": "code",
   "execution_count": 201,
   "metadata": {},
   "outputs": [
    {
     "data": {
      "text/plain": [
       "array([[100, 200, 300, 100],\n",
       "       [200, 100, 300, 100]])"
      ]
     },
     "execution_count": 201,
     "metadata": {},
     "output_type": "execute_result"
    }
   ],
   "source": [
    "# choose第一个参数：要选择成什么样的数组，数组中的内容都是表示下标。第二个参数：表示选择什么内容\n",
    "op = np.array([[0,1,2,0],[1,0,2,0]])\n",
    "ip = np.array([100,200,300,400])\n",
    "np.choose(op,ip)"
   ]
  },
  {
   "cell_type": "markdown",
   "metadata": {},
   "source": [
    "* ndarray.sort([axis, kind, order])| 就地排序"
   ]
  },
  {
   "cell_type": "code",
   "execution_count": 227,
   "metadata": {},
   "outputs": [
    {
     "name": "stdout",
     "output_type": "stream",
     "text": [
      "[[1 4]\n",
      " [3 1]]\n",
      "**************************************************\n",
      "[[4 1]\n",
      " [3 1]]\n",
      "**************************************************\n",
      "[[1 1]\n",
      " [3 4]]\n"
     ]
    }
   ],
   "source": [
    "# 这个排序可以按照行的方向排序，还可以按照列的方向排序，都是升序\n",
    "a = np.array([[1,4], [3,1]])\n",
    "print(a)\n",
    "print('*'*50)\n",
    "print(np.sort(a,axis=1))\n",
    "print('*'*50)\n",
    "print(np.sort(a,axis=0))"
   ]
  },
  {
   "cell_type": "code",
   "execution_count": 228,
   "metadata": {},
   "outputs": [
    {
     "name": "stdout",
     "output_type": "stream",
     "text": [
      "[[4 1]\n",
      " [3 1]]\n"
     ]
    }
   ],
   "source": [
    "# 对于逆序的话，没有现成的方法，可以采取取负再取负的方式\n",
    "print(-np.sort(-a,axis=1))"
   ]
  },
  {
   "cell_type": "markdown",
   "metadata": {},
   "source": [
    "* argsort([axis, kind, order])| 与上面相同不过返回的索引"
   ]
  },
  {
   "cell_type": "code",
   "execution_count": 229,
   "metadata": {},
   "outputs": [
    {
     "name": "stdout",
     "output_type": "stream",
     "text": [
      "[[1 4]\n",
      " [3 1]]\n",
      "**************************************************\n",
      "[[0 1]\n",
      " [1 0]]\n"
     ]
    }
   ],
   "source": [
    "a = np.array([[1,4], [3,1]])\n",
    "print(a)\n",
    "print('*'*50)\n",
    "print(np.argsort(a,axis=1))"
   ]
  },
  {
   "cell_type": "markdown",
   "metadata": {},
   "source": [
    "* ndarray.partition(kth[, axis, kind, order])| 重新排列数组中的元素，使得第k个位置的元素值位于排列数组中的位置"
   ]
  },
  {
   "cell_type": "code",
   "execution_count": 241,
   "metadata": {},
   "outputs": [
    {
     "name": "stdout",
     "output_type": "stream",
     "text": [
      "[0 0 3 3 4 4 4 6 9 9]\n",
      "[6 9 4 3 7 2 1 5 8 0]\n"
     ]
    }
   ],
   "source": [
    "# partition是分区的意思，设定一个数值，比这个数值大的放到后面，小的放到前面\n",
    "a = np.array([9, 4, 4, 3, 3, 9, 0, 4, 6, 0])\n",
    "print(np.sort(a))\n",
    "print(np.argpartition(a, 4))"
   ]
  },
  {
   "cell_type": "markdown",
   "metadata": {},
   "source": [
    "* ndarray.argpartition(kth[, axis, kind, order])| 重新排列数组中的元素，使得第k个位置的元素值位于排列数组中的位置，返回的是索引"
   ]
  },
  {
   "cell_type": "markdown",
   "metadata": {},
   "source": [
    "* ndarray.searchsorted(v[, side, sorter])| 查找应在其中插入v的元素以维护顺序的索引，side表示方向  \n",
    "left = a[i-1] < v <= a[i]  \n",
    "right = a[i-1] <= v < a[i]  \n",
    "这个比较有用"
   ]
  },
  {
   "cell_type": "code",
   "execution_count": 244,
   "metadata": {},
   "outputs": [
    {
     "data": {
      "text/plain": [
       "4"
      ]
     },
     "execution_count": 244,
     "metadata": {},
     "output_type": "execute_result"
    }
   ],
   "source": [
    "a = np.array([1,2,3,4,5])\n",
    "np.searchsorted(a,5)"
   ]
  },
  {
   "cell_type": "markdown",
   "metadata": {},
   "source": [
    "* ndarray.nonzero()| 返回非零元素的索引"
   ]
  },
  {
   "cell_type": "code",
   "execution_count": 245,
   "metadata": {},
   "outputs": [
    {
     "name": "stdout",
     "output_type": "stream",
     "text": [
      "[[3 0 0]\n",
      " [0 4 0]\n",
      " [5 6 0]]\n",
      "(array([0, 1, 2, 2], dtype=int64), array([0, 1, 0, 1], dtype=int64))\n"
     ]
    }
   ],
   "source": [
    "x = np.array([[3, 0, 0], [0, 4, 0], [5, 6, 0]])\n",
    "print(x)\n",
    "print(np.nonzero(x))"
   ]
  },
  {
   "cell_type": "markdown",
   "metadata": {},
   "source": [
    "* ndarray.compress(condition[, axis, out])| 沿给定轴返回此数组的选定切片"
   ]
  },
  {
   "cell_type": "code",
   "execution_count": 248,
   "metadata": {},
   "outputs": [
    {
     "name": "stdout",
     "output_type": "stream",
     "text": [
      "[[1 2]\n",
      " [3 4]\n",
      " [5 6]]\n",
      "**************************************************\n",
      "[[1]\n",
      " [3]\n",
      " [5]]\n",
      "**************************************************\n",
      "[[1]\n",
      " [3]\n",
      " [5]]\n"
     ]
    }
   ],
   "source": [
    "a = np.array([[1, 2], [3, 4], [5, 6]])\n",
    "print(a)\n",
    "print('*'*50)\n",
    "print(np.compress([True,False],a,axis=1))\n",
    "print('*'*50)\n",
    "print(np.compress([1,0],a,axis=1))"
   ]
  },
  {
   "cell_type": "markdown",
   "metadata": {},
   "source": [
    "* ndarray.diagonal([offset, axis1, axis2])| 返回指定的对角线"
   ]
  },
  {
   "cell_type": "code",
   "execution_count": 249,
   "metadata": {},
   "outputs": [
    {
     "name": "stdout",
     "output_type": "stream",
     "text": [
      "[[0 1]\n",
      " [2 3]]\n",
      "**************************************************\n",
      "[0 3]\n"
     ]
    }
   ],
   "source": [
    "a = np.arange(4).reshape(2,2)\n",
    "print(a)\n",
    "print('*'*50)\n",
    "print(np.diagonal(a))"
   ]
  },
  {
   "cell_type": "code",
   "execution_count": 252,
   "metadata": {},
   "outputs": [
    {
     "data": {
      "text/plain": [
       "array([[[0, 1],\n",
       "        [2, 3]],\n",
       "\n",
       "       [[4, 5],\n",
       "        [6, 7]]])"
      ]
     },
     "execution_count": 252,
     "metadata": {},
     "output_type": "execute_result"
    }
   ],
   "source": [
    "a = np.arange(8).reshape(2,2,2)\n",
    "a"
   ]
  },
  {
   "cell_type": "code",
   "execution_count": 251,
   "metadata": {},
   "outputs": [
    {
     "data": {
      "text/plain": [
       "array([[0, 6],\n",
       "       [1, 7]])"
      ]
     },
     "execution_count": 251,
     "metadata": {},
     "output_type": "execute_result"
    }
   ],
   "source": [
    "a.diagonal(0,  # Main diagonals of two arrays created by skipping\n",
    "...            0,  # across the outer(left)-most axis last and\n",
    "...            1)  # the \"middle\" (row) axis first."
   ]
  },
  {
   "cell_type": "markdown",
   "metadata": {},
   "source": [
    "**计算**   \n",
    "其中许多方法都采用名为 axis 的参数。在这种情况下，如果 axis 为 None （默认值），则将数组视为1-D数组，并对整个数组执行操作。 如果self是0维数组或数组标量，则此行为也是默认行为。 （数组标量是类型/类float32，float64等的实例，而0维数组是包含恰好一个数组标量的ndarray实例。）  \n",
    "如果 axis 是整数，则操作在给定轴上完成（对于可沿给定轴创建的每个1-D子数组）。"
   ]
  },
  {
   "cell_type": "markdown",
   "metadata": {},
   "source": [
    "* ndarray.max/min([axis，out，keepdims，initial，...]）/argmax/argmin([axis, out])| 返回最大最小以及其索引的方法"
   ]
  },
  {
   "cell_type": "code",
   "execution_count": 253,
   "metadata": {},
   "outputs": [
    {
     "data": {
      "text/plain": [
       "array([[0, 1, 2, 3, 4],\n",
       "       [5, 6, 7, 8, 9]])"
      ]
     },
     "execution_count": 253,
     "metadata": {},
     "output_type": "execute_result"
    }
   ],
   "source": [
    "a = np.arange(10).reshape(2,5)\n",
    "a"
   ]
  },
  {
   "cell_type": "code",
   "execution_count": 256,
   "metadata": {},
   "outputs": [
    {
     "name": "stdout",
     "output_type": "stream",
     "text": [
      "[4 9]\n",
      "**************************************************\n",
      "[0 1 2 3 4]\n",
      "**************************************************\n",
      "[4 4]\n",
      "**************************************************\n",
      "[0 0 0 0 0]\n"
     ]
    }
   ],
   "source": [
    "print(a.max(axis=1))\n",
    "print('*'*50)\n",
    "print(a.min(axis=0))\n",
    "print('*'*50)\n",
    "print(a.argmax(axis=1))\n",
    "print('*'*50)\n",
    "print(a.argmin(axis=0))"
   ]
  },
  {
   "cell_type": "markdown",
   "metadata": {},
   "source": [
    "* ndarray.ptp([axis, out, keepdims])| 沿着给定轴的方向求峰值（最大值-最小值）"
   ]
  },
  {
   "cell_type": "code",
   "execution_count": 257,
   "metadata": {},
   "outputs": [
    {
     "name": "stdout",
     "output_type": "stream",
     "text": [
      "[[0 1]\n",
      " [2 3]]\n",
      "**************************************************\n",
      "[1 1]\n"
     ]
    }
   ],
   "source": [
    "x = np.arange(4).reshape((2,2))\n",
    "print(x)\n",
    "print('*'*50)\n",
    "print(np.ptp(x,axis=1))"
   ]
  },
  {
   "cell_type": "markdown",
   "metadata": {},
   "source": [
    "* ndarray.clip([min，max，out])| 返回值限制为的数组[max,min]"
   ]
  },
  {
   "cell_type": "code",
   "execution_count": 262,
   "metadata": {},
   "outputs": [
    {
     "name": "stdout",
     "output_type": "stream",
     "text": [
      "[0 1 2 3 4 5 6 7 8 9]\n",
      "**************************************************\n",
      "[1 1 2 3 4 5 6 7 8 8]\n",
      "**************************************************\n",
      "[3 3 3 3 4 5 6 6 6 6]\n"
     ]
    }
   ],
   "source": [
    "a = np.arange(10)\n",
    "print(a)\n",
    "print('*'*50)\n",
    "print(np.clip(a, 1, 8))\n",
    "print('*'*50)\n",
    "print(np.clip(a, 3, 6, out=a))"
   ]
  },
  {
   "cell_type": "markdown",
   "metadata": {},
   "source": [
    "* ndarray.conj()| 符合共轭的所有元素"
   ]
  },
  {
   "cell_type": "code",
   "execution_count": 265,
   "metadata": {},
   "outputs": [
    {
     "name": "stdout",
     "output_type": "stream",
     "text": [
      "[[1.+1.j 0.+0.j]\n",
      " [0.+0.j 1.+1.j]]\n",
      "**************************************************\n",
      "[[1.-1.j 0.-0.j]\n",
      " [0.-0.j 1.-1.j]]\n"
     ]
    }
   ],
   "source": [
    "x = np.eye(2) + 1j * np.eye(2)\n",
    "print(x)\n",
    "print('*'*50)\n",
    "print(np.conjugate(x))"
   ]
  },
  {
   "cell_type": "markdown",
   "metadata": {},
   "source": [
    "* ndarray.round()| 四舍五入"
   ]
  },
  {
   "cell_type": "code",
   "execution_count": 266,
   "metadata": {},
   "outputs": [
    {
     "data": {
      "text/plain": [
       "array([0., 2.])"
      ]
     },
     "execution_count": 266,
     "metadata": {},
     "output_type": "execute_result"
    }
   ],
   "source": [
    "np.around([0.37, 1.64])"
   ]
  },
  {
   "cell_type": "markdown",
   "metadata": {},
   "source": [
    "* ndarray.trace([offset, axis1, axis2, dtype, out])| 返回数组对角线的总和"
   ]
  },
  {
   "cell_type": "code",
   "execution_count": 270,
   "metadata": {},
   "outputs": [
    {
     "name": "stdout",
     "output_type": "stream",
     "text": [
      "[[0 1]\n",
      " [2 3]]\n",
      "**************************************************\n",
      "3\n"
     ]
    }
   ],
   "source": [
    "a = np.arange(4).reshape((2,2))\n",
    "print(a)\n",
    "print('*'*50)\n",
    "print(np.trace(a))"
   ]
  },
  {
   "cell_type": "markdown",
   "metadata": {},
   "source": [
    "* ndarray.sum/cumsum([axis, dtype, out])| 求和和求累加"
   ]
  },
  {
   "cell_type": "code",
   "execution_count": 271,
   "metadata": {},
   "outputs": [
    {
     "data": {
      "text/plain": [
       "1"
      ]
     },
     "execution_count": 271,
     "metadata": {},
     "output_type": "execute_result"
    }
   ],
   "source": [
    "np.sum([0.5, 0.7, 0.2, 1.5], dtype=np.int32)"
   ]
  },
  {
   "cell_type": "code",
   "execution_count": 272,
   "metadata": {},
   "outputs": [
    {
     "data": {
      "text/plain": [
       "array([0, 0, 0, 1], dtype=int32)"
      ]
     },
     "execution_count": 272,
     "metadata": {},
     "output_type": "execute_result"
    }
   ],
   "source": [
    "np.cumsum([0.5, 0.7, 0.2, 1.5], dtype=np.int32)"
   ]
  },
  {
   "cell_type": "markdown",
   "metadata": {},
   "source": [
    "* ndarray.mean/var/std| 求均值"
   ]
  },
  {
   "cell_type": "code",
   "execution_count": 274,
   "metadata": {},
   "outputs": [
    {
     "data": {
      "text/plain": [
       "2.5"
      ]
     },
     "execution_count": 274,
     "metadata": {},
     "output_type": "execute_result"
    }
   ],
   "source": [
    "a = np.array([[1, 2], [3, 4]])\n",
    "np.mean(a)"
   ]
  },
  {
   "cell_type": "code",
   "execution_count": 275,
   "metadata": {},
   "outputs": [
    {
     "data": {
      "text/plain": [
       "1.118033988749895"
      ]
     },
     "execution_count": 275,
     "metadata": {},
     "output_type": "execute_result"
    }
   ],
   "source": [
    "np.std(a)"
   ]
  },
  {
   "cell_type": "code",
   "execution_count": 276,
   "metadata": {},
   "outputs": [
    {
     "data": {
      "text/plain": [
       "1.25"
      ]
     },
     "execution_count": 276,
     "metadata": {},
     "output_type": "execute_result"
    }
   ],
   "source": [
    "np.var(a)"
   ]
  },
  {
   "cell_type": "markdown",
   "metadata": {},
   "source": [
    "* ndarray.prod/cumprod| 求乘积和累乘"
   ]
  },
  {
   "cell_type": "code",
   "execution_count": 278,
   "metadata": {},
   "outputs": [
    {
     "data": {
      "text/plain": [
       "0"
      ]
     },
     "execution_count": 278,
     "metadata": {},
     "output_type": "execute_result"
    }
   ],
   "source": [
    "np.prod([0.5, 0.7, 0.2, 1.5], dtype=np.int32)"
   ]
  },
  {
   "cell_type": "code",
   "execution_count": 277,
   "metadata": {},
   "outputs": [
    {
     "data": {
      "text/plain": [
       "array([0, 0, 0, 0], dtype=int32)"
      ]
     },
     "execution_count": 277,
     "metadata": {},
     "output_type": "execute_result"
    }
   ],
   "source": [
    "np.cumprod([0.5, 0.7, 0.2, 1.5], dtype=np.int32)"
   ]
  },
  {
   "cell_type": "markdown",
   "metadata": {},
   "source": [
    "* ndarray.all/any| 如果所有元素都为True返回为True，如果任何一个元素，返回真，一个评估为True"
   ]
  },
  {
   "cell_type": "code",
   "execution_count": 279,
   "metadata": {},
   "outputs": [
    {
     "data": {
      "text/plain": [
       "False"
      ]
     },
     "execution_count": 279,
     "metadata": {},
     "output_type": "execute_result"
    }
   ],
   "source": [
    "np.all([[True,False],[True,True]])"
   ]
  },
  {
   "cell_type": "code",
   "execution_count": 280,
   "metadata": {},
   "outputs": [
    {
     "data": {
      "text/plain": [
       "True"
      ]
     },
     "execution_count": 280,
     "metadata": {},
     "output_type": "execute_result"
    }
   ],
   "source": [
    "np.any([[True,False],[True,True]])"
   ]
  },
  {
   "cell_type": "markdown",
   "metadata": {},
   "source": [
    "**算术、矩阵乘法和比较运算**\n",
    "\n",
    "|方法|描述|\n",
    "|---|---|\n",
    "|ndarray._lt_(self, value, /)\t|返回 self<value.|\n",
    "|ndarray._le_(self, value, /)\t|返回 self<=value.|\n",
    "|ndarray._gt_(self, value, /)\t|返回 self>value.|\n",
    "|ndarray._ge_(self, value, /)\t|返回 self>=value.|\n",
    "|ndarray._eq_(self, value, /)\t|返回 self==value.|\n",
    "|ndarray._ne_(self, value, /)\t|返回 self!=value.| \n",
    "|ndarray._bool_(self,/)\t|self!=0|\n",
    "|ndarray.\\__add__(self, value, /)\t|返回 self+value.|\n",
    "|ndarray.\\__sub__(self, value, /)\t|返回 self-value.|\n",
    "|ndarray.\\__mul__(self, value, /)\t|返回 self*value.|\n",
    "|ndarray.\\__truediv__(self, value, /)\t|返回 self/value.|\n",
    "|ndarray.\\__floordiv__(self, value, /)\t|返回 self//value.|\n",
    "|ndarray.\\__mod__(self, value, /)\t|返回 self%value.|\n",
    "|ndarray.\\__divmod__(self, value, /)\t|返回 divmod(self, value).|\n",
    "|ndarray.\\__pow__(self, value[, mod])\t|返回 pow(self, value, mod).|\n",
    "|ndarray.\\__lshift__(self, value, /)\t|返回 self<<value.|\n",
    "|ndarray.\\__rshift__(self, value, /)\t|返回 self>>value.|\n",
    "|ndarray.\\__and__(self, value, /)\t|返回 self&value.|\n",
    "|ndarray.\\__or__(self, value, /)\t|返回 self|\n",
    "|ndarray.\\__xor__(self, value, /)\t|返回 self^value.|\n",
    "|ndarray.\\__iadd__(self, value, /)\t返回 self+=value。|\n",
    "|ndarray.\\__isub__(self, value, /)\t返回 self==value。|\n",
    "|ndarray.\\__imul__(self, value, /)\t返回 self*=value。|\n",
    "|ndarray.\\__itruediv__(self, value, /)\t返回 self/=value。|\n",
    "|ndarray.\\__ifloordiv__(self, value, /)\t返回 self//=value。|\n",
    "|ndarray.\\__imod__(self, value, /)\t返回 self％=value。|\n",
    "|ndarray.\\__ipow__(self, value, /)\t返回 self**=value。|\n",
    "|ndarray.\\__ilshift__(self, value, /)\t返回 self<<=value。|\n",
    "|ndarray.\\__irshift__(self, value, /)\t返回 self>>=value。|\n",
    "|ndarray.\\__iand__(self, value, /)\t返回 self&=value。|\n",
    "|ndarray.\\__ior__(self, value, /)\t返回 self|\n",
    "|ndarray.\\__ixor__(self, value, /)\t返回 self^=value。|\n",
    "|ndarray.\\__matmul__(self, value, /)\t返回 self@value。|"
   ]
  },
  {
   "cell_type": "markdown",
   "metadata": {},
   "source": [
    "**特殊方法**\n",
    "\n",
    "|方法|描述|\n",
    "|---|---|\n",
    "|ndarray._copy__()\t|如果使用的copy.copy是所谓的数组上。|\n",
    "|ndarray._deepcopy__()\t|如果使用的copy.deepcopy是所谓的数组上。|\n",
    "|ndarray._reduce__()\t|用于 pickling。|\n",
    "|ndarray._setstate__（州，/）\t|用于unpickling|\n",
    "|ndarray._new__(*args, **kwargs)\t创建并返回一个新对象。|\n",
    "|ndarray._array__()\t|如果没有给出dtype，则返回对self的新引用;如果dtype与数组的当前dtype不同，则返回提供的数据类型的新数组。|\n",
    "|ndarray._array_wrap__()\t\n",
    "|ndarray._len__(self, /)\t|返回 len(self)。|\n",
    "|ndarray._getitem__(self, key, /)\t|返回 self[key]。|\n",
    "|ndarray.__setitem__(self, key, value, /)\t|将 self[key] 设置为value。|\n",
    "|ndarray.__contains__(self, key, /)\t|返回 self 的 key。|\n",
    "|ndarray.__int__(self)\t|none|\n",
    "|ndarray.__float__(self)\t|none|\n",
    "|ndarray.__complex__()\t|none\n",
    "|ndarray.__str__(self, /)\t|返回 str(self)。|\n",
    "|ndarray.__repr__(self, /)\t|返回 repr(self)。||"
   ]
  },
  {
   "cell_type": "markdown",
   "metadata": {},
   "source": []
  },
  {
   "cell_type": "markdown",
   "metadata": {},
   "source": [
    "## 标量  \n",
    "标量\n",
    "Python只定义了一种特定数据类（只有一种整数类型，一种浮点类型等）。这在不需要关心数据在计算机中表示的所有方式的应用中是方便的。然而，对于科学计算，通常需要更多的控制。\n",
    "\n",
    "在NumPy中，有24种新的基本Python类型来描述不同类型的标量。这些类型描述符主要基于CPython编写的C语言中可用的类型，其他几种类型与Python的类型兼容。\n",
    "\n",
    "数组标量具有与之相同的属性和方法ndarrays。[1]这允许人们将数组中的项目部分地放在与数组相同的基础上，从而平滑混合标量和数组操作时产生的粗糙边缘。\n",
    "\n",
    "数组标量存在于数据类型的层次结构中（请参见下图）。 可以使用层次结构检测它们：例如，如果Val是数组标量对象，则 isinstance(val，np.generic) 将返回 True。 或者，可以使用数据类型层次结构的其他成员来确定存在哪种数组标量。 因此，例如，如果val是复数值类型，则 isinstance(val，np.complexfloat) 将返回 True， 而如果 val 是灵活的itemsize数组类型之一（string、unicode、void）， 则 isinstance(val，np.Flexible) 将返回 True。"
   ]
  },
  {
   "cell_type": "markdown",
   "metadata": {},
   "source": [
    "* 内置标量类型  \n",
    "内置标量类型如下所示。连同它们的（主要是）C衍生的名称时，整数，浮点数，和复杂的数据类型也可使用位宽度约定，以便正确的大小的数组可以总是确保（例如int8，float64， complex128）。还提供了两个别名（intp和uintp）指向足以容纳C指针的整数类型。类似C的名称与字符代码相关联，如表中所示。但是，不鼓励使用字符代码。\n",
    "一些标量类型基本上等同于基本的Python类型，因此从它们以及通用数组标量类型继承  \n",
    "\n",
    "|数组标量类型|\t相关的Python类型|\n",
    "|---|---|\n",
    "|int_\t|IntType （仅限Python 2）|\n",
    "|float_\t|FloatType|\n",
    "|complex_\t|ComplexType|\n",
    "|bytes_\t|BytesType|\n",
    "|unicode_\t|UnicodeType|\n",
    "|bool_\t|兼容：Python bool\t|\n",
    "|bool8\t|8位|\n",
    "|byte\t|兼容：C char\t'b'\n",
    "|short\t|兼容：C短\t'h'\n",
    "|intc\t|兼容：C int\t'i'\n",
    "|int_\t|兼容：Python int\t'l'\n",
    "|longlong|\t兼容：C长\t'q'\n",
    "|intp\t|大到足以适合指针\t'p'\n",
    "|int8\t|8位\t\n",
    "|int16\t|16位\t\n",
    "|int32\t|32位\t\n",
    "|int64\t|64位\t\n",
    "|ubyte\t|compatible：C unsigned char\t'B'\n",
    "|ushort\t|兼容：C unsigned short\t'H'\n",
    "|uintc\t|compatible：C unsigned int\t'I'\n",
    "|uint\t|兼容：Python int\t'L'\n",
    "|ulonglong\t|兼容：C长\t'Q'\n",
    "|uintp\t|大到足以适合指针\t'P'\n",
    "|uint8\t|8位\t\n",
    "|uint16\t|16位\t\n",
    "|uint32\t|32位\t\n",
    "|uint64\t|64位\t\n",
    "|half\t|\t'e'\n",
    "|single\t|兼容：C浮动\t'f'\n",
    "|double\t|兼容：C双\t\n",
    "|float_\t兼容：Python float\t'd'\n",
    "|longfloat\t|兼容：C长浮\t'g'\n",
    "|float16\t|16位\t\n",
    "|float32\t|32位\t\n",
    "|float64\t|64位\t\n",
    "|float96\t|96位，平台？\t\n",
    "|float128\t|128位，平台？\n",
    "|csingle\t|\t'F'\n",
    "|complex_\t|兼容：Python复杂\t'D'\n",
    "|clongfloat\t|\t'G'\n",
    "|complex64\t|两个32位浮点数\t\n",
    "|complex128\t|两个64位浮点数\t\n",
    "|complex192\t|两个96位浮动平台？\t\n",
    "|complex256\t|两个128位浮点数，平台？\n",
    "|object_\t|任何Python对象\t'O'\n",
    "|bytes_\t|兼容：Python字节\t'S#'\n",
    "|unicode_\t|兼容：Python unicode / str\t'U#'\n",
    "|void\t\t|'V#'"
   ]
  },
  {
   "cell_type": "markdown",
   "metadata": {},
   "source": [
    "* 属性\n",
    "\n",
    "|方法\t|描述|\n",
    "|---|---|\n",
    "|generic.flags\t|标志的整数值\n",
    "|generic.shape\t|数组维度的元组\n",
    "|generic.strides|\t每个维度中的字节元组步骤\n",
    "|generic.ndim\t|数组维数\n",
    "|generic.data\t|指向数据开始的指针\n",
    "|generic.size\t|gentype中的元素数量\n",
    "|generic.itemsize\t|一个元素的长度，以字节为单位\n",
    "|generic.base\t|基础对象\n",
    "|generic.dtype\t|获取数组数据描述符\n",
    "|generic.real\t|标量的真实部分\n",
    "|generic.imag\t|标量的虚部\n",
    "|generic.flat\t|标量的一维视图\n",
    "|generic.T\t|颠倒\n",
    "|generic.array_interface\t|数组协议：Python端\n",
    "|generic.array_struct\t|数组协议：struct\n",
    "|generic.array_priority\t|数组优先级。\n",
    "|generic.array_wrap()\t|sc .__ array_wrap __（obj）从数组返回标量"
   ]
  },
  {
   "cell_type": "code",
   "execution_count": null,
   "metadata": {},
   "outputs": [],
   "source": []
  },
  {
   "cell_type": "markdown",
   "metadata": {},
   "source": [
    "* 索引  \n",
    "数组标量可以像0维数组一样索引：如果 x 是数组标量，  \n",
    "x[()] 返回数组标量的副本  \n",
    "x[...] 返回0维 ndarray  \n",
    "x['field-name']返回字段 field-name中 的数组标量。（例如， x 可以包含字段，当它对应于结构化数据类型时。）"
   ]
  },
  {
   "cell_type": "markdown",
   "metadata": {},
   "source": [
    "* 方法  \n",
    "\n",
    "|方法\t|描述|\n",
    "|---|---|\n",
    "|generic\t|numpy标量类型的基类。\n",
    "|generic.array()\t|sc .__ array __（dtype）从带有指定dtype的标量返回0-dim数组\n",
    "|generic.array_wrap()\t|sc .__ array_wrap __（obj）从数组返回标量\n",
    "|generic.squeeze()\t|未实现（虚拟属性）\n",
    "|generic.byteswap()\t|未实现（虚拟属性）\n",
    "|generic.reduce()\t|泡菜的助手\n",
    "|generic.setstate()\t|\n",
    "|generic.setflags()\t|未实现（虚拟属性）"
   ]
  },
  {
   "cell_type": "markdown",
   "metadata": {},
   "source": [
    "## 数据类型对象（dtype）"
   ]
  },
  {
   "cell_type": "markdown",
   "metadata": {},
   "source": [
    "## 索引"
   ]
  },
  {
   "cell_type": "code",
   "execution_count": 290,
   "metadata": {},
   "outputs": [
    {
     "name": "stdout",
     "output_type": "stream",
     "text": [
      "[[0 1 2 3 4]\n",
      " [5 6 7 8 9]]\n",
      "**************************************************\n",
      "(array([[0],\n",
      "       [1]]), array([[2, 4]]))\n",
      "**************************************************\n"
     ]
    },
    {
     "data": {
      "text/plain": [
       "((2, 1), (1, 2))"
      ]
     },
     "execution_count": 290,
     "metadata": {},
     "output_type": "execute_result"
    }
   ],
   "source": [
    "a = np.arange(10).reshape(2, 5)\n",
    "print(a)\n",
    "print('*'*50)\n",
    "ixgrid = np.ix_([0, 1], [2, 4])\n",
    "print(ixgrid)\n",
    "print('*'*50)\n",
    "ixgrid[0].shape, ixgrid[1].shape \n",
    "#也就是说取0行和1行，拼接2列和4列 "
   ]
  },
  {
   "cell_type": "markdown",
   "metadata": {},
   "source": [
    "* 迭代"
   ]
  },
  {
   "cell_type": "code",
   "execution_count": 291,
   "metadata": {},
   "outputs": [],
   "source": [
    "a = np.arange(6).reshape(2,3)\n",
    "it = np.nditer(a, flags=['f_index'])"
   ]
  },
  {
   "cell_type": "code",
   "execution_count": 292,
   "metadata": {},
   "outputs": [
    {
     "name": "stdout",
     "output_type": "stream",
     "text": [
      "0 <0> 1 <2> 2 <4> 3 <1> 4 <3> 5 <5> "
     ]
    }
   ],
   "source": [
    "while not it.finished:\n",
    "...     print(\"%d <%d>\" % (it[0], it.index), end=' ')\n",
    "...     it.iternext()"
   ]
  },
  {
   "cell_type": "code",
   "execution_count": 293,
   "metadata": {},
   "outputs": [
    {
     "data": {
      "text/plain": [
       "numpy.datetime64('2005-02-01')"
      ]
     },
     "execution_count": 293,
     "metadata": {},
     "output_type": "execute_result"
    }
   ],
   "source": [
    "np.datetime64('2005-02', 'D')"
   ]
  },
  {
   "cell_type": "code",
   "execution_count": 294,
   "metadata": {},
   "outputs": [
    {
     "data": {
      "text/plain": [
       "True"
      ]
     },
     "execution_count": 294,
     "metadata": {},
     "output_type": "execute_result"
    }
   ],
   "source": [
    "np.is_busday(np.datetime64('2011-07-15'))  # a Friday"
   ]
  },
  {
   "cell_type": "code",
   "execution_count": 295,
   "metadata": {},
   "outputs": [
    {
     "data": {
      "text/plain": [
       "5"
      ]
     },
     "execution_count": 295,
     "metadata": {},
     "output_type": "execute_result"
    }
   ],
   "source": [
    "np.busday_count(np.datetime64('2011-07-11'), np.datetime64('2011-07-18'))"
   ]
  },
  {
   "cell_type": "markdown",
   "metadata": {},
   "source": [
    "ufunc.reduce(a[, axis, dtype, out, …])\t减少一个接一个的尺寸，由沿一个轴施加ufunc。  \n",
    "ufunc.accumulate(array[, axis, dtype, out])\t累积将运算符应用于所有元素的结果。   \n",
    "ufunc.reduceat(a, indices[, axis, dtype, out])\t在单个轴上使用指定切片执行（局部）缩减。  \n",
    "ufunc.outer(A, B, **kwargs)\t将ufunc op应用于所有对（a，b），其中a中的a和b中的b。  \n",
    "ufunc.at(a, indices[, b])\t对'index'指定的元素在操作数'a'上执行无缓冲的就地操作。  "
   ]
  },
  {
   "cell_type": "code",
   "execution_count": null,
   "metadata": {},
   "outputs": [],
   "source": []
  }
 ],
 "metadata": {
  "hide_input": false,
  "kernelspec": {
   "display_name": "Python 3",
   "language": "python",
   "name": "python3"
  },
  "language_info": {
   "codemirror_mode": {
    "name": "ipython",
    "version": 3
   },
   "file_extension": ".py",
   "mimetype": "text/x-python",
   "name": "python",
   "nbconvert_exporter": "python",
   "pygments_lexer": "ipython3",
   "version": "3.7.4"
  },
  "toc": {
   "base_numbering": 1,
   "nav_menu": {},
   "number_sections": true,
   "sideBar": true,
   "skip_h1_title": false,
   "title_cell": "NumPy参考手册代码学习_01",
   "title_sidebar": "NumPy参考手册代码学习_01",
   "toc_cell": true,
   "toc_position": {
    "height": "calc(100% - 180px)",
    "left": "10px",
    "top": "150px",
    "width": "218.55px"
   },
   "toc_section_display": true,
   "toc_window_display": true
  },
  "varInspector": {
   "cols": {
    "lenName": 16,
    "lenType": 16,
    "lenVar": 40
   },
   "kernels_config": {
    "python": {
     "delete_cmd_postfix": "",
     "delete_cmd_prefix": "del ",
     "library": "var_list.py",
     "varRefreshCmd": "print(var_dic_list())"
    },
    "r": {
     "delete_cmd_postfix": ") ",
     "delete_cmd_prefix": "rm(",
     "library": "var_list.r",
     "varRefreshCmd": "cat(var_dic_list()) "
    }
   },
   "types_to_exclude": [
    "module",
    "function",
    "builtin_function_or_method",
    "instance",
    "_Feature"
   ],
   "window_display": false
  }
 },
 "nbformat": 4,
 "nbformat_minor": 2
}
