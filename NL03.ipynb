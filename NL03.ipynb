{
 "cells": [
  {
   "cell_type": "markdown",
   "metadata": {},
   "source": [
    "# 通用函数（ufunc，universal function）"
   ]
  },
  {
   "cell_type": "markdown",
   "metadata": {},
   "source": [
    "* 通用函数是一种ndarrays以逐个元素操作的函数，支持数组广播，类型转换和其他一些标准功能。也就是说unfuc是一个函数的矢量化包装器，它接受固定数量的特定输入并产生固定数量的特定输出。  \n",
    "* 在NumPy中，通用函数是numpy.func类的实例。许多内置函数都是在编译的C代码中实现的。基本的ufuncs对标量进行操作。单也有一种通用类型，基本元素是子数组（向量、矩阵等）。广播是在其他维度上完成的。也可以以ufunc使用frompyfunc工厂函数生成自定义示例。"
   ]
  },
  {
   "cell_type": "markdown",
   "metadata": {},
   "source": [
    "## 广播"
   ]
  },
  {
   "cell_type": "markdown",
   "metadata": {},
   "source": [
    "## 输出类型确定"
   ]
  },
  {
   "cell_type": "code",
   "execution_count": 2,
   "metadata": {},
   "outputs": [],
   "source": [
    "import numpy as np"
   ]
  },
  {
   "cell_type": "markdown",
   "metadata": {},
   "source": [
    "## 使用内部缓冲区"
   ]
  },
  {
   "cell_type": "code",
   "execution_count": 6,
   "metadata": {},
   "outputs": [
    {
     "data": {
      "text/plain": [
       "8192"
      ]
     },
     "execution_count": 6,
     "metadata": {},
     "output_type": "execute_result"
    }
   ],
   "source": [
    "np.setbufsize(size=16)"
   ]
  },
  {
   "cell_type": "markdown",
   "metadata": {},
   "source": [
    "## 错误处理"
   ]
  },
  {
   "cell_type": "code",
   "execution_count": 9,
   "metadata": {},
   "outputs": [
    {
     "data": {
      "text/plain": [
       "{'divide': 'ignore', 'over': 'ignore', 'under': 'ignore', 'invalid': 'ignore'}"
      ]
     },
     "execution_count": 9,
     "metadata": {},
     "output_type": "execute_result"
    }
   ],
   "source": [
    "old_settings = np.seterr(all='ignore')  #seterr to known value\n",
    "np.seterr(over='raise')"
   ]
  },
  {
   "cell_type": "markdown",
   "metadata": {},
   "source": [
    "seterr([all, divide, over, under, invalid])\t设置如何处理浮点错误。  \n",
    "seterrcall(func)\t设置浮点错误回调函数或日志对象。"
   ]
  },
  {
   "cell_type": "markdown",
   "metadata": {},
   "source": [
    "## 映射规则"
   ]
  },
  {
   "cell_type": "code",
   "execution_count": 13,
   "metadata": {
    "collapsed": true
   },
   "outputs": [
    {
     "ename": "IndentationError",
     "evalue": "expected an indented block (<ipython-input-13-7e1a3319d5c1>, line 2)",
     "output_type": "error",
     "traceback": [
      "\u001b[1;36m  File \u001b[1;32m\"<ipython-input-13-7e1a3319d5c1>\"\u001b[1;36m, line \u001b[1;32m2\u001b[0m\n\u001b[1;33m    print( 'X'),\u001b[0m\n\u001b[1;37m        ^\u001b[0m\n\u001b[1;31mIndentationError\u001b[0m\u001b[1;31m:\u001b[0m expected an indented block\n"
     ]
    }
   ],
   "source": [
    "def print_table(ntypes):\n",
    "... print( 'X'),\n",
    "...     for char in ntypes: print char,\n",
    "...     print\n",
    "...     for row in ntypes:\n",
    "...         print row,\n",
    "...         for col in ntypes:\n",
    "...             print int(np.can_cast(row, col)),\n",
    "...         print\n",
    "print_table(np.typecodes['All'])"
   ]
  },
  {
   "cell_type": "markdown",
   "metadata": {},
   "source": [
    "## 可选的关键字参数"
   ]
  },
  {
   "cell_type": "markdown",
   "metadata": {},
   "source": [
    "* out  \n",
    "    out关键字表示创建副本  \n",
    "* where  \n",
    "    True表示计算该位置的ufunc，值False表示仅将值保留在输出中。  \n",
    "* axes  \n",
    "    接受单个整数而不是元组，并且对所有输出都是标量的广义funcs。操作轴的索引的元组列表。  \n",
    "    (i,j),(j,k)->(i,k)相应的axes关键字是[(-2,1),(-2,-1),(-2,-1)]  \n",
    "* axis  \n",
    "    轴维度：axes=[(axis,), (axis,), ()]  \n",
    "* keepdims  \n",
    "    True表示减小轴将作为持仓为1的持仓保留在结果中，以便结果将针对输入正确广播。\n",
    "* casting  \n",
    "    可能是'不'，'等于'，'安全'，'same_kind'或'不安全'。  \n",
    "* order  \n",
    "    指定输出数组的计算迭代顺序/内存布局。默认为“K”。'C'表示输出应该是C连续的，'F'表示F-连续，'A'表示F-连续，如果输入是F-连续的而且也不是C-连续的，否则是C-连续的，'K' '意味着尽可能地匹配输入的元素排序。  \n",
    "* dtype  \n",
    "* subok  \n",
    "    True，如果是False，则输出将是严格数组，而不是子类型。\n",
    "* signature  \n",
    "    数据类型、数据类型的元组或指示ufunc的输入和输出类型的特殊签名字符串。 此参数允许您为1-d循环提供在基础计算中使用的特定签名。   \n",
    "* extobj  \n",
    "    长度为1、2或3的列表，指定ufunc缓冲区大小、错误模式整数和错误回调函数。 通常，这些值在特定于线程的字典中查找。"
   ]
  },
  {
   "cell_type": "markdown",
   "metadata": {},
   "source": [
    "## 属性\n",
    "\n",
    "|方法|描述|\n",
    "|---|---|\n",
    "|ufunc.nin\t|输入数量。|\n",
    "|ufunc.nout\t|输出数量。|\n",
    "|ufunc.nargs\t|参数的数量。|\n",
    "|ufunc.ntypes\t|类型数量。|\n",
    "|ufunc.types\t|返回包含input-> output类型的列表。\n",
    "|ufunc.identity\t|身份价值。|\n",
    "|ufunc.signature\t|广义ufunc操作的核心元素的定义。|"
   ]
  },
  {
   "cell_type": "markdown",
   "metadata": {},
   "source": [
    "## 方法  "
   ]
  },
  {
   "cell_type": "code",
   "execution_count": 18,
   "metadata": {},
   "outputs": [
    {
     "name": "stdout",
     "output_type": "stream",
     "text": [
      "[0 1 2 3 4 5 6 7]\n",
      "\n",
      "28\n"
     ]
    }
   ],
   "source": [
    "# reduce 减少一个接一个的尺寸，由沿一个轴施加ufunc。\n",
    "X = np.arange(8)\n",
    "print(X)\n",
    "print()\n",
    "print(np.add.reduce(X,0))"
   ]
  },
  {
   "cell_type": "code",
   "execution_count": 19,
   "metadata": {},
   "outputs": [
    {
     "data": {
      "text/plain": [
       "array([ 2,  5, 10], dtype=int32)"
      ]
     },
     "execution_count": 19,
     "metadata": {},
     "output_type": "execute_result"
    }
   ],
   "source": [
    "# accumulate 累积将运算符应用于所有元素的结果。\n",
    "np.add.accumulate([2, 3, 5])"
   ]
  },
  {
   "cell_type": "code",
   "execution_count": 20,
   "metadata": {},
   "outputs": [
    {
     "data": {
      "text/plain": [
       "array([ 6, 10, 14, 18], dtype=int32)"
      ]
     },
     "execution_count": 20,
     "metadata": {},
     "output_type": "execute_result"
    }
   ],
   "source": [
    "# reduceat 在单个轴上使用指定切片执行（局部）缩减。\n",
    "np.add.reduceat(np.arange(8),[0,4, 1,5, 2,6, 3,7])[::2]"
   ]
  },
  {
   "cell_type": "code",
   "execution_count": 21,
   "metadata": {},
   "outputs": [
    {
     "data": {
      "text/plain": [
       "array([[ 4,  5,  6],\n",
       "       [ 8, 10, 12],\n",
       "       [12, 15, 18]])"
      ]
     },
     "execution_count": 21,
     "metadata": {},
     "output_type": "execute_result"
    }
   ],
   "source": [
    "# outer  将ufunc op应用于所有对（a，b），其中a中的a和b中的b。\n",
    "np.multiply.outer([1, 2, 3], [4, 5, 6])"
   ]
  },
  {
   "cell_type": "code",
   "execution_count": 23,
   "metadata": {},
   "outputs": [
    {
     "data": {
      "text/plain": [
       "array([2, 3, 5, 4])"
      ]
     },
     "execution_count": 23,
     "metadata": {},
     "output_type": "execute_result"
    }
   ],
   "source": [
    "# at 对'index'指定的元素在操作数'a'上执行无缓冲的就地操作。\n",
    "a = np.array([1, 2, 3, 4])\n",
    "np.add.at(a, [0, 1, 2, 2], 1)\n",
    "a"
   ]
  },
  {
   "cell_type": "code",
   "execution_count": null,
   "metadata": {},
   "outputs": [],
   "source": []
  }
 ],
 "metadata": {
  "hide_input": false,
  "kernelspec": {
   "display_name": "Python 3",
   "language": "python",
   "name": "python3"
  },
  "language_info": {
   "codemirror_mode": {
    "name": "ipython",
    "version": 3
   },
   "file_extension": ".py",
   "mimetype": "text/x-python",
   "name": "python",
   "nbconvert_exporter": "python",
   "pygments_lexer": "ipython3",
   "version": "3.7.4"
  },
  "toc": {
   "base_numbering": 1,
   "nav_menu": {},
   "number_sections": true,
   "sideBar": true,
   "skip_h1_title": false,
   "title_cell": "Table of Contents",
   "title_sidebar": "Contents",
   "toc_cell": false,
   "toc_position": {},
   "toc_section_display": true,
   "toc_window_display": false
  },
  "varInspector": {
   "cols": {
    "lenName": 16,
    "lenType": 16,
    "lenVar": 40
   },
   "kernels_config": {
    "python": {
     "delete_cmd_postfix": "",
     "delete_cmd_prefix": "del ",
     "library": "var_list.py",
     "varRefreshCmd": "print(var_dic_list())"
    },
    "r": {
     "delete_cmd_postfix": ") ",
     "delete_cmd_prefix": "rm(",
     "library": "var_list.r",
     "varRefreshCmd": "cat(var_dic_list()) "
    }
   },
   "types_to_exclude": [
    "module",
    "function",
    "builtin_function_or_method",
    "instance",
    "_Feature"
   ],
   "window_display": false
  }
 },
 "nbformat": 4,
 "nbformat_minor": 2
}
