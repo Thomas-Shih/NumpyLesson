{
 "cells": [
  {
   "cell_type": "markdown",
   "metadata": {
    "toc": true
   },
   "source": [
    "<h1>100道练习带你玩转Numpy<span class=\"tocSkip\"></span></h1>\n",
    "<div class=\"toc\"><ul class=\"toc-item\"><li><span><a href=\"#导入numpy库简写为np\" data-toc-modified-id=\"导入numpy库简写为np-1\"><span class=\"toc-item-num\">1&nbsp;&nbsp;</span>导入numpy库简写为np</a></span></li><li><span><a href=\"#打印numpy的版本和配置说明\" data-toc-modified-id=\"打印numpy的版本和配置说明-2\"><span class=\"toc-item-num\">2&nbsp;&nbsp;</span>打印numpy的版本和配置说明</a></span></li><li><span><a href=\"#创建一个长度为10的空向量\" data-toc-modified-id=\"创建一个长度为10的空向量-3\"><span class=\"toc-item-num\">3&nbsp;&nbsp;</span>创建一个长度为10的空向量</a></span></li><li><span><a href=\"#如何找到任何一个数组的内存大小？\" data-toc-modified-id=\"如何找到任何一个数组的内存大小？-4\"><span class=\"toc-item-num\">4&nbsp;&nbsp;</span>如何找到任何一个数组的内存大小？</a></span></li><li><span><a href=\"#如何从命令行得到numpy中add函数的说明文档?\" data-toc-modified-id=\"如何从命令行得到numpy中add函数的说明文档?-5\"><span class=\"toc-item-num\">5&nbsp;&nbsp;</span>如何从命令行得到numpy中add函数的说明文档?</a></span></li><li><span><a href=\"#创建一个长度为10并且除了第五个值为1的空向量\" data-toc-modified-id=\"创建一个长度为10并且除了第五个值为1的空向量-6\"><span class=\"toc-item-num\">6&nbsp;&nbsp;</span>创建一个长度为10并且除了第五个值为1的空向量</a></span></li><li><span><a href=\"#创建一个值域范围从10到49的向量\" data-toc-modified-id=\"创建一个值域范围从10到49的向量-7\"><span class=\"toc-item-num\">7&nbsp;&nbsp;</span>创建一个值域范围从10到49的向量</a></span></li><li><span><a href=\"#反转一个向量(第一个元素变为最后一个)\" data-toc-modified-id=\"反转一个向量(第一个元素变为最后一个)-8\"><span class=\"toc-item-num\">8&nbsp;&nbsp;</span>反转一个向量(第一个元素变为最后一个)</a></span></li><li><span><a href=\"#创建一个-3x3-并且值从0到8的矩阵\" data-toc-modified-id=\"创建一个-3x3-并且值从0到8的矩阵-9\"><span class=\"toc-item-num\">9&nbsp;&nbsp;</span>创建一个 3x3 并且值从0到8的矩阵</a></span></li><li><span><a href=\"#找到数组[1,2,0,0,4,0]中非0元素的位置索引\" data-toc-modified-id=\"找到数组[1,2,0,0,4,0]中非0元素的位置索引-10\"><span class=\"toc-item-num\">10&nbsp;&nbsp;</span>找到数组[1,2,0,0,4,0]中非0元素的位置索引</a></span></li><li><span><a href=\"#创建一个-3x3-的单位矩阵\" data-toc-modified-id=\"创建一个-3x3-的单位矩阵-11\"><span class=\"toc-item-num\">11&nbsp;&nbsp;</span>创建一个 3x3 的单位矩阵</a></span></li><li><span><a href=\"#创建一个-3x3x3的随机数组\" data-toc-modified-id=\"创建一个-3x3x3的随机数组-12\"><span class=\"toc-item-num\">12&nbsp;&nbsp;</span>创建一个 3x3x3的随机数组</a></span></li><li><span><a href=\"#创建一个-10x10-的随机数组并找到它的最大值和最小值\" data-toc-modified-id=\"创建一个-10x10-的随机数组并找到它的最大值和最小值-13\"><span class=\"toc-item-num\">13&nbsp;&nbsp;</span>创建一个 10x10 的随机数组并找到它的最大值和最小值</a></span></li><li><span><a href=\"#创建一个长度为30的随机向量并找到它的平均值\" data-toc-modified-id=\"创建一个长度为30的随机向量并找到它的平均值-14\"><span class=\"toc-item-num\">14&nbsp;&nbsp;</span>创建一个长度为30的随机向量并找到它的平均值</a></span></li><li><span><a href=\"#创建一二维数组，其中边界值为1，其余值为0\" data-toc-modified-id=\"创建一二维数组，其中边界值为1，其余值为0-15\"><span class=\"toc-item-num\">15&nbsp;&nbsp;</span>创建一二维数组，其中边界值为1，其余值为0</a></span></li><li><span><a href=\"#对于一个存在在数组，如何添加一个用0填充的边界?\" data-toc-modified-id=\"对于一个存在在数组，如何添加一个用0填充的边界?-16\"><span class=\"toc-item-num\">16&nbsp;&nbsp;</span>对于一个存在在数组，如何添加一个用0填充的边界?</a></span></li><li><span><a href=\"#以下表达式运行的结果分别是什么?\" data-toc-modified-id=\"以下表达式运行的结果分别是什么?-17\"><span class=\"toc-item-num\">17&nbsp;&nbsp;</span>以下表达式运行的结果分别是什么?</a></span></li><li><span><a href=\"#创建一个-5x5的矩阵，并设置值1,2,3,4落在其对角线下方位置\" data-toc-modified-id=\"创建一个-5x5的矩阵，并设置值1,2,3,4落在其对角线下方位置-18\"><span class=\"toc-item-num\">18&nbsp;&nbsp;</span>创建一个 5x5的矩阵，并设置值1,2,3,4落在其对角线下方位置</a></span></li><li><span><a href=\"#创建一个8x8-的矩阵，并且设置成棋盘样式\" data-toc-modified-id=\"创建一个8x8-的矩阵，并且设置成棋盘样式-19\"><span class=\"toc-item-num\">19&nbsp;&nbsp;</span>创建一个8x8 的矩阵，并且设置成棋盘样式</a></span></li><li><span><a href=\"#考虑一个-(6,7,8)-形状的数组，其第100个元素的索引(x,y,z)是什么?\" data-toc-modified-id=\"考虑一个-(6,7,8)-形状的数组，其第100个元素的索引(x,y,z)是什么?-20\"><span class=\"toc-item-num\">20&nbsp;&nbsp;</span>考虑一个 (6,7,8) 形状的数组，其第100个元素的索引(x,y,z)是什么?</a></span></li><li><span><a href=\"#用tile函数去创建一个-8x8的棋盘样式矩阵\" data-toc-modified-id=\"用tile函数去创建一个-8x8的棋盘样式矩阵-21\"><span class=\"toc-item-num\">21&nbsp;&nbsp;</span>用tile函数去创建一个 8x8的棋盘样式矩阵</a></span></li><li><span><a href=\"#对一个5x5的随机矩阵做归一化\" data-toc-modified-id=\"对一个5x5的随机矩阵做归一化-22\"><span class=\"toc-item-num\">22&nbsp;&nbsp;</span>对一个5x5的随机矩阵做归一化</a></span></li><li><span><a href=\"#创建一个将颜色描述为(RGBA)四个无符号字节的自定义dtype？\" data-toc-modified-id=\"创建一个将颜色描述为(RGBA)四个无符号字节的自定义dtype？-23\"><span class=\"toc-item-num\">23&nbsp;&nbsp;</span>创建一个将颜色描述为(RGBA)四个无符号字节的自定义dtype？</a></span></li><li><span><a href=\"#一个5x3的矩阵与一个3x2的矩阵相乘，实矩阵乘积是什么？\" data-toc-modified-id=\"一个5x3的矩阵与一个3x2的矩阵相乘，实矩阵乘积是什么？-24\"><span class=\"toc-item-num\">24&nbsp;&nbsp;</span>一个5x3的矩阵与一个3x2的矩阵相乘，实矩阵乘积是什么？</a></span></li><li><span><a href=\"#给定一个一维数组，对其在3到8之间的所有元素负数\" data-toc-modified-id=\"给定一个一维数组，对其在3到8之间的所有元素负数-25\"><span class=\"toc-item-num\">25&nbsp;&nbsp;</span>给定一个一维数组，对其在3到8之间的所有元素负数</a></span></li><li><span><a href=\"#下面脚本运行后的结果是什么?\" data-toc-modified-id=\"下面脚本运行后的结果是什么?-26\"><span class=\"toc-item-num\">26&nbsp;&nbsp;</span>下面脚本运行后的结果是什么?</a></span></li><li><span><a href=\"#考虑一个整数向量Z,下列表达合法的是哪个?\" data-toc-modified-id=\"考虑一个整数向量Z,下列表达合法的是哪个?-27\"><span class=\"toc-item-num\">27&nbsp;&nbsp;</span>考虑一个整数向量Z,下列表达合法的是哪个?</a></span></li><li><span><a href=\"#下列表达式的结果分别是什么?\" data-toc-modified-id=\"下列表达式的结果分别是什么?-28\"><span class=\"toc-item-num\">28&nbsp;&nbsp;</span>下列表达式的结果分别是什么?</a></span></li><li><span><a href=\"#如何从零位对浮点数组做舍入-?\" data-toc-modified-id=\"如何从零位对浮点数组做舍入-?-29\"><span class=\"toc-item-num\">29&nbsp;&nbsp;</span>如何从零位对浮点数组做舍入 ?</a></span></li><li><span><a href=\"#如何找到两个数组中的共同元素?\" data-toc-modified-id=\"如何找到两个数组中的共同元素?-30\"><span class=\"toc-item-num\">30&nbsp;&nbsp;</span>如何找到两个数组中的共同元素?</a></span></li><li><span><a href=\"#如何忽略所有的-numpy-警告(尽管不建议这么做)?\" data-toc-modified-id=\"如何忽略所有的-numpy-警告(尽管不建议这么做)?-31\"><span class=\"toc-item-num\">31&nbsp;&nbsp;</span>如何忽略所有的 numpy 警告(尽管不建议这么做)?</a></span></li><li><span><a href=\"#下面的表达式是正确的吗?\" data-toc-modified-id=\"下面的表达式是正确的吗?-32\"><span class=\"toc-item-num\">32&nbsp;&nbsp;</span>下面的表达式是正确的吗?</a></span></li><li><span><a href=\"#如何得到昨天，今天，明天的日期?\" data-toc-modified-id=\"如何得到昨天，今天，明天的日期?-33\"><span class=\"toc-item-num\">33&nbsp;&nbsp;</span>如何得到昨天，今天，明天的日期?</a></span></li><li><span><a href=\"#如何得到所有与2016年7月对应的日期？\" data-toc-modified-id=\"如何得到所有与2016年7月对应的日期？-34\"><span class=\"toc-item-num\">34&nbsp;&nbsp;</span>如何得到所有与2016年7月对应的日期？</a></span></li><li><span><a href=\"#如何直接在位计算(A+B)*(-A/2)(不建立副本)?\" data-toc-modified-id=\"如何直接在位计算(A+B)*(-A/2)(不建立副本)?-35\"><span class=\"toc-item-num\">35&nbsp;&nbsp;</span>如何直接在位计算(A+B)*(-A/2)(不建立副本)?</a></span></li><li><span><a href=\"#用五种不同的方法去提取一个随机数组的整数部分\" data-toc-modified-id=\"用五种不同的方法去提取一个随机数组的整数部分-36\"><span class=\"toc-item-num\">36&nbsp;&nbsp;</span>用五种不同的方法去提取一个随机数组的整数部分</a></span></li><li><span><a href=\"#创建一个5x5的矩阵，其中每行的数值范围从0到4\" data-toc-modified-id=\"创建一个5x5的矩阵，其中每行的数值范围从0到4-37\"><span class=\"toc-item-num\">37&nbsp;&nbsp;</span>创建一个5x5的矩阵，其中每行的数值范围从0到4</a></span></li><li><span><a href=\"#通过考虑一个可生成10个整数的函数，来构建一个数组\" data-toc-modified-id=\"通过考虑一个可生成10个整数的函数，来构建一个数组-38\"><span class=\"toc-item-num\">38&nbsp;&nbsp;</span>通过考虑一个可生成10个整数的函数，来构建一个数组</a></span></li><li><span><a href=\"#创建一个长度为10的随机向量，其值域范围从0到1，但是不包括0和1\" data-toc-modified-id=\"创建一个长度为10的随机向量，其值域范围从0到1，但是不包括0和1-39\"><span class=\"toc-item-num\">39&nbsp;&nbsp;</span>创建一个长度为10的随机向量，其值域范围从0到1，但是不包括0和1</a></span></li><li><span><a href=\"#创建一个长度为10的随机向量，并将其排序\" data-toc-modified-id=\"创建一个长度为10的随机向量，并将其排序-40\"><span class=\"toc-item-num\">40&nbsp;&nbsp;</span>创建一个长度为10的随机向量，并将其排序</a></span></li><li><span><a href=\"#对于一个小数组，如何用比-np.sum更快的方式对其求和？\" data-toc-modified-id=\"对于一个小数组，如何用比-np.sum更快的方式对其求和？-41\"><span class=\"toc-item-num\">41&nbsp;&nbsp;</span>对于一个小数组，如何用比 np.sum更快的方式对其求和？</a></span></li><li><span><a href=\"#对于两个随机数组A和B，检查它们是否相等\" data-toc-modified-id=\"对于两个随机数组A和B，检查它们是否相等-42\"><span class=\"toc-item-num\">42&nbsp;&nbsp;</span>对于两个随机数组A和B，检查它们是否相等</a></span></li><li><span><a href=\"#创建一个只读数组(read-only)\" data-toc-modified-id=\"创建一个只读数组(read-only)-43\"><span class=\"toc-item-num\">43&nbsp;&nbsp;</span>创建一个只读数组(read-only)</a></span></li><li><span><a href=\"#将笛卡尔坐标下的一个10x2的矩阵转换为极坐标形式\" data-toc-modified-id=\"将笛卡尔坐标下的一个10x2的矩阵转换为极坐标形式-44\"><span class=\"toc-item-num\">44&nbsp;&nbsp;</span>将笛卡尔坐标下的一个10x2的矩阵转换为极坐标形式</a></span></li><li><span><a href=\"#创建一个长度为10的向量，并将向量中最大值替换为1\" data-toc-modified-id=\"创建一个长度为10的向量，并将向量中最大值替换为1-45\"><span class=\"toc-item-num\">45&nbsp;&nbsp;</span>创建一个长度为10的向量，并将向量中最大值替换为1</a></span></li><li><span><a href=\"#创建一个结构化数组，并实现-x-和-y-坐标覆盖-[0,1]x[0,1]-区域\" data-toc-modified-id=\"创建一个结构化数组，并实现-x-和-y-坐标覆盖-[0,1]x[0,1]-区域-46\"><span class=\"toc-item-num\">46&nbsp;&nbsp;</span>创建一个结构化数组，并实现 x 和 y 坐标覆盖 [0,1]x[0,1] 区域</a></span></li><li><span><a href=\"#给定两个数组X和Y，构造Cauchy矩阵C-(Cij-=1/(xi---yj))\" data-toc-modified-id=\"给定两个数组X和Y，构造Cauchy矩阵C-(Cij-=1/(xi---yj))-47\"><span class=\"toc-item-num\">47&nbsp;&nbsp;</span>给定两个数组X和Y，构造Cauchy矩阵C (Cij =1/(xi - yj))</a></span></li><li><span><a href=\"#打印每个numpy标量类型的最小值和最大值？\" data-toc-modified-id=\"打印每个numpy标量类型的最小值和最大值？-48\"><span class=\"toc-item-num\">48&nbsp;&nbsp;</span>打印每个numpy标量类型的最小值和最大值？</a></span></li><li><span><a href=\"#如何打印一个数组中的所有数值?\" data-toc-modified-id=\"如何打印一个数组中的所有数值?-49\"><span class=\"toc-item-num\">49&nbsp;&nbsp;</span>如何打印一个数组中的所有数值?</a></span></li><li><span><a href=\"#给定标量时，如何找到数组中最接近标量的值？\" data-toc-modified-id=\"给定标量时，如何找到数组中最接近标量的值？-50\"><span class=\"toc-item-num\">50&nbsp;&nbsp;</span>给定标量时，如何找到数组中最接近标量的值？</a></span></li></ul></div>"
   ]
  },
  {
   "cell_type": "markdown",
   "metadata": {},
   "source": [
    "NumPy是由Python做数据分析所必须掌握的基础库之一，它可以用来存储和处理大型矩阵，并且Numpy提供了许多高级的数值编辑工具，如：矩阵数据类型、矢量处理，以及精密的运算库，转为进行严格的数字处理而产生。  "
   ]
  },
  {
   "cell_type": "markdown",
   "metadata": {},
   "source": [
    "## 导入numpy库简写为np"
   ]
  },
  {
   "cell_type": "code",
   "execution_count": 3,
   "metadata": {},
   "outputs": [],
   "source": [
    "import numpy as np"
   ]
  },
  {
   "cell_type": "markdown",
   "metadata": {},
   "source": [
    "## 打印numpy的版本和配置说明  "
   ]
  },
  {
   "cell_type": "code",
   "execution_count": 3,
   "metadata": {
    "collapsed": true
   },
   "outputs": [
    {
     "name": "stdout",
     "output_type": "stream",
     "text": [
      "1.16.5\n",
      "mkl_info:\n",
      "    libraries = ['mkl_rt']\n",
      "    library_dirs = ['c:/Anaconda3\\\\Library\\\\lib']\n",
      "    define_macros = [('SCIPY_MKL_H', None), ('HAVE_CBLAS', None)]\n",
      "    include_dirs = ['C:\\\\Program Files (x86)\\\\IntelSWTools\\\\compilers_and_libraries_2019.0.117\\\\windows\\\\mkl', 'C:\\\\Program Files (x86)\\\\IntelSWTools\\\\compilers_and_libraries_2019.0.117\\\\windows\\\\mkl\\\\include', 'C:\\\\Program Files (x86)\\\\IntelSWTools\\\\compilers_and_libraries_2019.0.117\\\\windows\\\\mkl\\\\lib', 'c:/Anaconda3\\\\Library\\\\include']\n",
      "blas_mkl_info:\n",
      "    libraries = ['mkl_rt']\n",
      "    library_dirs = ['c:/Anaconda3\\\\Library\\\\lib']\n",
      "    define_macros = [('SCIPY_MKL_H', None), ('HAVE_CBLAS', None)]\n",
      "    include_dirs = ['C:\\\\Program Files (x86)\\\\IntelSWTools\\\\compilers_and_libraries_2019.0.117\\\\windows\\\\mkl', 'C:\\\\Program Files (x86)\\\\IntelSWTools\\\\compilers_and_libraries_2019.0.117\\\\windows\\\\mkl\\\\include', 'C:\\\\Program Files (x86)\\\\IntelSWTools\\\\compilers_and_libraries_2019.0.117\\\\windows\\\\mkl\\\\lib', 'c:/Anaconda3\\\\Library\\\\include']\n",
      "blas_opt_info:\n",
      "    libraries = ['mkl_rt']\n",
      "    library_dirs = ['c:/Anaconda3\\\\Library\\\\lib']\n",
      "    define_macros = [('SCIPY_MKL_H', None), ('HAVE_CBLAS', None)]\n",
      "    include_dirs = ['C:\\\\Program Files (x86)\\\\IntelSWTools\\\\compilers_and_libraries_2019.0.117\\\\windows\\\\mkl', 'C:\\\\Program Files (x86)\\\\IntelSWTools\\\\compilers_and_libraries_2019.0.117\\\\windows\\\\mkl\\\\include', 'C:\\\\Program Files (x86)\\\\IntelSWTools\\\\compilers_and_libraries_2019.0.117\\\\windows\\\\mkl\\\\lib', 'c:/Anaconda3\\\\Library\\\\include']\n",
      "lapack_mkl_info:\n",
      "    libraries = ['mkl_rt']\n",
      "    library_dirs = ['c:/Anaconda3\\\\Library\\\\lib']\n",
      "    define_macros = [('SCIPY_MKL_H', None), ('HAVE_CBLAS', None)]\n",
      "    include_dirs = ['C:\\\\Program Files (x86)\\\\IntelSWTools\\\\compilers_and_libraries_2019.0.117\\\\windows\\\\mkl', 'C:\\\\Program Files (x86)\\\\IntelSWTools\\\\compilers_and_libraries_2019.0.117\\\\windows\\\\mkl\\\\include', 'C:\\\\Program Files (x86)\\\\IntelSWTools\\\\compilers_and_libraries_2019.0.117\\\\windows\\\\mkl\\\\lib', 'c:/Anaconda3\\\\Library\\\\include']\n",
      "lapack_opt_info:\n",
      "    libraries = ['mkl_rt']\n",
      "    library_dirs = ['c:/Anaconda3\\\\Library\\\\lib']\n",
      "    define_macros = [('SCIPY_MKL_H', None), ('HAVE_CBLAS', None)]\n",
      "    include_dirs = ['C:\\\\Program Files (x86)\\\\IntelSWTools\\\\compilers_and_libraries_2019.0.117\\\\windows\\\\mkl', 'C:\\\\Program Files (x86)\\\\IntelSWTools\\\\compilers_and_libraries_2019.0.117\\\\windows\\\\mkl\\\\include', 'C:\\\\Program Files (x86)\\\\IntelSWTools\\\\compilers_and_libraries_2019.0.117\\\\windows\\\\mkl\\\\lib', 'c:/Anaconda3\\\\Library\\\\include']\n",
      "None\n"
     ]
    }
   ],
   "source": [
    "print(np.__version__)\n",
    "print(np.show_config())"
   ]
  },
  {
   "cell_type": "markdown",
   "metadata": {},
   "source": [
    "## 创建一个长度为10的空向量"
   ]
  },
  {
   "cell_type": "code",
   "execution_count": 4,
   "metadata": {},
   "outputs": [
    {
     "name": "stdout",
     "output_type": "stream",
     "text": [
      "[           nan 0.0000000e+000 1.1356122e-311 2.0236929e-320\n",
      " 0.0000000e+000 0.0000000e+000 0.0000000e+000 0.0000000e+000\n",
      " 0.0000000e+000 0.0000000e+000]\n"
     ]
    }
   ],
   "source": [
    "Z = np.empty(10)\n",
    "print(Z)"
   ]
  },
  {
   "cell_type": "markdown",
   "metadata": {},
   "source": [
    "## 如何找到任何一个数组的内存大小？"
   ]
  },
  {
   "cell_type": "code",
   "execution_count": 5,
   "metadata": {},
   "outputs": [
    {
     "name": "stdout",
     "output_type": "stream",
     "text": [
      "8 10\n"
     ]
    }
   ],
   "source": [
    "print(Z.itemsize,Z.size)"
   ]
  },
  {
   "cell_type": "markdown",
   "metadata": {},
   "source": [
    "## 如何从命令行得到numpy中add函数的说明文档?"
   ]
  },
  {
   "cell_type": "code",
   "execution_count": 7,
   "metadata": {
    "collapsed": true
   },
   "outputs": [
    {
     "name": "stdout",
     "output_type": "stream",
     "text": [
      "zeros(shape, dtype=float, order='C')\n",
      "\n",
      "Return a new array of given shape and type, filled with zeros.\n",
      "\n",
      "Parameters\n",
      "----------\n",
      "shape : int or tuple of ints\n",
      "    Shape of the new array, e.g., ``(2, 3)`` or ``2``.\n",
      "dtype : data-type, optional\n",
      "    The desired data-type for the array, e.g., `numpy.int8`.  Default is\n",
      "    `numpy.float64`.\n",
      "order : {'C', 'F'}, optional, default: 'C'\n",
      "    Whether to store multi-dimensional data in row-major\n",
      "    (C-style) or column-major (Fortran-style) order in\n",
      "    memory.\n",
      "\n",
      "Returns\n",
      "-------\n",
      "out : ndarray\n",
      "    Array of zeros with the given shape, dtype, and order.\n",
      "\n",
      "See Also\n",
      "--------\n",
      "zeros_like : Return an array of zeros with shape and type of input.\n",
      "empty : Return a new uninitialized array.\n",
      "ones : Return a new array setting values to one.\n",
      "full : Return a new array of given shape filled with value.\n",
      "\n",
      "Examples\n",
      "--------\n",
      ">>> np.zeros(5)\n",
      "array([ 0.,  0.,  0.,  0.,  0.])\n",
      "\n",
      ">>> np.zeros((5,), dtype=int)\n",
      "array([0, 0, 0, 0, 0])\n",
      "\n",
      ">>> np.zeros((2, 1))\n",
      "array([[ 0.],\n",
      "       [ 0.]])\n",
      "\n",
      ">>> s = (2,2)\n",
      ">>> np.zeros(s)\n",
      "array([[ 0.,  0.],\n",
      "       [ 0.,  0.]])\n",
      "\n",
      ">>> np.zeros((2,), dtype=[('x', 'i4'), ('y', 'i4')]) # custom dtype\n",
      "array([(0, 0), (0, 0)],\n",
      "      dtype=[('x', '<i4'), ('y', '<i4')])\n"
     ]
    }
   ],
   "source": [
    "np.info(np.zeros)"
   ]
  },
  {
   "cell_type": "markdown",
   "metadata": {},
   "source": [
    "## 创建一个长度为10并且除了第五个值为1的空向量"
   ]
  },
  {
   "cell_type": "code",
   "execution_count": 9,
   "metadata": {
    "collapsed": true
   },
   "outputs": [
    {
     "name": "stdout",
     "output_type": "stream",
     "text": [
      "[0. 0. 0. 0. 1. 0. 0. 0. 0. 0.]\n"
     ]
    }
   ],
   "source": [
    "Z = np.zeros(10)\n",
    "Z[4] = 1\n",
    "print(Z)"
   ]
  },
  {
   "cell_type": "markdown",
   "metadata": {},
   "source": [
    "## 创建一个值域范围从10到49的向量"
   ]
  },
  {
   "cell_type": "code",
   "execution_count": 11,
   "metadata": {
    "collapsed": true
   },
   "outputs": [
    {
     "name": "stdout",
     "output_type": "stream",
     "text": [
      "[10 11 12 13 14 15 16 17 18 19 20 21 22 23 24 25 26 27 28 29 30 31 32 33\n",
      " 34 35 36 37 38 39 40 41 42 43 44 45 46 47 48 49]\n"
     ]
    }
   ],
   "source": [
    "Z = np.arange(10,50)\n",
    "print(Z)"
   ]
  },
  {
   "cell_type": "markdown",
   "metadata": {},
   "source": [
    "## 反转一个向量(第一个元素变为最后一个)"
   ]
  },
  {
   "cell_type": "code",
   "execution_count": 17,
   "metadata": {
    "collapsed": true
   },
   "outputs": [
    {
     "name": "stdout",
     "output_type": "stream",
     "text": [
      "[ 0  1  2  3  4  5  6  7  8  9 10 11 12 13 14 15 16 17 18 19 20 21 22 23\n",
      " 24 25 26 27 28 29 30 31 32 33 34 35 36 37 38 39 40 41 42 43 44 45 46 47\n",
      " 48 49]\n",
      "**************************************************\n",
      "[49 48 47 46 45 44 43 42 41 40 39 38 37 36 35 34 33 32 31 30 29 28 27 26\n",
      " 25 24 23 22 21 20 19 18 17 16 15 14 13 12 11 10  9  8  7  6  5  4  3  2\n",
      "  1  0]\n"
     ]
    }
   ],
   "source": [
    "Z = np.arange(50)\n",
    "print(Z)\n",
    "print('*'*50)\n",
    "Z = Z[::-1]\n",
    "print(Z)"
   ]
  },
  {
   "cell_type": "markdown",
   "metadata": {},
   "source": [
    "## 创建一个 3x3 并且值从0到8的矩阵"
   ]
  },
  {
   "cell_type": "code",
   "execution_count": 18,
   "metadata": {
    "collapsed": true
   },
   "outputs": [
    {
     "name": "stdout",
     "output_type": "stream",
     "text": [
      "[[0 1 2]\n",
      " [3 4 5]\n",
      " [6 7 8]]\n"
     ]
    }
   ],
   "source": [
    "Z = np.arange(9).reshape(3,3)\n",
    "print(Z)"
   ]
  },
  {
   "cell_type": "markdown",
   "metadata": {},
   "source": [
    "## 找到数组[1,2,0,0,4,0]中非0元素的位置索引"
   ]
  },
  {
   "cell_type": "code",
   "execution_count": 21,
   "metadata": {
    "collapsed": true
   },
   "outputs": [
    {
     "name": "stdout",
     "output_type": "stream",
     "text": [
      "[[1 2 0 0 4 0]]\n",
      "**************************************************\n",
      "(array([0, 0, 0], dtype=int64), array([0, 1, 4], dtype=int64))\n"
     ]
    }
   ],
   "source": [
    "Z = np.array([[1,2,0,0,4,0]])\n",
    "print(Z)\n",
    "print('*'*50)\n",
    "nz = np.nonzero(Z)\n",
    "print(nz)"
   ]
  },
  {
   "cell_type": "markdown",
   "metadata": {},
   "source": [
    "## 创建一个 3x3 的单位矩阵"
   ]
  },
  {
   "cell_type": "code",
   "execution_count": 23,
   "metadata": {
    "collapsed": true
   },
   "outputs": [
    {
     "name": "stdout",
     "output_type": "stream",
     "text": [
      "[[1. 0. 0.]\n",
      " [0. 1. 0.]\n",
      " [0. 0. 1.]]\n"
     ]
    }
   ],
   "source": [
    "Z = np.eye(3)\n",
    "print(Z)"
   ]
  },
  {
   "cell_type": "markdown",
   "metadata": {},
   "source": [
    "## 创建一个 3x3x3的随机数组"
   ]
  },
  {
   "cell_type": "code",
   "execution_count": 25,
   "metadata": {
    "collapsed": true
   },
   "outputs": [
    {
     "name": "stdout",
     "output_type": "stream",
     "text": [
      "[[[0.09789288 0.71612683 0.23977311]\n",
      "  [0.23716254 0.19929478 0.16458241]\n",
      "  [0.42484153 0.16897259 0.66474951]]\n",
      "\n",
      " [[0.56150498 0.80143584 0.37125523]\n",
      "  [0.83716834 0.04291838 0.48704709]\n",
      "  [0.59074829 0.438888   0.44927112]]\n",
      "\n",
      " [[0.03646418 0.4836803  0.17348906]\n",
      "  [0.85631706 0.46187264 0.61327845]\n",
      "  [0.8802533  0.47096434 0.2985315 ]]]\n"
     ]
    }
   ],
   "source": [
    "Z = np.random.random((3,3,3))\n",
    "print(Z)"
   ]
  },
  {
   "cell_type": "markdown",
   "metadata": {},
   "source": [
    "## 创建一个 10x10 的随机数组并找到它的最大值和最小值"
   ]
  },
  {
   "cell_type": "code",
   "execution_count": 27,
   "metadata": {
    "collapsed": true
   },
   "outputs": [
    {
     "name": "stdout",
     "output_type": "stream",
     "text": [
      "[[0.79092675 0.99275092 0.98649245 0.81502287 0.51616486 0.1639619\n",
      "  0.95721198 0.05817157 0.4303487  0.21832215]\n",
      " [0.2608683  0.8273142  0.40129929 0.60474752 0.35856324 0.25667051\n",
      "  0.04223669 0.38263282 0.82286095 0.52587565]\n",
      " [0.74738011 0.85691616 0.27814088 0.02987201 0.5297273  0.97648336\n",
      "  0.48047005 0.93790549 0.43761015 0.41089575]\n",
      " [0.96793911 0.29215611 0.84181734 0.48602103 0.50928493 0.35309606\n",
      "  0.42376059 0.14369878 0.42161893 0.32528839]\n",
      " [0.22799153 0.0890188  0.13660195 0.22929835 0.32235542 0.86805763\n",
      "  0.6259362  0.0110531  0.2501834  0.21292095]\n",
      " [0.41126469 0.02066989 0.00928629 0.07730962 0.27419297 0.00254452\n",
      "  0.6242138  0.67629351 0.00888517 0.37450388]\n",
      " [0.21279442 0.51062646 0.35982213 0.70334421 0.18605554 0.61393246\n",
      "  0.19580137 0.66315126 0.22782093 0.11754729]\n",
      " [0.26526216 0.44936164 0.81977814 0.95621093 0.34212947 0.70870503\n",
      "  0.98862808 0.14917107 0.90292028 0.21694779]\n",
      " [0.60742367 0.10092437 0.82378723 0.3406292  0.58551188 0.20049238\n",
      "  0.93083538 0.6609514  0.7047421  0.85040605]\n",
      " [0.71735328 0.85763775 0.68990689 0.43484158 0.09065413 0.41429761\n",
      "  0.24871997 0.0291348  0.14265908 0.20122578]]\n",
      "**************************************************\n",
      "0.9927509214778546 0.002544523541532784\n"
     ]
    }
   ],
   "source": [
    "Z = np.random.random((10,10))\n",
    "print(Z)\n",
    "print('*'*50)\n",
    "print(np.max(Z),np.min(Z))"
   ]
  },
  {
   "cell_type": "markdown",
   "metadata": {},
   "source": [
    "## 创建一个长度为30的随机向量并找到它的平均值"
   ]
  },
  {
   "cell_type": "code",
   "execution_count": 33,
   "metadata": {},
   "outputs": [
    {
     "name": "stdout",
     "output_type": "stream",
     "text": [
      "[0.66123539 0.72672585 0.7108322  0.11603422 0.10368161 0.81135862\n",
      " 0.12635675 0.81220776 0.73529156 0.24084981 0.76647878 0.02108078\n",
      " 0.2342558  0.81670909 0.94357044 0.61129184 0.77230142 0.54706934\n",
      " 0.73684212 0.18634212 0.22848226 0.71854055 0.58711918 0.57589547\n",
      " 0.23647689 0.16714183 0.90525807 0.20651969 0.16706557 0.06064701] 30\n",
      "**************************************************\n",
      "0.4844554007571869\n"
     ]
    }
   ],
   "source": [
    "Z = np.random.random(30)\n",
    "print(Z,np.size(Z))\n",
    "print('*'*50)\n",
    "print(Z.mean())"
   ]
  },
  {
   "cell_type": "markdown",
   "metadata": {},
   "source": [
    "## 创建一二维数组，其中边界值为1，其余值为0"
   ]
  },
  {
   "cell_type": "code",
   "execution_count": 46,
   "metadata": {
    "collapsed": true
   },
   "outputs": [
    {
     "name": "stdout",
     "output_type": "stream",
     "text": [
      "[[1. 1. 1. 1. 1. 1. 1. 1. 1. 1.]\n",
      " [1. 1. 1. 1. 1. 1. 1. 1. 1. 1.]\n",
      " [1. 1. 1. 1. 1. 1. 1. 1. 1. 1.]\n",
      " [1. 1. 1. 1. 1. 1. 1. 1. 1. 1.]\n",
      " [1. 1. 1. 1. 1. 1. 1. 1. 1. 1.]\n",
      " [1. 1. 1. 1. 1. 1. 1. 1. 1. 1.]\n",
      " [1. 1. 1. 1. 1. 1. 1. 1. 1. 1.]\n",
      " [1. 1. 1. 1. 1. 1. 1. 1. 1. 1.]\n",
      " [1. 1. 1. 1. 1. 1. 1. 1. 1. 1.]\n",
      " [1. 1. 1. 1. 1. 1. 1. 1. 1. 1.]]\n",
      "**************************************************\n",
      "[[1. 1. 1. 1. 1. 1. 1. 1. 1. 1.]\n",
      " [1. 0. 0. 0. 0. 0. 0. 0. 0. 1.]\n",
      " [1. 0. 0. 0. 0. 0. 0. 0. 0. 1.]\n",
      " [1. 0. 0. 0. 0. 0. 0. 0. 0. 1.]\n",
      " [1. 0. 0. 0. 0. 0. 0. 0. 0. 1.]\n",
      " [1. 0. 0. 0. 0. 0. 0. 0. 0. 1.]\n",
      " [1. 0. 0. 0. 0. 0. 0. 0. 0. 1.]\n",
      " [1. 0. 0. 0. 0. 0. 0. 0. 0. 1.]\n",
      " [1. 0. 0. 0. 0. 0. 0. 0. 0. 1.]\n",
      " [1. 1. 1. 1. 1. 1. 1. 1. 1. 1.]]\n"
     ]
    }
   ],
   "source": [
    "Z = np.ones((10,10))\n",
    "print(Z)\n",
    "print('*'*50)\n",
    "Z[1:-1,1:-1] = 0\n",
    "print(Z)"
   ]
  },
  {
   "cell_type": "markdown",
   "metadata": {},
   "source": [
    "## 对于一个存在在数组，如何添加一个用0填充的边界?"
   ]
  },
  {
   "cell_type": "code",
   "execution_count": 50,
   "metadata": {
    "collapsed": true
   },
   "outputs": [
    {
     "name": "stdout",
     "output_type": "stream",
     "text": [
      "[[1. 1. 1. 1. 1. 1. 1. 1. 1. 1.]\n",
      " [1. 1. 1. 1. 1. 1. 1. 1. 1. 1.]\n",
      " [1. 1. 1. 1. 1. 1. 1. 1. 1. 1.]\n",
      " [1. 1. 1. 1. 1. 1. 1. 1. 1. 1.]\n",
      " [1. 1. 1. 1. 1. 1. 1. 1. 1. 1.]\n",
      " [1. 1. 1. 1. 1. 1. 1. 1. 1. 1.]\n",
      " [1. 1. 1. 1. 1. 1. 1. 1. 1. 1.]\n",
      " [1. 1. 1. 1. 1. 1. 1. 1. 1. 1.]\n",
      " [1. 1. 1. 1. 1. 1. 1. 1. 1. 1.]\n",
      " [1. 1. 1. 1. 1. 1. 1. 1. 1. 1.]]\n",
      "**************************************************\n",
      "[[0. 0. 0. 0. 0. 0. 0. 0. 0. 0. 0. 0.]\n",
      " [0. 1. 1. 1. 1. 1. 1. 1. 1. 1. 1. 0.]\n",
      " [0. 1. 1. 1. 1. 1. 1. 1. 1. 1. 1. 0.]\n",
      " [0. 1. 1. 1. 1. 1. 1. 1. 1. 1. 1. 0.]\n",
      " [0. 1. 1. 1. 1. 1. 1. 1. 1. 1. 1. 0.]\n",
      " [0. 1. 1. 1. 1. 1. 1. 1. 1. 1. 1. 0.]\n",
      " [0. 1. 1. 1. 1. 1. 1. 1. 1. 1. 1. 0.]\n",
      " [0. 1. 1. 1. 1. 1. 1. 1. 1. 1. 1. 0.]\n",
      " [0. 1. 1. 1. 1. 1. 1. 1. 1. 1. 1. 0.]\n",
      " [0. 1. 1. 1. 1. 1. 1. 1. 1. 1. 1. 0.]\n",
      " [0. 1. 1. 1. 1. 1. 1. 1. 1. 1. 1. 0.]\n",
      " [0. 0. 0. 0. 0. 0. 0. 0. 0. 0. 0. 0.]]\n"
     ]
    }
   ],
   "source": [
    "Z = np.ones((10,10))\n",
    "print(Z)\n",
    "print('*'*50)\n",
    "Z = np.pad(Z,pad_width=1,mode='constant',constant_values=0)\n",
    "print(Z)"
   ]
  },
  {
   "cell_type": "markdown",
   "metadata": {},
   "source": [
    "## 以下表达式运行的结果分别是什么?"
   ]
  },
  {
   "cell_type": "code",
   "execution_count": 58,
   "metadata": {
    "collapsed": true
   },
   "outputs": [
    {
     "name": "stdout",
     "output_type": "stream",
     "text": [
      "nan\n",
      "False\n",
      "False\n",
      "nan\n",
      "False\n",
      "0.3 0.30000000000000004\n"
     ]
    }
   ],
   "source": [
    "print(0*np.nan)\n",
    "print(np.nan==np.nan)\n",
    "print(np.inf>np.nan)\n",
    "print(np.nan-np.nan)\n",
    "print(0.3==3*0.1)"
   ]
  },
  {
   "cell_type": "markdown",
   "metadata": {},
   "source": [
    "## 创建一个 5x5的矩阵，并设置值1,2,3,4落在其对角线下方位置"
   ]
  },
  {
   "cell_type": "code",
   "execution_count": 63,
   "metadata": {
    "collapsed": true
   },
   "outputs": [
    {
     "data": {
      "text/plain": [
       "array([[0, 0, 0, 0, 0],\n",
       "       [1, 0, 0, 0, 0],\n",
       "       [0, 2, 0, 0, 0],\n",
       "       [0, 0, 3, 0, 0],\n",
       "       [0, 0, 0, 4, 0]])"
      ]
     },
     "execution_count": 63,
     "metadata": {},
     "output_type": "execute_result"
    }
   ],
   "source": [
    "np.diag([1,2,3,4],k=-1)"
   ]
  },
  {
   "cell_type": "markdown",
   "metadata": {},
   "source": [
    "##  创建一个8x8 的矩阵，并且设置成棋盘样式"
   ]
  },
  {
   "cell_type": "code",
   "execution_count": 71,
   "metadata": {
    "collapsed": true
   },
   "outputs": [
    {
     "name": "stdout",
     "output_type": "stream",
     "text": [
      "[[0. 0. 0. 0. 0. 0. 0. 0.]\n",
      " [0. 0. 0. 0. 0. 0. 0. 0.]\n",
      " [0. 0. 0. 0. 0. 0. 0. 0.]\n",
      " [0. 0. 0. 0. 0. 0. 0. 0.]\n",
      " [0. 0. 0. 0. 0. 0. 0. 0.]\n",
      " [0. 0. 0. 0. 0. 0. 0. 0.]\n",
      " [0. 0. 0. 0. 0. 0. 0. 0.]\n",
      " [0. 0. 0. 0. 0. 0. 0. 0.]] (8, 8)\n",
      "**************************************************\n",
      "[[0. 1. 0. 1. 0. 1. 0. 1.]\n",
      " [1. 0. 1. 0. 1. 0. 1. 0.]\n",
      " [0. 1. 0. 1. 0. 1. 0. 1.]\n",
      " [1. 0. 1. 0. 1. 0. 1. 0.]\n",
      " [0. 1. 0. 1. 0. 1. 0. 1.]\n",
      " [1. 0. 1. 0. 1. 0. 1. 0.]\n",
      " [0. 1. 0. 1. 0. 1. 0. 1.]\n",
      " [1. 0. 1. 0. 1. 0. 1. 0.]]\n"
     ]
    }
   ],
   "source": [
    "Z = np.zeros(64).reshape(8,8)\n",
    "print(Z,Z.shape)\n",
    "print('*'*50)\n",
    "Z[::-2,::2] = 1\n",
    "Z[::2,::-2] = 1\n",
    "print(Z)"
   ]
  },
  {
   "cell_type": "markdown",
   "metadata": {},
   "source": [
    "## 考虑一个 (6,7,8) 形状的数组，其第100个元素的索引(x,y,z)是什么?"
   ]
  },
  {
   "cell_type": "code",
   "execution_count": 72,
   "metadata": {},
   "outputs": [
    {
     "name": "stdout",
     "output_type": "stream",
     "text": [
      "(1, 5, 4)\n"
     ]
    }
   ],
   "source": [
    "print(np.unravel_index(100,(6,7,8)))"
   ]
  },
  {
   "cell_type": "markdown",
   "metadata": {},
   "source": [
    "##  用tile函数去创建一个 8x8的棋盘样式矩阵"
   ]
  },
  {
   "cell_type": "code",
   "execution_count": 79,
   "metadata": {},
   "outputs": [
    {
     "name": "stdout",
     "output_type": "stream",
     "text": [
      "[[0 1]\n",
      " [1 0]]\n",
      "**************************************************\n",
      "[[0 1 0 1 0 1 0 1]\n",
      " [1 0 1 0 1 0 1 0]\n",
      " [0 1 0 1 0 1 0 1]\n",
      " [1 0 1 0 1 0 1 0]\n",
      " [0 1 0 1 0 1 0 1]\n",
      " [1 0 1 0 1 0 1 0]\n",
      " [0 1 0 1 0 1 0 1]\n",
      " [1 0 1 0 1 0 1 0]] (8, 8)\n"
     ]
    }
   ],
   "source": [
    "Z = np.array([[0,1],[1,0]])\n",
    "print(Z)\n",
    "print('*'*50)\n",
    "Z = np.tile(Z,(4,4))\n",
    "print(Z,Z.shape)"
   ]
  },
  {
   "cell_type": "markdown",
   "metadata": {},
   "source": [
    "## 对一个5x5的随机矩阵做归一化  \n",
    "(提示: (x - min) / (max - min))"
   ]
  },
  {
   "cell_type": "code",
   "execution_count": 83,
   "metadata": {},
   "outputs": [
    {
     "name": "stdout",
     "output_type": "stream",
     "text": [
      "[[0.93895879 0.96565234 0.28839313 0.63002159 0.43967215]\n",
      " [0.3041305  0.56438816 0.49356036 0.44093388 0.48763655]\n",
      " [0.31225993 0.33420538 0.76456388 0.355359   0.59914825]\n",
      " [0.56264489 0.07405579 0.34867603 0.74955956 0.39276276]\n",
      " [0.37158098 0.71231311 0.41715897 0.55334441 0.47801313]]\n",
      "**************************************************\n",
      "[[0.97006095 1.         0.24039723 0.62356207 0.41006928]\n",
      " [0.258048   0.5499487  0.47050941 0.41148442 0.46386536]\n",
      " [0.26716583 0.29177949 0.7744625  0.31550504 0.58893505]\n",
      " [0.54799348 0.         0.30800954 0.7576339  0.35745649]\n",
      " [0.33369934 0.7158589  0.38481887 0.53756222 0.4530719 ]]\n"
     ]
    }
   ],
   "source": [
    "Z = np.random.random((5,5))\n",
    "print(Z)\n",
    "print('*'*50)\n",
    "a = (Z - Z.min())/(Z.max() - Z.min())\n",
    "print(a)"
   ]
  },
  {
   "cell_type": "markdown",
   "metadata": {},
   "source": [
    "## 创建一个将颜色描述为(RGBA)四个无符号字节的自定义dtype？"
   ]
  },
  {
   "cell_type": "code",
   "execution_count": 86,
   "metadata": {},
   "outputs": [
    {
     "name": "stdout",
     "output_type": "stream",
     "text": [
      "[('r', 'u1'), ('g', 'u1'), ('b', 'u1'), ('a', 'u1')]\n"
     ]
    }
   ],
   "source": [
    "color = np.dtype([('r',np.ubyte,1),('g',np.ubyte,1),('b',np.ubyte,1),('a',np.ubyte,1)])\n",
    "print(color)"
   ]
  },
  {
   "cell_type": "markdown",
   "metadata": {},
   "source": [
    "## 一个5x3的矩阵与一个3x2的矩阵相乘，实矩阵乘积是什么？"
   ]
  },
  {
   "cell_type": "code",
   "execution_count": 87,
   "metadata": {},
   "outputs": [
    {
     "name": "stdout",
     "output_type": "stream",
     "text": [
      "[[3. 3.]\n",
      " [3. 3.]\n",
      " [3. 3.]\n",
      " [3. 3.]\n",
      " [3. 3.]]\n"
     ]
    }
   ],
   "source": [
    "Z = np.dot(np.ones((5,3)), np.ones((3,2)))\n",
    "print(Z)"
   ]
  },
  {
   "cell_type": "markdown",
   "metadata": {},
   "source": [
    "## 给定一个一维数组，对其在3到8之间的所有元素负数"
   ]
  },
  {
   "cell_type": "code",
   "execution_count": 98,
   "metadata": {},
   "outputs": [
    {
     "name": "stdout",
     "output_type": "stream",
     "text": [
      "[ 0  1  2  3  4  5  6  7  8  9 10]\n",
      "**************************************************\n",
      "[ 0  1  2  3 -4 -5 -6 -7  8  9 10]\n"
     ]
    }
   ],
   "source": [
    "Z = np.arange(11)\n",
    "print(Z)\n",
    "print('*'*50)\n",
    "a = (Z>3) & (Z<8) \n",
    "Z[a] *= -1\n",
    "print(Z)"
   ]
  },
  {
   "cell_type": "markdown",
   "metadata": {},
   "source": [
    "## 下面脚本运行后的结果是什么?"
   ]
  },
  {
   "cell_type": "code",
   "execution_count": 99,
   "metadata": {},
   "outputs": [
    {
     "name": "stdout",
     "output_type": "stream",
     "text": [
      "9\n"
     ]
    }
   ],
   "source": [
    "print(sum(range(5),-1))"
   ]
  },
  {
   "cell_type": "markdown",
   "metadata": {},
   "source": [
    "## 考虑一个整数向量Z,下列表达合法的是哪个?"
   ]
  },
  {
   "cell_type": "markdown",
   "metadata": {},
   "source": [
    "## 下列表达式的结果分别是什么?"
   ]
  },
  {
   "cell_type": "code",
   "execution_count": 102,
   "metadata": {},
   "outputs": [
    {
     "name": "stdout",
     "output_type": "stream",
     "text": [
      "nan\n",
      "0\n",
      "[-2.14748365e+09]\n"
     ]
    },
    {
     "name": "stderr",
     "output_type": "stream",
     "text": [
      "c:\\Anaconda3\\lib\\site-packages\\ipykernel_launcher.py:1: RuntimeWarning: invalid value encountered in true_divide\n",
      "  \"\"\"Entry point for launching an IPython kernel.\n",
      "c:\\Anaconda3\\lib\\site-packages\\ipykernel_launcher.py:2: RuntimeWarning: divide by zero encountered in floor_divide\n",
      "  \n"
     ]
    }
   ],
   "source": [
    "print(np.array(0) /np.array(0))\n",
    "print(np.array(0) //np.array(0))\n",
    "print(np.array([np.nan]).astype(int).astype(float))"
   ]
  },
  {
   "cell_type": "markdown",
   "metadata": {},
   "source": [
    "##  如何从零位对浮点数组做舍入 ?"
   ]
  },
  {
   "cell_type": "code",
   "execution_count": 105,
   "metadata": {},
   "outputs": [
    {
     "name": "stdout",
     "output_type": "stream",
     "text": [
      "[ 1.57641675 -9.99396277 -1.63759239 -9.25922603 -8.81597337 -1.95440653\n",
      "  4.60983266 -3.71687475  9.32582767 -7.49565124]\n",
      "**************************************************\n",
      "[  2. -10.  -2. -10.  -9.  -2.   5.  -4.  10.  -8.]\n"
     ]
    }
   ],
   "source": [
    "Z = np.random.uniform(-10,+10,10)\n",
    "print(Z)\n",
    "print('*'*50)\n",
    "print (np.copysign(np.ceil(np.abs(Z)), Z))"
   ]
  },
  {
   "cell_type": "markdown",
   "metadata": {},
   "source": [
    "## 如何找到两个数组中的共同元素?"
   ]
  },
  {
   "cell_type": "code",
   "execution_count": 107,
   "metadata": {},
   "outputs": [
    {
     "name": "stdout",
     "output_type": "stream",
     "text": [
      "[2 3 8]\n"
     ]
    }
   ],
   "source": [
    "Z1 = np.random.randint(0,10,10)\n",
    "Z2 = np.random.randint(0,10,10)\n",
    "print(np.intersect1d(Z1,Z2))"
   ]
  },
  {
   "cell_type": "markdown",
   "metadata": {},
   "source": [
    "## 如何忽略所有的 numpy 警告(尽管不建议这么做)?"
   ]
  },
  {
   "cell_type": "code",
   "execution_count": 110,
   "metadata": {},
   "outputs": [],
   "source": [
    "defaults=np.seterr(all=\"ignore\")\n",
    "Z=np.ones(1) /0\n",
    "_=np.seterr(**defaults)"
   ]
  },
  {
   "cell_type": "markdown",
   "metadata": {},
   "source": [
    "## 下面的表达式是正确的吗?"
   ]
  },
  {
   "cell_type": "code",
   "execution_count": 2,
   "metadata": {},
   "outputs": [
    {
     "name": "stdout",
     "output_type": "stream",
     "text": [
      "nan\n",
      "1j\n"
     ]
    },
    {
     "name": "stderr",
     "output_type": "stream",
     "text": [
      "c:\\Anaconda3\\lib\\site-packages\\ipykernel_launcher.py:1: RuntimeWarning: invalid value encountered in sqrt\n",
      "  \"\"\"Entry point for launching an IPython kernel.\n",
      "c:\\Anaconda3\\lib\\site-packages\\ipykernel_launcher.py:2: RuntimeWarning: invalid value encountered in sqrt\n",
      "  \n"
     ]
    }
   ],
   "source": [
    "np.sqrt(-1) == np.emath.sqrt(-1)\n",
    "print(np.sqrt(-1))\n",
    "print(np.emath.sqrt(-1))"
   ]
  },
  {
   "cell_type": "markdown",
   "metadata": {},
   "source": [
    "## 如何得到昨天，今天，明天的日期?"
   ]
  },
  {
   "cell_type": "code",
   "execution_count": 8,
   "metadata": {},
   "outputs": [
    {
     "name": "stdout",
     "output_type": "stream",
     "text": [
      "2020-01-19\n",
      "2020-01-20\n",
      "2020-01-21\n"
     ]
    }
   ],
   "source": [
    "yesterday = np.datetime64('today','D') - np.timedelta64(1,'D')\n",
    "today = np.datetime64('today','D')\n",
    "tommorrow = np.datetime64('today','D') + np.timedelta64(1,'D')\n",
    "print(yesterday)\n",
    "print(today)\n",
    "print(tommorrow)"
   ]
  },
  {
   "cell_type": "markdown",
   "metadata": {},
   "source": [
    "## 如何得到所有与2016年7月对应的日期？"
   ]
  },
  {
   "cell_type": "code",
   "execution_count": 21,
   "metadata": {},
   "outputs": [
    {
     "name": "stdout",
     "output_type": "stream",
     "text": [
      "['2016-07-01' '2016-07-02' '2016-07-03' '2016-07-04' '2016-07-05'\n",
      " '2016-07-06' '2016-07-07' '2016-07-08' '2016-07-09' '2016-07-10'\n",
      " '2016-07-11' '2016-07-12' '2016-07-13' '2016-07-14' '2016-07-15'\n",
      " '2016-07-16' '2016-07-17' '2016-07-18' '2016-07-19' '2016-07-20'\n",
      " '2016-07-21' '2016-07-22' '2016-07-23' '2016-07-24' '2016-07-25'\n",
      " '2016-07-26' '2016-07-27' '2016-07-28' '2016-07-29' '2016-07-30'\n",
      " '2016-07-31']\n"
     ]
    }
   ],
   "source": [
    "Z = np.arange('2016-07','2016-08',dtype = 'datetime64[D]')\n",
    "print(Z)"
   ]
  },
  {
   "cell_type": "markdown",
   "metadata": {},
   "source": [
    "## 如何直接在位计算(A+B)\\*(-A/2)(不建立副本)?"
   ]
  },
  {
   "cell_type": "code",
   "execution_count": 28,
   "metadata": {
    "collapsed": true
   },
   "outputs": [
    {
     "name": "stdout",
     "output_type": "stream",
     "text": [
      "[1. 1. 1.]\n",
      "[2. 2. 2.]\n",
      "[3. 3. 3.]\n"
     ]
    }
   ],
   "source": [
    "A = np.ones(3)*1\n",
    "B = np.ones(3)*2\n",
    "C = np.ones(3)*3\n",
    "print(A)\n",
    "print(B)\n",
    "print(C)"
   ]
  },
  {
   "cell_type": "code",
   "execution_count": 30,
   "metadata": {
    "collapsed": true
   },
   "outputs": [
    {
     "name": "stdout",
     "output_type": "stream",
     "text": [
      "[3. 3. 3.]\n",
      "[0.5 0.5 0.5]\n",
      "[2. 2. 2.]\n",
      "[-1. -1. -1.]\n"
     ]
    }
   ],
   "source": [
    "print(np.add(A,B))\n",
    "print(np.divide(A,B))\n",
    "print(np.multiply(A,B))\n",
    "print(np.negative(A))"
   ]
  },
  {
   "cell_type": "markdown",
   "metadata": {},
   "source": [
    "## 用五种不同的方法去提取一个随机数组的整数部分"
   ]
  },
  {
   "cell_type": "code",
   "execution_count": 31,
   "metadata": {},
   "outputs": [
    {
     "name": "stdout",
     "output_type": "stream",
     "text": [
      "[9.26807865 5.24152716 2.50802403 4.44263193 1.25019563 0.38806938\n",
      " 6.79232981 7.15136656 7.16190223 0.39823721]\n"
     ]
    }
   ],
   "source": [
    "Z = np.random.uniform(0,10,10)\n",
    "print(Z)"
   ]
  },
  {
   "cell_type": "markdown",
   "metadata": {},
   "source": [
    "## 创建一个5x5的矩阵，其中每行的数值范围从0到4"
   ]
  },
  {
   "cell_type": "code",
   "execution_count": 38,
   "metadata": {
    "collapsed": true
   },
   "outputs": [
    {
     "name": "stdout",
     "output_type": "stream",
     "text": [
      "[0 1 2 3 4]\n",
      "[[0 1 2 3 4]\n",
      " [0 1 2 3 4]\n",
      " [0 1 2 3 4]\n",
      " [0 1 2 3 4]\n",
      " [0 1 2 3 4]]\n"
     ]
    }
   ],
   "source": [
    "Z = np.arange(5)\n",
    "print(Z)\n",
    "Z = np.tile(Z,(5,1))\n",
    "print(Z)"
   ]
  },
  {
   "cell_type": "markdown",
   "metadata": {},
   "source": [
    "## 通过考虑一个可生成10个整数的函数，来构建一个数组"
   ]
  },
  {
   "cell_type": "code",
   "execution_count": 42,
   "metadata": {},
   "outputs": [
    {
     "name": "stdout",
     "output_type": "stream",
     "text": [
      "[0. 1. 2. 3. 4. 5. 6. 7. 8. 9.]\n"
     ]
    }
   ],
   "source": [
    "def generate():\n",
    "    for x in range(10):\n",
    "        yield x\n",
    "\n",
    "Z = np.fromiter(generate(),dtype=float,count=-1)\n",
    "print(Z)"
   ]
  },
  {
   "cell_type": "markdown",
   "metadata": {},
   "source": [
    "## 创建一个长度为10的随机向量，其值域范围从0到1，但是不包括0和1"
   ]
  },
  {
   "cell_type": "code",
   "execution_count": 47,
   "metadata": {},
   "outputs": [
    {
     "name": "stdout",
     "output_type": "stream",
     "text": [
      "[0.09090909 0.18181818 0.27272727 0.36363636 0.45454545 0.54545455\n",
      " 0.63636364 0.72727273 0.81818182 0.90909091]\n"
     ]
    }
   ],
   "source": [
    "Z = np.linspace(0,1,11,endpoint=False)[1:]\n",
    "print(Z)"
   ]
  },
  {
   "cell_type": "markdown",
   "metadata": {},
   "source": [
    "## 创建一个长度为10的随机向量，并将其排序"
   ]
  },
  {
   "cell_type": "code",
   "execution_count": 50,
   "metadata": {},
   "outputs": [
    {
     "name": "stdout",
     "output_type": "stream",
     "text": [
      "[0.05086982 0.13353341 0.23123904 0.28337795 0.28985241 0.29902768\n",
      " 0.48623928 0.51665304 0.56718066 0.6281717 ]\n"
     ]
    }
   ],
   "source": [
    "Z = np.random.random(10)\n",
    "print (np.sort(Z))"
   ]
  },
  {
   "cell_type": "markdown",
   "metadata": {},
   "source": [
    "## 对于一个小数组，如何用比 np.sum更快的方式对其求和？"
   ]
  },
  {
   "cell_type": "code",
   "execution_count": 51,
   "metadata": {},
   "outputs": [
    {
     "name": "stdout",
     "output_type": "stream",
     "text": [
      "45\n"
     ]
    }
   ],
   "source": [
    "Z = np.arange(10)\n",
    "print(np.add.reduce(Z))"
   ]
  },
  {
   "cell_type": "markdown",
   "metadata": {},
   "source": [
    "## 对于两个随机数组A和B，检查它们是否相等"
   ]
  },
  {
   "cell_type": "code",
   "execution_count": 54,
   "metadata": {},
   "outputs": [
    {
     "name": "stdout",
     "output_type": "stream",
     "text": [
      "False\n",
      "[False False  True  True  True]\n"
     ]
    }
   ],
   "source": [
    "A = np.random.randint(0,2,5)\n",
    "B = np.random.randint(0,2,5)\n",
    "print(np.allclose(A,B))\n",
    "print(np.equal(A,B))"
   ]
  },
  {
   "cell_type": "markdown",
   "metadata": {},
   "source": [
    "## 创建一个只读数组(read-only)"
   ]
  },
  {
   "cell_type": "code",
   "execution_count": 56,
   "metadata": {
    "collapsed": true
   },
   "outputs": [
    {
     "name": "stdout",
     "output_type": "stream",
     "text": [
      "  C_CONTIGUOUS : True\n",
      "  F_CONTIGUOUS : True\n",
      "  OWNDATA : True\n",
      "  WRITEABLE : False\n",
      "  ALIGNED : True\n",
      "  WRITEBACKIFCOPY : False\n",
      "  UPDATEIFCOPY : False\n"
     ]
    }
   ],
   "source": [
    "Z=np.zeros(10)\n",
    "Z.flags.writeable = False\n",
    "print(Z.flags)"
   ]
  },
  {
   "cell_type": "markdown",
   "metadata": {},
   "source": [
    "## 将笛卡尔坐标下的一个10x2的矩阵转换为极坐标形式"
   ]
  },
  {
   "cell_type": "code",
   "execution_count": 57,
   "metadata": {
    "collapsed": true
   },
   "outputs": [
    {
     "name": "stdout",
     "output_type": "stream",
     "text": [
      "[0.31144618 0.77674353 0.31253838 0.86792315 1.17677951 0.59310429\n",
      " 0.63632594 0.96234784 0.76858453 1.1088611 ]\n",
      "[1.15957365 0.54157193 1.14836198 1.49929561 0.69658371 0.75094867\n",
      " 1.08406216 1.46057782 0.75983322 0.49466247]\n"
     ]
    }
   ],
   "source": [
    "Z = np.random.random((10,2))\n",
    "X,Y = Z[:,0], Z[:,1]\n",
    "R = np.sqrt(X**2+Y**2)\n",
    "T = np.arctan2(Y,X)\n",
    "print (R)\n",
    "print (T)"
   ]
  },
  {
   "cell_type": "markdown",
   "metadata": {},
   "source": [
    "## 创建一个长度为10的向量，并将向量中最大值替换为1"
   ]
  },
  {
   "cell_type": "code",
   "execution_count": 58,
   "metadata": {},
   "outputs": [
    {
     "name": "stdout",
     "output_type": "stream",
     "text": [
      "[0.39522202 0.03163375 0.         0.15644543 0.53722287 0.67158535\n",
      " 0.63486271 0.33256816 0.21188333 0.48514314]\n"
     ]
    }
   ],
   "source": [
    "Z = np.random.random(10)\n",
    "Z[Z.argmax()] = 0\n",
    "print (Z)"
   ]
  },
  {
   "cell_type": "markdown",
   "metadata": {},
   "source": [
    "## 创建一个结构化数组，并实现 x 和 y 坐标覆盖 [0,1]x[0,1] 区域"
   ]
  },
  {
   "cell_type": "code",
   "execution_count": 60,
   "metadata": {},
   "outputs": [
    {
     "name": "stdout",
     "output_type": "stream",
     "text": [
      "[[(0.  , 0.  ) (0.25, 0.  ) (0.5 , 0.  ) (0.75, 0.  ) (1.  , 0.  )]\n",
      " [(0.  , 0.25) (0.25, 0.25) (0.5 , 0.25) (0.75, 0.25) (1.  , 0.25)]\n",
      " [(0.  , 0.5 ) (0.25, 0.5 ) (0.5 , 0.5 ) (0.75, 0.5 ) (1.  , 0.5 )]\n",
      " [(0.  , 0.75) (0.25, 0.75) (0.5 , 0.75) (0.75, 0.75) (1.  , 0.75)]\n",
      " [(0.  , 1.  ) (0.25, 1.  ) (0.5 , 1.  ) (0.75, 1.  ) (1.  , 1.  )]]\n"
     ]
    }
   ],
   "source": [
    "Z = np.zeros((5,5), [('x',float),('y',float)])\n",
    "Z['x'], Z['y'] = np.meshgrid(np.linspace(0,1,5),np.linspace(0,1,5))\n",
    "print(Z)"
   ]
  },
  {
   "cell_type": "markdown",
   "metadata": {},
   "source": [
    "## 给定两个数组X和Y，构造Cauchy矩阵C (Cij =1/(xi - yj))"
   ]
  },
  {
   "cell_type": "code",
   "execution_count": 61,
   "metadata": {},
   "outputs": [
    {
     "name": "stdout",
     "output_type": "stream",
     "text": [
      "3638.1636371179666\n"
     ]
    }
   ],
   "source": [
    "X = np.arange(8)\n",
    "Y = X + 0.5\n",
    "C = 1.0 / np.subtract.outer(X, Y)\n",
    "print(np.linalg.det(C))"
   ]
  },
  {
   "cell_type": "markdown",
   "metadata": {},
   "source": [
    "## 打印每个numpy标量类型的最小值和最大值？"
   ]
  },
  {
   "cell_type": "code",
   "execution_count": 64,
   "metadata": {
    "collapsed": true
   },
   "outputs": [
    {
     "name": "stdout",
     "output_type": "stream",
     "text": [
      "-128\n",
      "127\n",
      "-2147483648\n",
      "2147483647\n",
      "-9223372036854775808\n",
      "9223372036854775807\n",
      "-3.4028235e+38\n",
      "3.4028235e+38\n",
      "1.1920929e-07\n",
      "-1.7976931348623157e+308\n",
      "1.7976931348623157e+308\n",
      "2.220446049250313e-16\n"
     ]
    }
   ],
   "source": [
    "for dtype in [np.int8, np.int32, np.int64]:\n",
    "    print(np.iinfo(dtype).min)\n",
    "    print(np.iinfo(dtype).max)\n",
    "for dtype in [np.float32, np.float64]:\n",
    "    print(np.finfo(dtype).min)\n",
    "    print(np.finfo(dtype).max)\n",
    "    print(np.finfo(dtype).eps)"
   ]
  },
  {
   "cell_type": "markdown",
   "metadata": {},
   "source": [
    "## 如何打印一个数组中的所有数值?"
   ]
  },
  {
   "cell_type": "code",
   "execution_count": 65,
   "metadata": {
    "collapsed": true
   },
   "outputs": [
    {
     "ename": "ValueError",
     "evalue": "threshold must be numeric and non-NAN, try sys.maxsize for untruncated representation",
     "output_type": "error",
     "traceback": [
      "\u001b[1;31m---------------------------------------------------------------------------\u001b[0m",
      "\u001b[1;31mValueError\u001b[0m                                Traceback (most recent call last)",
      "\u001b[1;32m<ipython-input-65-8e6bd600a6bc>\u001b[0m in \u001b[0;36m<module>\u001b[1;34m\u001b[0m\n\u001b[1;32m----> 1\u001b[1;33m \u001b[0mnp\u001b[0m\u001b[1;33m.\u001b[0m\u001b[0mset_printoptions\u001b[0m\u001b[1;33m(\u001b[0m\u001b[0mthreshold\u001b[0m\u001b[1;33m=\u001b[0m\u001b[0mnp\u001b[0m\u001b[1;33m.\u001b[0m\u001b[0mnan\u001b[0m\u001b[1;33m)\u001b[0m\u001b[1;33m\u001b[0m\u001b[1;33m\u001b[0m\u001b[0m\n\u001b[0m\u001b[0;32m      2\u001b[0m \u001b[0mZ\u001b[0m \u001b[1;33m=\u001b[0m \u001b[0mnp\u001b[0m\u001b[1;33m.\u001b[0m\u001b[0mzeros\u001b[0m\u001b[1;33m(\u001b[0m\u001b[1;33m(\u001b[0m\u001b[1;36m16\u001b[0m\u001b[1;33m,\u001b[0m\u001b[1;36m16\u001b[0m\u001b[1;33m)\u001b[0m\u001b[1;33m)\u001b[0m\u001b[1;33m\u001b[0m\u001b[1;33m\u001b[0m\u001b[0m\n\u001b[0;32m      3\u001b[0m \u001b[0mprint\u001b[0m\u001b[1;33m(\u001b[0m\u001b[0mZ\u001b[0m\u001b[1;33m)\u001b[0m\u001b[1;33m\u001b[0m\u001b[1;33m\u001b[0m\u001b[0m\n",
      "\u001b[1;32mc:\\Anaconda3\\lib\\site-packages\\numpy\\core\\arrayprint.py\u001b[0m in \u001b[0;36mset_printoptions\u001b[1;34m(precision, threshold, edgeitems, linewidth, suppress, nanstr, infstr, formatter, sign, floatmode, **kwarg)\u001b[0m\n\u001b[0;32m    244\u001b[0m     opt = _make_options_dict(precision, threshold, edgeitems, linewidth,\n\u001b[0;32m    245\u001b[0m                              \u001b[0msuppress\u001b[0m\u001b[1;33m,\u001b[0m \u001b[0mnanstr\u001b[0m\u001b[1;33m,\u001b[0m \u001b[0minfstr\u001b[0m\u001b[1;33m,\u001b[0m \u001b[0msign\u001b[0m\u001b[1;33m,\u001b[0m \u001b[0mformatter\u001b[0m\u001b[1;33m,\u001b[0m\u001b[1;33m\u001b[0m\u001b[1;33m\u001b[0m\u001b[0m\n\u001b[1;32m--> 246\u001b[1;33m                              floatmode, legacy)\n\u001b[0m\u001b[0;32m    247\u001b[0m     \u001b[1;31m# formatter is always reset\u001b[0m\u001b[1;33m\u001b[0m\u001b[1;33m\u001b[0m\u001b[1;33m\u001b[0m\u001b[0m\n\u001b[0;32m    248\u001b[0m     \u001b[0mopt\u001b[0m\u001b[1;33m[\u001b[0m\u001b[1;34m'formatter'\u001b[0m\u001b[1;33m]\u001b[0m \u001b[1;33m=\u001b[0m \u001b[0mformatter\u001b[0m\u001b[1;33m\u001b[0m\u001b[1;33m\u001b[0m\u001b[0m\n",
      "\u001b[1;32mc:\\Anaconda3\\lib\\site-packages\\numpy\\core\\arrayprint.py\u001b[0m in \u001b[0;36m_make_options_dict\u001b[1;34m(precision, threshold, edgeitems, linewidth, suppress, nanstr, infstr, sign, formatter, floatmode, legacy)\u001b[0m\n\u001b[0;32m     91\u001b[0m         \u001b[1;31m# forbid the bad threshold arg suggested by stack overflow, gh-12351\u001b[0m\u001b[1;33m\u001b[0m\u001b[1;33m\u001b[0m\u001b[1;33m\u001b[0m\u001b[0m\n\u001b[0;32m     92\u001b[0m         \u001b[1;32mif\u001b[0m \u001b[1;32mnot\u001b[0m \u001b[0misinstance\u001b[0m\u001b[1;33m(\u001b[0m\u001b[0mthreshold\u001b[0m\u001b[1;33m,\u001b[0m \u001b[0mnumbers\u001b[0m\u001b[1;33m.\u001b[0m\u001b[0mNumber\u001b[0m\u001b[1;33m)\u001b[0m \u001b[1;32mor\u001b[0m \u001b[0mnp\u001b[0m\u001b[1;33m.\u001b[0m\u001b[0misnan\u001b[0m\u001b[1;33m(\u001b[0m\u001b[0mthreshold\u001b[0m\u001b[1;33m)\u001b[0m\u001b[1;33m:\u001b[0m\u001b[1;33m\u001b[0m\u001b[1;33m\u001b[0m\u001b[0m\n\u001b[1;32m---> 93\u001b[1;33m             raise ValueError(\"threshold must be numeric and non-NAN, try \"\n\u001b[0m\u001b[0;32m     94\u001b[0m                              \"sys.maxsize for untruncated representation\")\n\u001b[0;32m     95\u001b[0m     \u001b[1;32mreturn\u001b[0m \u001b[0moptions\u001b[0m\u001b[1;33m\u001b[0m\u001b[1;33m\u001b[0m\u001b[0m\n",
      "\u001b[1;31mValueError\u001b[0m: threshold must be numeric and non-NAN, try sys.maxsize for untruncated representation"
     ]
    }
   ],
   "source": [
    "np.set_printoptions(threshold=np.nan)\n",
    "Z = np.zeros((16,16))\n",
    "print(Z)"
   ]
  },
  {
   "cell_type": "markdown",
   "metadata": {},
   "source": [
    "## 给定标量时，如何找到数组中最接近标量的值？"
   ]
  },
  {
   "cell_type": "code",
   "execution_count": 66,
   "metadata": {},
   "outputs": [
    {
     "name": "stdout",
     "output_type": "stream",
     "text": [
      "65\n"
     ]
    }
   ],
   "source": [
    "Z = np.arange(100)\n",
    "v = np.random.uniform(0,100)\n",
    "index = (np.abs(Z-v)).argmin()\n",
    "print (Z[index])"
   ]
  },
  {
   "cell_type": "code",
   "execution_count": null,
   "metadata": {},
   "outputs": [],
   "source": []
  }
 ],
 "metadata": {
  "hide_input": false,
  "kernelspec": {
   "display_name": "Python 3",
   "language": "python",
   "name": "python3"
  },
  "language_info": {
   "codemirror_mode": {
    "name": "ipython",
    "version": 3
   },
   "file_extension": ".py",
   "mimetype": "text/x-python",
   "name": "python",
   "nbconvert_exporter": "python",
   "pygments_lexer": "ipython3",
   "version": "3.7.4"
  },
  "toc": {
   "base_numbering": 1,
   "nav_menu": {},
   "number_sections": true,
   "sideBar": true,
   "skip_h1_title": false,
   "title_cell": "100道练习带你玩转Numpy",
   "title_sidebar": "100道练习带你玩转Numpy",
   "toc_cell": true,
   "toc_position": {},
   "toc_section_display": true,
   "toc_window_display": true
  },
  "varInspector": {
   "cols": {
    "lenName": 16,
    "lenType": 16,
    "lenVar": 40
   },
   "kernels_config": {
    "python": {
     "delete_cmd_postfix": "",
     "delete_cmd_prefix": "del ",
     "library": "var_list.py",
     "varRefreshCmd": "print(var_dic_list())"
    },
    "r": {
     "delete_cmd_postfix": ") ",
     "delete_cmd_prefix": "rm(",
     "library": "var_list.r",
     "varRefreshCmd": "cat(var_dic_list()) "
    }
   },
   "types_to_exclude": [
    "module",
    "function",
    "builtin_function_or_method",
    "instance",
    "_Feature"
   ],
   "window_display": false
  }
 },
 "nbformat": 4,
 "nbformat_minor": 4
}
